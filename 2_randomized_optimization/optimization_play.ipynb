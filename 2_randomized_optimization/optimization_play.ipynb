{
 "cells": [
  {
   "cell_type": "code",
   "execution_count": 25,
   "metadata": {},
   "outputs": [],
   "source": [
    "import mlrose_hiive\n",
    "import numpy as np\n",
    "\n",
    "from sklearn.datasets import load_iris\n",
    "from sklearn.model_selection import train_test_split\n",
    "from sklearn.preprocessing import MinMaxScaler, OneHotEncoder\n",
    "from sklearn.metrics import accuracy_score\n",
    "import matplotlib.pyplot as plt\n",
    "\n",
    "import mlrose_hiive as mlrose\n",
    "import numpy as np\n",
    "import pandas as pd\n",
    "import matplotlib.pyplot as plt\n",
    "\n",
    "from mlrose_hiive import MaxKColorGenerator, QueensGenerator, FlipFlopGenerator,\\\n",
    "      TSPGenerator, KnapsackGenerator, ContinuousPeaksGenerator\n",
    "from mlrose_hiive import SARunner, GARunner, NNGSRunner, MIMICRunner, RHCRunner\n",
    "from mlrose_hiive import SKMLPRunner"
   ]
  },
  {
   "cell_type": "code",
   "execution_count": 26,
   "metadata": {},
   "outputs": [
    {
     "data": {
      "text/html": [
       "<style>#sk-container-id-1 {color: black;}#sk-container-id-1 pre{padding: 0;}#sk-container-id-1 div.sk-toggleable {background-color: white;}#sk-container-id-1 label.sk-toggleable__label {cursor: pointer;display: block;width: 100%;margin-bottom: 0;padding: 0.3em;box-sizing: border-box;text-align: center;}#sk-container-id-1 label.sk-toggleable__label-arrow:before {content: \"▸\";float: left;margin-right: 0.25em;color: #696969;}#sk-container-id-1 label.sk-toggleable__label-arrow:hover:before {color: black;}#sk-container-id-1 div.sk-estimator:hover label.sk-toggleable__label-arrow:before {color: black;}#sk-container-id-1 div.sk-toggleable__content {max-height: 0;max-width: 0;overflow: hidden;text-align: left;background-color: #f0f8ff;}#sk-container-id-1 div.sk-toggleable__content pre {margin: 0.2em;color: black;border-radius: 0.25em;background-color: #f0f8ff;}#sk-container-id-1 input.sk-toggleable__control:checked~div.sk-toggleable__content {max-height: 200px;max-width: 100%;overflow: auto;}#sk-container-id-1 input.sk-toggleable__control:checked~label.sk-toggleable__label-arrow:before {content: \"▾\";}#sk-container-id-1 div.sk-estimator input.sk-toggleable__control:checked~label.sk-toggleable__label {background-color: #d4ebff;}#sk-container-id-1 div.sk-label input.sk-toggleable__control:checked~label.sk-toggleable__label {background-color: #d4ebff;}#sk-container-id-1 input.sk-hidden--visually {border: 0;clip: rect(1px 1px 1px 1px);clip: rect(1px, 1px, 1px, 1px);height: 1px;margin: -1px;overflow: hidden;padding: 0;position: absolute;width: 1px;}#sk-container-id-1 div.sk-estimator {font-family: monospace;background-color: #f0f8ff;border: 1px dotted black;border-radius: 0.25em;box-sizing: border-box;margin-bottom: 0.5em;}#sk-container-id-1 div.sk-estimator:hover {background-color: #d4ebff;}#sk-container-id-1 div.sk-parallel-item::after {content: \"\";width: 100%;border-bottom: 1px solid gray;flex-grow: 1;}#sk-container-id-1 div.sk-label:hover label.sk-toggleable__label {background-color: #d4ebff;}#sk-container-id-1 div.sk-serial::before {content: \"\";position: absolute;border-left: 1px solid gray;box-sizing: border-box;top: 0;bottom: 0;left: 50%;z-index: 0;}#sk-container-id-1 div.sk-serial {display: flex;flex-direction: column;align-items: center;background-color: white;padding-right: 0.2em;padding-left: 0.2em;position: relative;}#sk-container-id-1 div.sk-item {position: relative;z-index: 1;}#sk-container-id-1 div.sk-parallel {display: flex;align-items: stretch;justify-content: center;background-color: white;position: relative;}#sk-container-id-1 div.sk-item::before, #sk-container-id-1 div.sk-parallel-item::before {content: \"\";position: absolute;border-left: 1px solid gray;box-sizing: border-box;top: 0;bottom: 0;left: 50%;z-index: -1;}#sk-container-id-1 div.sk-parallel-item {display: flex;flex-direction: column;z-index: 1;position: relative;background-color: white;}#sk-container-id-1 div.sk-parallel-item:first-child::after {align-self: flex-end;width: 50%;}#sk-container-id-1 div.sk-parallel-item:last-child::after {align-self: flex-start;width: 50%;}#sk-container-id-1 div.sk-parallel-item:only-child::after {width: 0;}#sk-container-id-1 div.sk-dashed-wrapped {border: 1px dashed gray;margin: 0 0.4em 0.5em 0.4em;box-sizing: border-box;padding-bottom: 0.4em;background-color: white;}#sk-container-id-1 div.sk-label label {font-family: monospace;font-weight: bold;display: inline-block;line-height: 1.2em;}#sk-container-id-1 div.sk-label-container {text-align: center;}#sk-container-id-1 div.sk-container {/* jupyter's `normalize.less` sets `[hidden] { display: none; }` but bootstrap.min.css set `[hidden] { display: none !important; }` so we also need the `!important` here to be able to override the default hidden behavior on the sphinx rendered scikit-learn.org. See: https://github.com/scikit-learn/scikit-learn/issues/21755 */display: inline-block !important;position: relative;}#sk-container-id-1 div.sk-text-repr-fallback {display: none;}</style><div id=\"sk-container-id-1\" class=\"sk-top-container\"><div class=\"sk-text-repr-fallback\"><pre>NeuralNetwork(activation=&#x27;sigmoid&#x27;, clip_max=5, early_stopping=True,\n",
       "              hidden_nodes=[], learning_rate=0.01, max_attempts=100,\n",
       "              max_iters=1000, random_state=3)</pre><b>In a Jupyter environment, please rerun this cell to show the HTML representation or trust the notebook. <br />On GitHub, the HTML representation is unable to render, please try loading this page with nbviewer.org.</b></div><div class=\"sk-container\" hidden><div class=\"sk-item\"><div class=\"sk-estimator sk-toggleable\"><input class=\"sk-toggleable__control sk-hidden--visually\" id=\"sk-estimator-id-1\" type=\"checkbox\" checked><label for=\"sk-estimator-id-1\" class=\"sk-toggleable__label sk-toggleable__label-arrow\">NeuralNetwork</label><div class=\"sk-toggleable__content\"><pre>NeuralNetwork(activation=&#x27;sigmoid&#x27;, clip_max=5, early_stopping=True,\n",
       "              hidden_nodes=[], learning_rate=0.01, max_attempts=100,\n",
       "              max_iters=1000, random_state=3)</pre></div></div></div></div></div>"
      ],
      "text/plain": [
       "NeuralNetwork(activation='sigmoid', clip_max=5, early_stopping=True,\n",
       "              hidden_nodes=[], learning_rate=0.01, max_attempts=100,\n",
       "              max_iters=1000, random_state=3)"
      ]
     },
     "execution_count": 26,
     "metadata": {},
     "output_type": "execute_result"
    }
   ],
   "source": [
    "mlrose_hiive.NeuralNetwork(hidden_nodes = [], activation = 'sigmoid', \n",
    "                                    algorithm = 'random_hill_climb', \n",
    "                                    max_iters = 1000, bias = True, is_classifier = True, \n",
    "                                    learning_rate = 0.01, early_stopping = True, \n",
    "                                    clip_max = 5, max_attempts = 100, random_state = 3)"
   ]
  },
  {
   "cell_type": "code",
   "execution_count": 35,
   "metadata": {},
   "outputs": [],
   "source": [
    "problem_size = [10, 20, 40, 60, 100]#, 500, 1000] 500 error out\n",
    "flip_problem = FlipFlopGenerator().generate(size=20,seed=123456)\n",
    "queen_problem = QueensGenerator().generate(size=20,seed=123456)\n",
    "knap_problem = KnapsackGenerator().generate(number_of_items_types=10,seed=123456)"
   ]
  },
  {
   "cell_type": "code",
   "execution_count": 30,
   "metadata": {},
   "outputs": [],
   "source": [
    "# create a runner class and solve the problem\n",
    "rhc_run = RHCRunner(problem=queen_problem,\n",
    "              experiment_name='queens8_sa',\n",
    "              output_directory=None, # note: specify an output directory to have results saved to disk\n",
    "              seed=123456,\n",
    "              iteration_list=2 ** np.arange(11),\n",
    "              max_attempts=500,\n",
    "              restart_list=[20, 40, 60]\n",
    "              )\n",
    "\n",
    "# the two data frames will contain the results\n",
    "df_run_stats, df_run_curves = rhc_run.run()"
   ]
  },
  {
   "cell_type": "code",
   "execution_count": 33,
   "metadata": {},
   "outputs": [
    {
     "data": {
      "text/html": [
       "<div>\n",
       "<style scoped>\n",
       "    .dataframe tbody tr th:only-of-type {\n",
       "        vertical-align: middle;\n",
       "    }\n",
       "\n",
       "    .dataframe tbody tr th {\n",
       "        vertical-align: top;\n",
       "    }\n",
       "\n",
       "    .dataframe thead th {\n",
       "        text-align: right;\n",
       "    }\n",
       "</style>\n",
       "<table border=\"1\" class=\"dataframe\">\n",
       "  <thead>\n",
       "    <tr style=\"text-align: right;\">\n",
       "      <th></th>\n",
       "      <th>Iteration</th>\n",
       "      <th>Time</th>\n",
       "      <th>Fitness</th>\n",
       "      <th>FEvals</th>\n",
       "      <th>Restarts</th>\n",
       "      <th>max_iters</th>\n",
       "      <th>current_restart</th>\n",
       "    </tr>\n",
       "  </thead>\n",
       "  <tbody>\n",
       "    <tr>\n",
       "      <th>19916</th>\n",
       "      <td>519</td>\n",
       "      <td>0.319178</td>\n",
       "      <td>0.0</td>\n",
       "      <td>10387.0</td>\n",
       "      <td>20</td>\n",
       "      <td>1024</td>\n",
       "      <td>11</td>\n",
       "    </tr>\n",
       "  </tbody>\n",
       "</table>\n",
       "</div>"
      ],
      "text/plain": [
       "       Iteration      Time  Fitness   FEvals  Restarts  max_iters  \\\n",
       "19916        519  0.319178      0.0  10387.0        20       1024   \n",
       "\n",
       "       current_restart  \n",
       "19916               11  "
      ]
     },
     "execution_count": 33,
     "metadata": {},
     "output_type": "execute_result"
    }
   ],
   "source": [
    "df_run_curves[(df_run_curves['Fitness']==0)]"
   ]
  },
  {
   "cell_type": "code",
   "execution_count": 11,
   "metadata": {},
   "outputs": [],
   "source": [
    "# create a runner class and solve the problem\n",
    "sa_run = SARunner(problem=knap_problem,\n",
    "              experiment_name='queens8_sa',\n",
    "              output_directory=None, # note: specify an output directory to have results saved to disk\n",
    "              seed=123456,\n",
    "              iteration_list=2 ** np.arange(11),\n",
    "              max_attempts=500,\n",
    "              temperature_list=[0.1, 0.5, 0.75, 1.0, 2.0, 5.0],\n",
    "              decay_list=[mlrose.GeomDecay])\n",
    "\n",
    "# the two data frames will contain the results\n",
    "df_run_stats, df_run_curves = sa_run.run()"
   ]
  },
  {
   "cell_type": "code",
   "execution_count": 40,
   "metadata": {},
   "outputs": [],
   "source": [
    "def run_rhc_optimization(problem):\n",
    "    # create a runner class and solve the problem\n",
    "    rhc_run = RHCRunner(problem=problem,\n",
    "                experiment_name='queens8_sa',\n",
    "                output_directory=None, # note: specify an output directory to have results saved to disk\n",
    "                seed=123456,\n",
    "                iteration_list=2 ** np.arange(11),\n",
    "                max_attempts=500,\n",
    "                restart_list=[25, 75, 100]\n",
    "                )\n",
    "\n",
    "    # the two data frames will contain the results\n",
    "    df_run_stats, df_run_curves = rhc_run.run()\n",
    "    name = rhc_run.runner_name()\n",
    "    return df_run_stats, df_run_curves, name\n",
    "\n",
    "def run_ga_optimization(problem):\n",
    "    # create a runner class and solve the problem\n",
    "    ga_run = GARunner(problem=problem,\n",
    "                experiment_name='queens8_sa',\n",
    "                output_directory=None, # note: specify an output directory to have results saved to disk\n",
    "                seed=123456,\n",
    "                iteration_list=2 ** np.arange(11),\n",
    "                max_attempts=500,\n",
    "                population_sizes = [200, 400, 600],\n",
    "                mutation_rates = [0.25, 0.5, 0.75]\n",
    "                )\n",
    "\n",
    "    # the two data frames will contain the results\n",
    "    df_run_stats, df_run_curves = ga_run.run()\n",
    "    name = ga_run.runner_name()\n",
    "    return df_run_stats, df_run_curves, name\n",
    "\n",
    "def run_sa_optimization(problem):\n",
    "    # create a runner class and solve the problem\n",
    "    sa_run = SARunner(problem=problem,\n",
    "                experiment_name='queens8_sa',\n",
    "                output_directory=None, # note: specify an output directory to have results saved to disk\n",
    "                seed=123456,\n",
    "                iteration_list=2 ** np.arange(11),\n",
    "                max_attempts=500,\n",
    "                temperature_list=[0.1, 0.5, 0.75, 1.0, 2.0, 5.0],\n",
    "                decay_list=[mlrose.GeomDecay])\n",
    "\n",
    "    # the two data frames will contain the results\n",
    "    df_run_stats, df_run_curves = sa_run.run()\n",
    "    name = sa_run.runner_name()\n",
    "    return df_run_stats, df_run_curves, name\n",
    "\n",
    "\n",
    "def run_mimic_optimization(problem):\n",
    "    # create a runner class and solve the problem\n",
    "    mimic_run = MIMICRunner(problem=problem,\n",
    "                experiment_name='queens8_sa',\n",
    "                output_directory=None, # note: specify an output directory to have results saved to disk\n",
    "                seed=123456,\n",
    "                iteration_list=2 ** np.arange(11),\n",
    "                max_attempts=500,\n",
    "                population_sizes = [200, 400, 600],\n",
    "                keep_percent_list = [0.25, 0.5, 0.75]\n",
    "                )\n",
    "\n",
    "    # the two data frames will contain the results\n",
    "    df_run_stats, df_run_curves = mimic_run.run()\n",
    "    name = mimic_run.runner_name()\n",
    "    return df_run_stats, df_run_curves, name\n"
   ]
  },
  {
   "cell_type": "code",
   "execution_count": 41,
   "metadata": {},
   "outputs": [
    {
     "ename": "MemoryError",
     "evalue": "Unable to allocate 954. MiB for an array with shape (500, 500, 500) and data type float64",
     "output_type": "error",
     "traceback": [
      "\u001b[1;31m---------------------------------------------------------------------------\u001b[0m",
      "\u001b[1;31mMemoryError\u001b[0m                               Traceback (most recent call last)",
      "\u001b[1;32mc:\\Users\\lboad\\Documents\\omscs\\machine_learning\\2_randomized_optimization\\optimization_play.ipynb Cell 8\u001b[0m line \u001b[0;36m4\n\u001b[0;32m      <a href='vscode-notebook-cell:/c%3A/Users/lboad/Documents/omscs/machine_learning/2_randomized_optimization/optimization_play.ipynb#X43sZmlsZQ%3D%3D?line=1'>2</a>\u001b[0m \u001b[39mfor\u001b[39;00m size \u001b[39min\u001b[39;00m problem_size:\n\u001b[0;32m      <a href='vscode-notebook-cell:/c%3A/Users/lboad/Documents/omscs/machine_learning/2_randomized_optimization/optimization_play.ipynb#X43sZmlsZQ%3D%3D?line=2'>3</a>\u001b[0m     flip_problem \u001b[39m=\u001b[39m FlipFlopGenerator()\u001b[39m.\u001b[39mgenerate(size\u001b[39m=\u001b[39msize,seed\u001b[39m=\u001b[39m\u001b[39m123456\u001b[39m)\n\u001b[1;32m----> <a href='vscode-notebook-cell:/c%3A/Users/lboad/Documents/omscs/machine_learning/2_randomized_optimization/optimization_play.ipynb#X43sZmlsZQ%3D%3D?line=3'>4</a>\u001b[0m     queen_problem \u001b[39m=\u001b[39m QueensGenerator()\u001b[39m.\u001b[39;49mgenerate(size\u001b[39m=\u001b[39;49msize,seed\u001b[39m=\u001b[39;49m\u001b[39m123456\u001b[39;49m)\n\u001b[0;32m      <a href='vscode-notebook-cell:/c%3A/Users/lboad/Documents/omscs/machine_learning/2_randomized_optimization/optimization_play.ipynb#X43sZmlsZQ%3D%3D?line=4'>5</a>\u001b[0m     knap_problem \u001b[39m=\u001b[39m KnapsackGenerator()\u001b[39m.\u001b[39mgenerate(number_of_items_types\u001b[39m=\u001b[39msize,seed\u001b[39m=\u001b[39m\u001b[39m123456\u001b[39m)\n\u001b[0;32m      <a href='vscode-notebook-cell:/c%3A/Users/lboad/Documents/omscs/machine_learning/2_randomized_optimization/optimization_play.ipynb#X43sZmlsZQ%3D%3D?line=5'>6</a>\u001b[0m     flip_string \u001b[39m=\u001b[39m \u001b[39m'\u001b[39m\u001b[39mflip_flop\u001b[39m\u001b[39m'\u001b[39m\n",
      "File \u001b[1;32mc:\\Users\\lboad\\py_venv\\ml\\lib\\site-packages\\mlrose_hiive\\generators\\queens_generator.py:10\u001b[0m, in \u001b[0;36mQueensGenerator.generate\u001b[1;34m(seed, size)\u001b[0m\n\u001b[0;32m      7\u001b[0m \u001b[39m@staticmethod\u001b[39m\n\u001b[0;32m      8\u001b[0m \u001b[39mdef\u001b[39;00m \u001b[39mgenerate\u001b[39m(seed, size\u001b[39m=\u001b[39m\u001b[39m20\u001b[39m):\n\u001b[0;32m      9\u001b[0m     np\u001b[39m.\u001b[39mrandom\u001b[39m.\u001b[39mseed(seed)\n\u001b[1;32m---> 10\u001b[0m     problem \u001b[39m=\u001b[39m QueensOpt(length\u001b[39m=\u001b[39;49msize)\n\u001b[0;32m     11\u001b[0m     \u001b[39mreturn\u001b[39;00m problem\n",
      "File \u001b[1;32mc:\\Users\\lboad\\py_venv\\ml\\lib\\site-packages\\mlrose_hiive\\opt_probs\\queens_opt.py:32\u001b[0m, in \u001b[0;36mQueensOpt.__init__\u001b[1;34m(self, length, fitness_fn, maximize, crossover, mutator)\u001b[0m\n\u001b[0;32m     30\u001b[0m crossover \u001b[39m=\u001b[39m UniformCrossOver(\u001b[39mself\u001b[39m) \u001b[39mif\u001b[39;00m crossover \u001b[39mis\u001b[39;00m \u001b[39mNone\u001b[39;00m \u001b[39melse\u001b[39;00m crossover\n\u001b[0;32m     31\u001b[0m mutator \u001b[39m=\u001b[39m ChangeOneMutator(\u001b[39mself\u001b[39m) \u001b[39mif\u001b[39;00m mutator \u001b[39mis\u001b[39;00m \u001b[39mNone\u001b[39;00m \u001b[39melse\u001b[39;00m mutator\n\u001b[1;32m---> 32\u001b[0m \u001b[39msuper\u001b[39;49m()\u001b[39m.\u001b[39;49m\u001b[39m__init__\u001b[39;49m(length, fitness_fn, maximize, length, crossover, mutator)\n\u001b[0;32m     34\u001b[0m state \u001b[39m=\u001b[39m np\u001b[39m.\u001b[39mrandom\u001b[39m.\u001b[39mrandint(\u001b[39mself\u001b[39m\u001b[39m.\u001b[39mlength, size\u001b[39m=\u001b[39m\u001b[39mself\u001b[39m\u001b[39m.\u001b[39mlength)\n\u001b[0;32m     35\u001b[0m np\u001b[39m.\u001b[39mrandom\u001b[39m.\u001b[39mshuffle(state)\n",
      "File \u001b[1;32mc:\\Users\\lboad\\py_venv\\ml\\lib\\site-packages\\mlrose_hiive\\opt_probs\\discrete_opt.py:61\u001b[0m, in \u001b[0;36mDiscreteOpt.__init__\u001b[1;34m(self, length, fitness_fn, maximize, max_val, crossover, mutator)\u001b[0m\n\u001b[0;32m     58\u001b[0m     \u001b[39mself\u001b[39m\u001b[39m.\u001b[39mmax_val \u001b[39m=\u001b[39m max_val\n\u001b[0;32m     60\u001b[0m \u001b[39mself\u001b[39m\u001b[39m.\u001b[39mkeep_sample \u001b[39m=\u001b[39m []\n\u001b[1;32m---> 61\u001b[0m \u001b[39mself\u001b[39m\u001b[39m.\u001b[39mnode_probs \u001b[39m=\u001b[39m np\u001b[39m.\u001b[39;49mzeros([\u001b[39mself\u001b[39;49m\u001b[39m.\u001b[39;49mlength, \u001b[39mself\u001b[39;49m\u001b[39m.\u001b[39;49mmax_val, \u001b[39mself\u001b[39;49m\u001b[39m.\u001b[39;49mmax_val])\n\u001b[0;32m     62\u001b[0m \u001b[39mself\u001b[39m\u001b[39m.\u001b[39mparent_nodes \u001b[39m=\u001b[39m []\n\u001b[0;32m     63\u001b[0m \u001b[39mself\u001b[39m\u001b[39m.\u001b[39msample_order \u001b[39m=\u001b[39m []\n",
      "\u001b[1;31mMemoryError\u001b[0m: Unable to allocate 954. MiB for an array with shape (500, 500, 500) and data type float64"
     ]
    }
   ],
   "source": [
    "count = 1\n",
    "for size in problem_size:\n",
    "    flip_problem = FlipFlopGenerator().generate(size=size,seed=123456)\n",
    "    queen_problem = QueensGenerator().generate(size=size,seed=123456)\n",
    "    knap_problem = KnapsackGenerator().generate(number_of_items_types=size,seed=123456)\n",
    "    flip_string = 'flip_flop'\n",
    "    queen_string = 'queen'\n",
    "    knap_string = 'knap'\n",
    "    problem_lst = [(flip_problem, flip_string), (queen_problem,queen_string),\\\n",
    "                    (knap_problem, knap_string)]\n",
    "    algo_string = f'mimic_results_{count}.csv'\n",
    "\n",
    "    for problem in problem_lst:\n",
    "        opt_problem = problem[0]\n",
    "        problem_name = problem[1]\n",
    "\n",
    "        # run experiments for randomized hill climbing\n",
    "        df_stats, df_curves, name = run_rhc_optimization(problem=opt_problem)\n",
    "        df_stats.to_csv(f'{name}_stats_{problem_name}_size_{size}_iteration_{count}.csv')\n",
    "        df_curves.to_csv(f'{name}_curves_{problem_name}_size_{size}_iteration_{count}.csv')\n",
    "        \n",
    "        # run experiments for genetic algorithms\n",
    "        df_stats, df_curves, name = run_ga_optimization(problem=opt_problem)\n",
    "        df_stats.to_csv(f'{name}_stats_{problem_name}_size_{size}_iteration_{count}.csv')\n",
    "        df_curves.to_csv(f'{name}_curves_{problem_name}_size_{size}_iteration_{count}.csv')\n",
    "        \n",
    "        # run experiments for simulated annealing\n",
    "        df_stats, df_curves, name = run_sa_optimization(problem=opt_problem)\n",
    "        df_stats.to_csv(f'{name}_stats_{problem_name}_size_{size}_iteration_{count}.csv')\n",
    "        df_curves.to_csv(f'{name}_curves_{problem_name}_size_{size}_iteration_{count}.csv')\n",
    "        \n",
    "        # run experiments for mimic\n",
    "        df_stats, df_curves, name = run_mimic_optimization(problem=opt_problem)\n",
    "        df_stats.to_csv(f'{name}_stats_{problem_name}_size_{size}_iteration_{count}.csv')\n",
    "        df_curves.to_csv(f'{name}_curves_{problem_name}_size_{size}_iteration_{count}.csv')\n",
    "\n",
    "    count = count + 1"
   ]
  },
  {
   "cell_type": "code",
   "execution_count": null,
   "metadata": {},
   "outputs": [],
   "source": []
  }
 ],
 "metadata": {
  "kernelspec": {
   "display_name": "ml",
   "language": "python",
   "name": "python3"
  },
  "language_info": {
   "codemirror_mode": {
    "name": "ipython",
    "version": 3
   },
   "file_extension": ".py",
   "mimetype": "text/x-python",
   "name": "python",
   "nbconvert_exporter": "python",
   "pygments_lexer": "ipython3",
   "version": "3.10.11"
  },
  "orig_nbformat": 4
 },
 "nbformat": 4,
 "nbformat_minor": 2
}
