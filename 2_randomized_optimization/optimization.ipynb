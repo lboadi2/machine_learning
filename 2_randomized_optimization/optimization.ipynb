{
 "cells": [
  {
   "cell_type": "code",
   "execution_count": 1,
   "metadata": {},
   "outputs": [],
   "source": [
    "import mlrose_hiive as mlrose\n",
    "import numpy as np\n",
    "import pandas as pd\n",
    "import matplotlib.pyplot as plt\n",
    "import os\n",
    "from sklearn.preprocessing import OneHotEncoder, StandardScaler\n",
    "from sklearn.model_selection import ShuffleSplit, train_test_split\n",
    "from sklearn.compose import make_column_transformer\n",
    "\n",
    "from mlrose_hiive import MaxKColorGenerator, QueensGenerator, FlipFlopGenerator,\\\n",
    "      TSPGenerator, KnapsackGenerator, ContinuousPeaksGenerator\n",
    "from mlrose_hiive import SARunner, GARunner, NNGSRunner, MIMICRunner, RHCRunner\n",
    "from mlrose_hiive import SKMLPRunner"
   ]
  },
  {
   "cell_type": "markdown",
   "metadata": {},
   "source": [
    "## Data Pre-processing"
   ]
  },
  {
   "cell_type": "code",
   "execution_count": 2,
   "metadata": {},
   "outputs": [],
   "source": [
    "red_wine = os.path.join('data','wine', 'winequality-red.csv')\n",
    "white_wine = os.path.join('data','wine', 'winequality-white.csv')\n",
    "turbine = os.path.join('data','turbine','gt_2011.csv')\n",
    "mushrooms = os.path.join('data','mushroom','secondary_data.csv')\n",
    "\n",
    "# encoders to use\n",
    "scale = StandardScaler()\n",
    "s_split = ShuffleSplit()\n",
    "ohe = OneHotEncoder(sparse_output=False)\n",
    "\n",
    "transformer = make_column_transformer(\n",
    "    (\n",
    "        ohe, \n",
    "        [\n",
    "        'cap-shape', 'cap-surface', 'cap-color',\n",
    "       'does-bruise-or-bleed', 'gill-attachment','gill-spacing', 'gill-color', \n",
    "       'stem-root', 'stem-surface', 'stem-color','veil-type', 'veil-color',\n",
    "        'has-ring', 'ring-type', 'spore-print-color','habitat', 'season'\n",
    "        ]\n",
    "        ),\n",
    "    remainder='passthrough'\n",
    "    )\n",
    "\n",
    "shroom_df = pd.read_csv(mushrooms,sep=';').sample(frac=1).reset_index(drop=True)\n",
    "x = shroom_df.iloc[:,1:].copy()\n",
    "x_shroom = pd.DataFrame(transformer.fit_transform(x), \n",
    "                columns=transformer.get_feature_names_out())\n",
    "y = shroom_df.iloc[:,0].copy()\n",
    "y_shroom = (y == 'p')\n",
    "\n",
    "\n",
    "# reduce the number of training examples\n",
    "x_shroom = x_shroom[:7000]\n",
    "y_shroom =  y_shroom[:7000]\n",
    "\n",
    "x_shroom_train, x_shroom_test, y_shroom_train, y_shroom_test = train_test_split(\n",
    "    x_shroom, y_shroom, test_size=0.2)\n"
   ]
  },
  {
   "cell_type": "markdown",
   "metadata": {},
   "source": [
    "## Neural Network"
   ]
  },
  {
   "cell_type": "code",
   "execution_count": 3,
   "metadata": {},
   "outputs": [
    {
     "name": "stdout",
     "output_type": "stream",
     "text": [
      "Fitting 5 folds for each of 72 candidates, totalling 360 fits\n"
     ]
    }
   ],
   "source": [
    "grid_search_parameters = ({\n",
    "    \"activation\": [mlrose.neural.activation.relu],\n",
    "    \"is_classifier\": [True],\n",
    "    'max_iters': [1, 2, 4, 8, 16, 32, 64, 128],                     # nn params\n",
    "    'learning_rate': [0.001, 0.002, 0.003],                         # nn params\n",
    "    'schedule': [mlrose.ArithDecay(1), mlrose.ArithDecay(100), mlrose.ArithDecay(1000)],  # sa params\n",
    "})\n",
    "\n",
    "nnr = NNGSRunner(x_train=x_shroom_train,\n",
    "                    y_train=y_shroom_train,\n",
    "                    x_test=x_shroom_test,\n",
    "                    y_test=y_shroom_test,\n",
    "                    experiment_name='nn_test',\n",
    "                    algorithm=mlrose.algorithms.sa.simulated_annealing,\n",
    "                    grid_search_parameters=grid_search_parameters,\n",
    "                    iteration_list=[1, 10, 50, 100, 250, 500, 1000, 2500, 5000, 10000],\n",
    "                    hidden_layer_sizes=[[10], [20], [40]],\n",
    "                    bias=True,\n",
    "                    early_stopping=False,\n",
    "                    clip_max=1e+10,\n",
    "                    max_attempts=500,\n",
    "                    generate_curves=True,\n",
    "                    seed=123456)\n",
    "\n",
    "run_stats_df, curves_df, cv_results_df, sr = nnr.run()          # GridSearchCV instance returned   "
   ]
  },
  {
   "cell_type": "code",
   "execution_count": 7,
   "metadata": {},
   "outputs": [
    {
     "data": {
      "text/html": [
       "<style>#sk-container-id-2 {color: black;}#sk-container-id-2 pre{padding: 0;}#sk-container-id-2 div.sk-toggleable {background-color: white;}#sk-container-id-2 label.sk-toggleable__label {cursor: pointer;display: block;width: 100%;margin-bottom: 0;padding: 0.3em;box-sizing: border-box;text-align: center;}#sk-container-id-2 label.sk-toggleable__label-arrow:before {content: \"▸\";float: left;margin-right: 0.25em;color: #696969;}#sk-container-id-2 label.sk-toggleable__label-arrow:hover:before {color: black;}#sk-container-id-2 div.sk-estimator:hover label.sk-toggleable__label-arrow:before {color: black;}#sk-container-id-2 div.sk-toggleable__content {max-height: 0;max-width: 0;overflow: hidden;text-align: left;background-color: #f0f8ff;}#sk-container-id-2 div.sk-toggleable__content pre {margin: 0.2em;color: black;border-radius: 0.25em;background-color: #f0f8ff;}#sk-container-id-2 input.sk-toggleable__control:checked~div.sk-toggleable__content {max-height: 200px;max-width: 100%;overflow: auto;}#sk-container-id-2 input.sk-toggleable__control:checked~label.sk-toggleable__label-arrow:before {content: \"▾\";}#sk-container-id-2 div.sk-estimator input.sk-toggleable__control:checked~label.sk-toggleable__label {background-color: #d4ebff;}#sk-container-id-2 div.sk-label input.sk-toggleable__control:checked~label.sk-toggleable__label {background-color: #d4ebff;}#sk-container-id-2 input.sk-hidden--visually {border: 0;clip: rect(1px 1px 1px 1px);clip: rect(1px, 1px, 1px, 1px);height: 1px;margin: -1px;overflow: hidden;padding: 0;position: absolute;width: 1px;}#sk-container-id-2 div.sk-estimator {font-family: monospace;background-color: #f0f8ff;border: 1px dotted black;border-radius: 0.25em;box-sizing: border-box;margin-bottom: 0.5em;}#sk-container-id-2 div.sk-estimator:hover {background-color: #d4ebff;}#sk-container-id-2 div.sk-parallel-item::after {content: \"\";width: 100%;border-bottom: 1px solid gray;flex-grow: 1;}#sk-container-id-2 div.sk-label:hover label.sk-toggleable__label {background-color: #d4ebff;}#sk-container-id-2 div.sk-serial::before {content: \"\";position: absolute;border-left: 1px solid gray;box-sizing: border-box;top: 0;bottom: 0;left: 50%;z-index: 0;}#sk-container-id-2 div.sk-serial {display: flex;flex-direction: column;align-items: center;background-color: white;padding-right: 0.2em;padding-left: 0.2em;position: relative;}#sk-container-id-2 div.sk-item {position: relative;z-index: 1;}#sk-container-id-2 div.sk-parallel {display: flex;align-items: stretch;justify-content: center;background-color: white;position: relative;}#sk-container-id-2 div.sk-item::before, #sk-container-id-2 div.sk-parallel-item::before {content: \"\";position: absolute;border-left: 1px solid gray;box-sizing: border-box;top: 0;bottom: 0;left: 50%;z-index: -1;}#sk-container-id-2 div.sk-parallel-item {display: flex;flex-direction: column;z-index: 1;position: relative;background-color: white;}#sk-container-id-2 div.sk-parallel-item:first-child::after {align-self: flex-end;width: 50%;}#sk-container-id-2 div.sk-parallel-item:last-child::after {align-self: flex-start;width: 50%;}#sk-container-id-2 div.sk-parallel-item:only-child::after {width: 0;}#sk-container-id-2 div.sk-dashed-wrapped {border: 1px dashed gray;margin: 0 0.4em 0.5em 0.4em;box-sizing: border-box;padding-bottom: 0.4em;background-color: white;}#sk-container-id-2 div.sk-label label {font-family: monospace;font-weight: bold;display: inline-block;line-height: 1.2em;}#sk-container-id-2 div.sk-label-container {text-align: center;}#sk-container-id-2 div.sk-container {/* jupyter's `normalize.less` sets `[hidden] { display: none; }` but bootstrap.min.css set `[hidden] { display: none !important; }` so we also need the `!important` here to be able to override the default hidden behavior on the sphinx rendered scikit-learn.org. See: https://github.com/scikit-learn/scikit-learn/issues/21755 */display: inline-block !important;position: relative;}#sk-container-id-2 div.sk-text-repr-fallback {display: none;}</style><div id=\"sk-container-id-2\" class=\"sk-top-container\"><div class=\"sk-text-repr-fallback\"><pre>NNClassifier(activation=&lt;function relu at 0x000001DE9324F400&gt;,\n",
       "             algorithm=&lt;function simulated_annealing at 0x000001DE9324DBD0&gt;,\n",
       "             hidden_layer_sizes=[44, 44], is_classifier=True,\n",
       "             learning_rate=0.001, max_attempts=500, max_iters=128,\n",
       "             runner=&lt;mlrose_hiive.runners.nngs_runner.NNGSRunner object at 0x000001DEA7400310&gt;,\n",
       "             schedule=ArithDecay(init_temp=1, decay=0.0001, min_temp=0.001),\n",
       "             seed=123456)</pre><b>In a Jupyter environment, please rerun this cell to show the HTML representation or trust the notebook. <br />On GitHub, the HTML representation is unable to render, please try loading this page with nbviewer.org.</b></div><div class=\"sk-container\" hidden><div class=\"sk-item\"><div class=\"sk-estimator sk-toggleable\"><input class=\"sk-toggleable__control sk-hidden--visually\" id=\"sk-estimator-id-4\" type=\"checkbox\" checked><label for=\"sk-estimator-id-4\" class=\"sk-toggleable__label sk-toggleable__label-arrow\">NNClassifier</label><div class=\"sk-toggleable__content\"><pre>NNClassifier(activation=&lt;function relu at 0x000001DE9324F400&gt;,\n",
       "             algorithm=&lt;function simulated_annealing at 0x000001DE9324DBD0&gt;,\n",
       "             hidden_layer_sizes=[44, 44], is_classifier=True,\n",
       "             learning_rate=0.001, max_attempts=500, max_iters=128,\n",
       "             runner=&lt;mlrose_hiive.runners.nngs_runner.NNGSRunner object at 0x000001DEA7400310&gt;,\n",
       "             schedule=ArithDecay(init_temp=1, decay=0.0001, min_temp=0.001),\n",
       "             seed=123456)</pre></div></div></div></div></div>"
      ],
      "text/plain": [
       "NNClassifier(activation=<function relu at 0x000001DE9324F400>,\n",
       "             algorithm=<function simulated_annealing at 0x000001DE9324DBD0>,\n",
       "             hidden_layer_sizes=[44, 44], is_classifier=True,\n",
       "             learning_rate=0.001, max_attempts=500, max_iters=128,\n",
       "             runner=<mlrose_hiive.runners.nngs_runner.NNGSRunner object at 0x000001DEA7400310>,\n",
       "             schedule=ArithDecay(init_temp=1, decay=0.0001, min_temp=0.001),\n",
       "             seed=123456)"
      ]
     },
     "execution_count": 7,
     "metadata": {},
     "output_type": "execute_result"
    }
   ],
   "source": [
    "sr.best_estimator_"
   ]
  },
  {
   "cell_type": "code",
   "execution_count": null,
   "metadata": {},
   "outputs": [],
   "source": [
    "# Tune max_iters and learning_rate_init\n",
    "grid_search = {\n",
    "    \"max_iters\": [5000, 10000, 25000, 50000],\n",
    "    \"learning_rate_init\": [0.001, 0.1, 0.1, 0.5, 1],\n",
    "    \"hidden_layers_sizes\": [[6, 6]],\n",
    "    \"activation\": [mlrose.neural.activation.relu],\n",
    "    \"is_classifier\": [True],\n",
    "}\n",
    "\n",
    "runner = NNGSRunner(x_train=x_shroom_train,\n",
    "                    y_train=y_shroom_train,\n",
    "                    x_test=x_shroom_test,\n",
    "                    y_test=y_shroom_test,\n",
    "                           experiment_name=\"full_grid_search\",\n",
    "                           algorithm=mlrose.algorithms.gradient_descent,\n",
    "                           grid_search_parameters=grid_search,\n",
    "                           iteration_list = [1000, 2500, 5000, 10000],\n",
    "                           hidden_layer_sizes=[[6,6]],\n",
    "                           bias=True,\n",
    "                           early_stopping=True,\n",
    "                           clip_max=1,\n",
    "                           max_attempts=1000,\n",
    "                           generate_curves=True,\n",
    "                           seed=123456,\n",
    "                           n_jobs=-1\n",
    "                          )\n",
    "run_stats, curves, cv_results, best_est = runner.run()"
   ]
  },
  {
   "cell_type": "markdown",
   "metadata": {},
   "source": [
    "## Define Fitness Functions"
   ]
  },
  {
   "cell_type": "markdown",
   "metadata": {},
   "source": [
    "### N-Queens"
   ]
  },
  {
   "cell_type": "code",
   "execution_count": null,
   "metadata": {},
   "outputs": [],
   "source": [
    "fitness = mlrose.Queens()\n",
    "four_fitness = mlrose.FourPeaks()\n",
    "weights = [10, 5, 2, 8, 15, 13, 18, 25]\n",
    "values = list(np.arange(1, 9))\n",
    "max_weight_pct = 0.5\n",
    "knap_fitness = mlrose.Knapsack(weights, values, max_weight_pct)"
   ]
  },
  {
   "cell_type": "code",
   "execution_count": null,
   "metadata": {},
   "outputs": [],
   "source": [
    "problem = mlrose.DiscreteOpt(\n",
    "    length = 8, fitness_fn = fitness, \n",
    "    maximize = False, max_val = 8\n",
    "    )\n",
    "\n",
    "four_problem = mlrose.DiscreteOpt(\n",
    "    length = 8, fitness_fn = four_fitness, \n",
    "    maximize = False, max_val = 2\n",
    "    )\n",
    "\n",
    "knap_problem = mlrose.DiscreteOpt(\n",
    "    length = 8, fitness_fn = knap_fitness, \n",
    "    maximize = False, max_val = 8\n",
    "    )"
   ]
  },
  {
   "cell_type": "code",
   "execution_count": null,
   "metadata": {},
   "outputs": [],
   "source": [
    "import numpy as np\n",
    "weights = [10, 5, 2, 8, 15]\n",
    "values = [1, 2, 3, 4, 5]\n",
    "max_weight_pct = 0.6\n",
    "fitness = mlrose.Knapsack(weights, values, max_weight_pct)\n",
    "state = np.array([1, 0, 2, 1, 0])\n",
    "fitness.evaluate(state)"
   ]
  },
  {
   "cell_type": "code",
   "execution_count": null,
   "metadata": {},
   "outputs": [],
   "source": [
    "# a function to run an N-queens problem using\n",
    "# define a fitness function"
   ]
  },
  {
   "cell_type": "code",
   "execution_count": null,
   "metadata": {},
   "outputs": [],
   "source": [
    "# Define decay schedule\n",
    "schedule = mlrose.ExpDecay()\n",
    "\n",
    "# Define initial state\n",
    "init_state = np.array([0, 1, 2, 3, 4, 5, 6, 7])\n",
    "\n",
    "# Solve problem using simulated annealing\n",
    "best_state, best_fitness, curve = mlrose.simulated_annealing(\n",
    "    four_problem, schedule = schedule,\n",
    "    max_attempts = 10, max_iters = 1000,\n",
    "    init_state = init_state, random_state = 123321,\n",
    "    curve=True\n",
    "    )\n",
    "\n",
    "print(best_state)\n",
    "print(best_fitness)\n",
    "fig, ax = plt.subplots()\n",
    "ax.plot(curve[:,1], curve[:,0])\n",
    "plt.show()"
   ]
  },
  {
   "cell_type": "code",
   "execution_count": null,
   "metadata": {},
   "outputs": [],
   "source": [
    "# Solve problem using MIMIC\n",
    "best_state, best_fitness, curve = mlrose.mimic(\n",
    "    four_problem, max_attempts = 10, max_iters = 1000,\n",
    "    random_state = 123321, curve=True\n",
    "    )\n",
    "\n",
    "print(best_state)\n",
    "print(best_fitness)\n",
    "fig, ax = plt.subplots()\n",
    "ax.plot(curve[:,1], curve[:,0])\n",
    "plt.show()"
   ]
  },
  {
   "cell_type": "code",
   "execution_count": null,
   "metadata": {},
   "outputs": [],
   "source": [
    "# create a runner class and solve the problem\n",
    "sa_run = SARunner(problem=four_problem,\n",
    "              experiment_name='queens8_sa',\n",
    "              output_directory=None, # note: specify an output directory to have results saved to disk\n",
    "              seed=123456,\n",
    "              iteration_list=2 ** np.arange(11),\n",
    "              max_attempts=500,\n",
    "              temperature_list=[0.1, 0.5, 0.75, 1.0, 2.0, 5.0],\n",
    "              decay_list=[mlrose.GeomDecay])\n",
    "\n",
    "# the two data frames will contain the results\n",
    "df_run_stats, df_run_curves = sa_run.run()"
   ]
  },
  {
   "cell_type": "code",
   "execution_count": null,
   "metadata": {},
   "outputs": [],
   "source": [
    "df_run_curves"
   ]
  },
  {
   "cell_type": "code",
   "execution_count": null,
   "metadata": {},
   "outputs": [],
   "source": [
    "# create a runner class and solve the problem\n",
    "mimic_run = MIMICRunner(problem=problem,\n",
    "              experiment_name='queens8_sa',\n",
    "              output_directory=None, # note: specify an output directory to have results saved to disk\n",
    "              seed=123456,\n",
    "              iteration_list=2 ** np.arange(11),\n",
    "              max_attempts=500,\n",
    "              population_sizes = [200],\n",
    "              keep_percent_list = [0.25, 0.5, 0.75]\n",
    "              )\n",
    "\n",
    "# the two data frames will contain the results\n",
    "df_run_stats, df_run_curves = mimic_run.run()"
   ]
  },
  {
   "cell_type": "code",
   "execution_count": null,
   "metadata": {},
   "outputs": [],
   "source": [
    "df_run_curves"
   ]
  },
  {
   "cell_type": "code",
   "execution_count": null,
   "metadata": {},
   "outputs": [],
   "source": [
    "sa_run.runner_name()"
   ]
  },
  {
   "cell_type": "code",
   "execution_count": null,
   "metadata": {},
   "outputs": [],
   "source": [
    "# create a runner class and solve the problem\n",
    "ga_run = GARunner(problem=problem,\n",
    "              experiment_name='queens8_sa',\n",
    "              output_directory=None, # note: specify an output directory to have results saved to disk\n",
    "              seed=123456,\n",
    "              iteration_list=2 ** np.arange(11),\n",
    "              max_attempts=500,\n",
    "              population_sizes = [200],\n",
    "              mutation_rates = [0.25, 0.5, 0.75]\n",
    "              )\n",
    "\n",
    "# the two data frames will contain the results\n",
    "df_run_stats, df_run_curves = ga_run.run()"
   ]
  },
  {
   "cell_type": "code",
   "execution_count": null,
   "metadata": {},
   "outputs": [],
   "source": [
    "df_run_curves"
   ]
  },
  {
   "cell_type": "code",
   "execution_count": null,
   "metadata": {},
   "outputs": [],
   "source": [
    "# create a runner class and solve the problem\n",
    "rhc_run = RHCRunner(problem=problem,\n",
    "              experiment_name='queens8_sa',\n",
    "              output_directory=None, # note: specify an output directory to have results saved to disk\n",
    "              seed=123456,\n",
    "              iteration_list=2 ** np.arange(11),\n",
    "              max_attempts=500,\n",
    "              restart_list=[25, 75, 100]\n",
    "              )\n",
    "\n",
    "# the two data frames will contain the results\n",
    "df_run_stats, df_run_curves = rhc_run.run()"
   ]
  },
  {
   "cell_type": "code",
   "execution_count": null,
   "metadata": {},
   "outputs": [],
   "source": [
    "df_run_curves[(df_run_curves['Fitness']==0) & (df_run_curves['Iteration']<20)]"
   ]
  },
  {
   "cell_type": "code",
   "execution_count": null,
   "metadata": {},
   "outputs": [],
   "source": [
    "# Define initial state\n",
    "init_state = np.array([0, 1, 2, 3, 4, 5, 6, 7])\n",
    "\n",
    "# Solve problem using simulated annealing\n",
    "best_state, best_fitness, curve = mlrose.random_hill_climb(\n",
    "    problem, max_attempts = 10, max_iters = 1000,\n",
    "    init_state = init_state, random_state = 123321,\n",
    "    curve=True\n",
    "    )\n",
    "\n",
    "print(best_state)\n",
    "print(best_fitness)\n",
    "fig, ax = plt.subplots()\n",
    "ax.plot(curve[:,1], curve[:,0])\n",
    "plt.show()"
   ]
  },
  {
   "cell_type": "code",
   "execution_count": null,
   "metadata": {},
   "outputs": [],
   "source": [
    "# Define initial state\n",
    "init_state = np.array([0, 1, 2, 3, 4, 5, 6, 7])\n",
    "\n",
    "# Solve problem using genetic algorithms\n",
    "best_state, best_fitness, curve = mlrose.genetic_alg(\n",
    "    problem, pop_size=200, mutation_prob=0.1, max_attempts=10, \n",
    "    max_iters=1000, curve=True, random_state=123321\n",
    "    )\n",
    "\n",
    "print(best_state)\n",
    "print(best_fitness)\n",
    "fig, ax = plt.subplots()\n",
    "ax.plot(curve[:,1], curve[:,0])\n",
    "plt.show()"
   ]
  },
  {
   "cell_type": "code",
   "execution_count": null,
   "metadata": {},
   "outputs": [],
   "source": [
    "# Define initial state\n",
    "init_state = np.array([0, 1, 2, 3, 4, 5, 6, 7])\n",
    "\n",
    "# Solve problem using MIMIC\n",
    "best_state, best_fitness, curve = mlrose.mimic(\n",
    "    problem, pop_size=50, keep_pct=0.01, max_attempts=10,\n",
    "    max_iters=100, curve=True, random_state=123321\n",
    "    )\n",
    "\n",
    "print(best_state)\n",
    "print(best_fitness)\n",
    "fig, ax = plt.subplots()\n",
    "ax.plot(curve[:,1], curve[:,0])\n",
    "plt.show()"
   ]
  },
  {
   "cell_type": "markdown",
   "metadata": {},
   "source": [
    "### Neural Network"
   ]
  },
  {
   "cell_type": "code",
   "execution_count": null,
   "metadata": {},
   "outputs": [],
   "source": [
    "nn = mlrose.NeuralNetwork(hidden_nodes = [], activation = 'sigmoid', \n",
    "                                    algorithm = 'random_hill_climb', \n",
    "                                    max_iters = 1000, bias = True, is_classifier = True, \n",
    "                                    learning_rate = 0.01, early_stopping = True, \n",
    "                                    clip_max = 5, max_attempts = 100, random_state = 3)"
   ]
  },
  {
   "cell_type": "code",
   "execution_count": null,
   "metadata": {},
   "outputs": [],
   "source": [
    "nn_params = {\n",
    "    'activation': 'relu', 'hidden_layer_sizes': (100,), \n",
    "    'learning_rate': 'constant', 'learning_rate_init': 0.01, \n",
    "    'solver': 'sgd'\n",
    "    }"
   ]
  },
  {
   "cell_type": "code",
   "execution_count": null,
   "metadata": {},
   "outputs": [],
   "source": []
  }
 ],
 "metadata": {
  "kernelspec": {
   "display_name": "ml",
   "language": "python",
   "name": "python3"
  },
  "language_info": {
   "codemirror_mode": {
    "name": "ipython",
    "version": 3
   },
   "file_extension": ".py",
   "mimetype": "text/x-python",
   "name": "python",
   "nbconvert_exporter": "python",
   "pygments_lexer": "ipython3",
   "version": "3.10.11"
  },
  "orig_nbformat": 4
 },
 "nbformat": 4,
 "nbformat_minor": 2
}
