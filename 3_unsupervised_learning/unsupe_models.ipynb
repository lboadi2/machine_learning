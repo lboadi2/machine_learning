{
 "cells": [
  {
   "attachments": {},
   "cell_type": "markdown",
   "metadata": {},
   "source": [
    "## Module Imports"
   ]
  },
  {
   "cell_type": "code",
   "execution_count": 65,
   "metadata": {},
   "outputs": [],
   "source": [
    "import os\n",
    "import random\n",
    "import pandas as pd\n",
    "import numpy as np\n",
    "import timeit\n",
    "\n",
    "import matplotlib.pyplot as plt\n",
    "import seaborn as sns\n",
    "\n",
    "# Linear model for PCA\n",
    "from sklearn.linear_model import LogisticRegression\n",
    "\n",
    "# Estimation maximization\n",
    "from sklearn.mixture import GaussianMixture\n",
    "\n",
    "# Neural Network\n",
    "from sklearn.neural_network import MLPClassifier\n",
    "\n",
    "# Clustering Algo\n",
    "from sklearn.cluster import KMeans\n",
    "\n",
    "# Principal and indipendent component analysis\n",
    "from sklearn.decomposition import FastICA, PCA\n",
    "\n",
    "# Randomized projections\n",
    "from sklearn.random_projection import GaussianRandomProjection\n",
    "\n",
    "# Manifolds\n",
    "from sklearn.manifold import LocallyLinearEmbedding\n",
    "\n",
    "from sklearn.metrics import silhouette_score as s_score,\\\n",
    "      calinski_harabasz_score as ch_score,\\\n",
    "        homogeneity_completeness_v_measure as hcv_score, adjusted_rand_score as ar_score\n",
    "from sklearn.metrics import \\\n",
    "    balanced_accuracy_score, f1_score, precision_score, recall_score, roc_auc_score\n",
    "from sklearn.pipeline import make_pipeline, Pipeline\n",
    "from sklearn.preprocessing import OneHotEncoder, StandardScaler\n",
    "from sklearn.compose import make_column_transformer\n",
    "from sklearn.model_selection import \\\n",
    "    LearningCurveDisplay, validation_curve, learning_curve, train_test_split, ShuffleSplit,\\\n",
    "          GridSearchCV, cross_validate"
   ]
  },
  {
   "cell_type": "markdown",
   "metadata": {},
   "source": [
    "## Helper Functions"
   ]
  },
  {
   "cell_type": "code",
   "execution_count": 52,
   "metadata": {},
   "outputs": [],
   "source": [
    "def plot_validation_curve(model, param_grid, x_data, y_data,\n",
    "                          x_range, param_name, model_name, axs,\\\n",
    "                          plot_train=True, plot_test=True):\n",
    "    \n",
    "    train_score, test_score = validation_curve(model, x_data, y_data, \n",
    "                                 fit_params=param_grid, scoring='f1_score')\n",
    "    \n",
    "    train_mean = train_score.mean(1)\n",
    "    train_sd = train_score.std(1)\n",
    "    test_mean = test_score.mean(1)\n",
    "    test_sd = test_score.std(1)\n",
    "    axs = axs\n",
    "    x = x_range\n",
    "    if plot_train:\n",
    "        line, = axs.plot(x,train_mean, 'o-')\n",
    "        axs.fill_between(x,train_mean + train_sd, train_mean - train_sd,alpha=0.3)\n",
    "    if plot_test:\n",
    "        axs.plot(x,test_mean,'o-')\n",
    "        axs.fill_between(x, test_mean + test_sd, test_mean - test_sd,alpha=0.3)\n",
    "    axs.set_title(f'{model_name} validation curve', fontsize = 15)\n",
    "    axs.set_xlabel(f'{param_name}', fontsize = 15)\n",
    "    axs.set_ylabel(f'f1 score', fontsize = 15)\n",
    "    axs.legend()\n",
    "    axs.tick_params(axis='both', which='major', labelsize=15)\n",
    "    axs.tick_params(axis='both', which='minor', labelsize=15)\n",
    "\n",
    "    return line"
   ]
  },
  {
   "cell_type": "code",
   "execution_count": 53,
   "metadata": {},
   "outputs": [],
   "source": [
    "def plot_learning_curve(model, param_grid, x_data, y_data,\n",
    "                          x_range, param_name, model_name, axs,\\\n",
    "                          plot_train=True, plot_test=True):\n",
    "    \n",
    "    train_sizes, train_scores, test_scores, fit_times, score_times =\\\n",
    "          learning_curve(model, x_data, y_data,)\n",
    "\n",
    "    train_mean = train_scores.mean(1)\n",
    "    train_sd = train_scores.std(1)\n",
    "    test_mean = test_scores.mean(1)\n",
    "    test_sd = test_scores.std(1)\n",
    "    fit_mean = fit_times.mean(1)\n",
    "    fit_std = fit_times.std(1)\n",
    "    score_mean = score_times.mean(1)\n",
    "    score_std = score_times.std(1)\n",
    "\n",
    "    return None"
   ]
  },
  {
   "cell_type": "code",
   "execution_count": 167,
   "metadata": {},
   "outputs": [],
   "source": [
    "def perform_kmeans(x_data, y_data, num_runs=1):\n",
    "    \n",
    "    r_state = 123456\n",
    "    num_clusters = np.arange(1,51)\n",
    "    train_time_dict = {}\n",
    "    s_score_dict = {}\n",
    "    ch_score_dict = {}\n",
    "    v_score_dict = {}\n",
    "    ar_score_dict = {}\n",
    "\n",
    "    for i in list(range(num_runs)):\n",
    "\n",
    "        train_time_lst = []\n",
    "        s_score_lst = []\n",
    "        ch_score_lst = []\n",
    "        v_score_lst = []\n",
    "        ar_score_lst = []\n",
    "\n",
    "        for num in num_clusters:\n",
    "            st = timeit.default_timer()\n",
    "            k_model = KMeans(random_state=r_state, n_init=10, n_clusters=num).fit(x_data)\n",
    "            et = timeit.default_timer()\n",
    "            k_model.fit(x_data, y_data)\n",
    "            train_time_lst.append(et - st)\n",
    "            h,c,v = hcv_score(y_data, k_model.labels_)\n",
    "            v_score_lst.append(v)\n",
    "            ar_score_lst.append(ar_score(y_data, k_model.labels_))\n",
    "            ch_score_lst.append(ch_score(y_data, k_model.labels_))\n",
    "            s_score_lst.append(s_score(y_data, k_model.labels_))\n",
    "        \n",
    "        train_time_dict[f'train_iter_{i}'] = train_time_lst\n",
    "        s_score_dict[f's_score_iter_{i}'] = s_score_lst\n",
    "        v_score_dict[f'v_score_iter_{i}'] = v_score_lst\n",
    "        ch_score_dict[f'ch_score_iter_{i}'] = ch_score_lst\n",
    "        ar_score_dict[f'ar_score_iter_{i}'] = ar_score_lst\n",
    "\n",
    "    df_time = pd.DataFrameP(train_time_dict)\n",
    "    df_s_score = pd.DataFrameP(s_score_dict)\n",
    "    df_v_score = pd.DataFrameP(v_score_dict)\n",
    "    df_ch_score = pd.DataFrameP(ch_score_dict)\n",
    "    df_ar_score = pd.DataFrameP(ar_score_dict)\n",
    "\n",
    "    return df_time, df_s_score, df_v_score, df_ch_score, df_ar_score\n"
   ]
  },
  {
   "cell_type": "code",
   "execution_count": null,
   "metadata": {},
   "outputs": [],
   "source": [
    "def perform_em(x_data, y_data):\n",
    "    r_state = 123456\n",
    "    num_clusters = np.arange(1,51)\n",
    "    train_time_dict = {}\n",
    "    s_score_dict = {}\n",
    "    ch_score_dict = {}\n",
    "    v_score_dict = {}\n",
    "    ar_score_dict = {}\n",
    "\n",
    "    for i in list(range(num_runs)):\n",
    "\n",
    "        train_time_lst = []\n",
    "        s_score_lst = []\n",
    "        ch_score_lst = []\n",
    "        v_score_lst = []\n",
    "        ar_score_lst = []\n",
    "\n",
    "        for num in num_clusters:\n",
    "            st = timeit.default_timer()\n",
    "            k_model = KMeans(random_state=r_state, n_init=10, n_clusters=num).fit(x_data)\n",
    "            et = timeit.default_timer()\n",
    "            k_model.fit(x_data, y_data)\n",
    "            train_time_lst.append(et - st)\n",
    "            h,c,v = hcv_score(y_data, k_model.labels_)\n",
    "            v_score_lst.append(v)\n",
    "            ar_score_lst.append(ar_score(y_data, k_model.labels_))\n",
    "            ch_score_lst.append(ch_score(y_data, k_model.labels_))\n",
    "            s_score_lst.append(s_score(y_data, k_model.labels_))\n",
    "\n",
    "    return None"
   ]
  },
  {
   "cell_type": "code",
   "execution_count": 165,
   "metadata": {},
   "outputs": [
    {
     "data": {
      "text/plain": [
       "[]"
      ]
     },
     "execution_count": 165,
     "metadata": {},
     "output_type": "execute_result"
    }
   ],
   "source": [
    "def perform_pca(x_data):\n",
    "\n",
    "    pca = PCA(whiten=True, svd_solver='full')\n",
    "    pca.fit(x_data)\n",
    "    cum_explained_variance = np.cumsum(pca.explained_variance_ratio_)\n",
    "    \n",
    "    return cum_explained_variance"
   ]
  },
  {
   "attachments": {},
   "cell_type": "markdown",
   "metadata": {},
   "source": [
    "## Set Random Seed"
   ]
  },
  {
   "cell_type": "code",
   "execution_count": 55,
   "metadata": {},
   "outputs": [],
   "source": [
    "# set numpy seed\n",
    "np.random.seed(123321)\n",
    "# set python seed\n",
    "random.seed(123321)"
   ]
  },
  {
   "attachments": {},
   "cell_type": "markdown",
   "metadata": {},
   "source": [
    "## Data Processing"
   ]
  },
  {
   "cell_type": "code",
   "execution_count": 56,
   "metadata": {},
   "outputs": [],
   "source": [
    "red_wine = os.path.join('data','wine', 'winequality-red.csv')\n",
    "white_wine = os.path.join('data','wine', 'winequality-white.csv')\n",
    "turbine = os.path.join('data','turbine','gt_2011.csv')\n",
    "mushrooms = os.path.join('data','mushroom','secondary_data.csv')"
   ]
  },
  {
   "cell_type": "code",
   "execution_count": 57,
   "metadata": {},
   "outputs": [],
   "source": [
    "# encoders to use\n",
    "scale = StandardScaler()\n",
    "s_split = ShuffleSplit()\n",
    "ohe = OneHotEncoder(sparse_output=False)"
   ]
  },
  {
   "attachments": {},
   "cell_type": "markdown",
   "metadata": {},
   "source": [
    "## SHROOM DATA"
   ]
  },
  {
   "cell_type": "code",
   "execution_count": 58,
   "metadata": {},
   "outputs": [],
   "source": [
    "transformer = make_column_transformer(\n",
    "    (\n",
    "        ohe, \n",
    "        [\n",
    "        'cap-shape', 'cap-surface', 'cap-color',\n",
    "       'does-bruise-or-bleed', 'gill-attachment','gill-spacing', 'gill-color', \n",
    "       'stem-root', 'stem-surface', 'stem-color','veil-type', 'veil-color',\n",
    "        'has-ring', 'ring-type', 'spore-print-color','habitat', 'season'\n",
    "        ]\n",
    "        ),\n",
    "    remainder='passthrough'\n",
    "    )"
   ]
  },
  {
   "cell_type": "code",
   "execution_count": 59,
   "metadata": {},
   "outputs": [],
   "source": [
    "shroom_df = pd.read_csv(mushrooms,sep=';').sample(frac=1).reset_index(drop=True)\n",
    "x = shroom_df.iloc[:,1:].copy()\n",
    "x_shroom = pd.DataFrame(transformer.fit_transform(x), \n",
    "                columns=transformer.get_feature_names_out())\n",
    "y = shroom_df.iloc[:,0].copy()\n",
    "y_shroom = (y == 'p')\n",
    "\n",
    "\n",
    "# reduce the number of training examples\n",
    "x_shroom = x_shroom[:7000]\n",
    "y_shroom =  y_shroom[:7000]\n",
    "\n",
    "# Scale numerical attributes to be b/w 1 and -1\n",
    "lst_of_num_cols = [\n",
    "    'remainder__cap-diameter', 'remainder__stem-height', 'remainder__stem-width'\n",
    "    ]\n",
    "x_shroom[lst_of_num_cols] = scale.fit_transform(x_shroom[lst_of_num_cols])"
   ]
  },
  {
   "attachments": {},
   "cell_type": "markdown",
   "metadata": {},
   "source": [
    "## WINE DATA"
   ]
  },
  {
   "cell_type": "code",
   "execution_count": 60,
   "metadata": {},
   "outputs": [],
   "source": [
    "white_df = pd.read_csv(white_wine, sep=';')\n",
    "red_df = pd.read_csv(red_wine, sep=';')\n",
    "white_df['type'] = 0\n",
    "red_df['type'] = 1\n",
    "wine_df = pd.concat([white_df,red_df])\n",
    "wine_df = wine_df.sample(frac=1).reset_index(drop=True)"
   ]
  },
  {
   "cell_type": "code",
   "execution_count": 61,
   "metadata": {},
   "outputs": [],
   "source": [
    "# set x and y values\n",
    "# remove 'quality' and 'type' column from x array\n",
    "x_wine = wine_df.iloc[:,:-2].copy()\n",
    "# scale x vals\n",
    "x_wine.values[:,:] = scale.fit_transform(x_wine)\n",
    "# set y array equal to 'type' column \n",
    "y_wine = wine_df.iloc[:,-1].copy()"
   ]
  },
  {
   "attachments": {},
   "cell_type": "markdown",
   "metadata": {},
   "source": [
    "## Shroom and Wine Train/Test Split"
   ]
  },
  {
   "cell_type": "code",
   "execution_count": 62,
   "metadata": {},
   "outputs": [],
   "source": [
    "x_shroom_train, x_shroom_test, y_shroom_train, y_shroom_test = train_test_split(x_shroom, y_shroom, test_size=0.2)"
   ]
  },
  {
   "cell_type": "code",
   "execution_count": 63,
   "metadata": {},
   "outputs": [],
   "source": [
    "x_wine_train, x_wine_test, y_wine_train, y_wine_test = train_test_split(x_wine, y_wine, test_size=0.2)"
   ]
  },
  {
   "attachments": {},
   "cell_type": "markdown",
   "metadata": {},
   "source": [
    "## Model Instantiation"
   ]
  },
  {
   "cell_type": "code",
   "execution_count": 155,
   "metadata": {},
   "outputs": [],
   "source": [
    "r_state = 123456\n",
    "\n",
    "# Expectation Maximization: Clustering\n",
    "gmx = GaussianMixture(random_state=r_state)\n",
    "\n",
    "# Kmeans: Clustering\n",
    "km = KMeans(random_state=r_state, n_init=10, n_clusters=2)\n",
    "\n",
    "# Manifold: Dimension Reduction\n",
    "lle = LocallyLinearEmbedding(random_state=r_state)\n",
    "\n",
    "# Look at distribution of Eigenvalues or explained variance\n",
    "# Dimension Reduction\n",
    "pca = PCA(random_state=r_state)\n",
    "\n",
    "# Use kurtosisfor performance eval\n",
    "# Dimension Reduction\n",
    "ica = FastICA(random_state=r_state)\n",
    "\n",
    "# Use reconstruction error\n",
    "grp = GaussianRandomProjection(compute_inverse_components=True,random_state=r_state)\n",
    "\n",
    "# Neural network, use f1 score\n",
    "# Wine Params: {'activation': 'relu', 'hidden_layer_sizes': (100,), \n",
    "#               'learning_rate': 'constant', 'learning_rate_init': 0.89, 'solver': 'sgd'}\n",
    "# Shroom Params: {'activation': 'relu', 'hidden_layer_sizes': (100,),\n",
    "#                'learning_rate': 'constant', 'learning_rate_init': 0.01, 'solver': 'sgd'}\n",
    "mlp = MLPClassifier(random_state=r_state)"
   ]
  },
  {
   "cell_type": "code",
   "execution_count": 156,
   "metadata": {},
   "outputs": [
    {
     "data": {
      "text/html": [
       "<style>#sk-container-id-5 {color: black;}#sk-container-id-5 pre{padding: 0;}#sk-container-id-5 div.sk-toggleable {background-color: white;}#sk-container-id-5 label.sk-toggleable__label {cursor: pointer;display: block;width: 100%;margin-bottom: 0;padding: 0.3em;box-sizing: border-box;text-align: center;}#sk-container-id-5 label.sk-toggleable__label-arrow:before {content: \"▸\";float: left;margin-right: 0.25em;color: #696969;}#sk-container-id-5 label.sk-toggleable__label-arrow:hover:before {color: black;}#sk-container-id-5 div.sk-estimator:hover label.sk-toggleable__label-arrow:before {color: black;}#sk-container-id-5 div.sk-toggleable__content {max-height: 0;max-width: 0;overflow: hidden;text-align: left;background-color: #f0f8ff;}#sk-container-id-5 div.sk-toggleable__content pre {margin: 0.2em;color: black;border-radius: 0.25em;background-color: #f0f8ff;}#sk-container-id-5 input.sk-toggleable__control:checked~div.sk-toggleable__content {max-height: 200px;max-width: 100%;overflow: auto;}#sk-container-id-5 input.sk-toggleable__control:checked~label.sk-toggleable__label-arrow:before {content: \"▾\";}#sk-container-id-5 div.sk-estimator input.sk-toggleable__control:checked~label.sk-toggleable__label {background-color: #d4ebff;}#sk-container-id-5 div.sk-label input.sk-toggleable__control:checked~label.sk-toggleable__label {background-color: #d4ebff;}#sk-container-id-5 input.sk-hidden--visually {border: 0;clip: rect(1px 1px 1px 1px);clip: rect(1px, 1px, 1px, 1px);height: 1px;margin: -1px;overflow: hidden;padding: 0;position: absolute;width: 1px;}#sk-container-id-5 div.sk-estimator {font-family: monospace;background-color: #f0f8ff;border: 1px dotted black;border-radius: 0.25em;box-sizing: border-box;margin-bottom: 0.5em;}#sk-container-id-5 div.sk-estimator:hover {background-color: #d4ebff;}#sk-container-id-5 div.sk-parallel-item::after {content: \"\";width: 100%;border-bottom: 1px solid gray;flex-grow: 1;}#sk-container-id-5 div.sk-label:hover label.sk-toggleable__label {background-color: #d4ebff;}#sk-container-id-5 div.sk-serial::before {content: \"\";position: absolute;border-left: 1px solid gray;box-sizing: border-box;top: 0;bottom: 0;left: 50%;z-index: 0;}#sk-container-id-5 div.sk-serial {display: flex;flex-direction: column;align-items: center;background-color: white;padding-right: 0.2em;padding-left: 0.2em;position: relative;}#sk-container-id-5 div.sk-item {position: relative;z-index: 1;}#sk-container-id-5 div.sk-parallel {display: flex;align-items: stretch;justify-content: center;background-color: white;position: relative;}#sk-container-id-5 div.sk-item::before, #sk-container-id-5 div.sk-parallel-item::before {content: \"\";position: absolute;border-left: 1px solid gray;box-sizing: border-box;top: 0;bottom: 0;left: 50%;z-index: -1;}#sk-container-id-5 div.sk-parallel-item {display: flex;flex-direction: column;z-index: 1;position: relative;background-color: white;}#sk-container-id-5 div.sk-parallel-item:first-child::after {align-self: flex-end;width: 50%;}#sk-container-id-5 div.sk-parallel-item:last-child::after {align-self: flex-start;width: 50%;}#sk-container-id-5 div.sk-parallel-item:only-child::after {width: 0;}#sk-container-id-5 div.sk-dashed-wrapped {border: 1px dashed gray;margin: 0 0.4em 0.5em 0.4em;box-sizing: border-box;padding-bottom: 0.4em;background-color: white;}#sk-container-id-5 div.sk-label label {font-family: monospace;font-weight: bold;display: inline-block;line-height: 1.2em;}#sk-container-id-5 div.sk-label-container {text-align: center;}#sk-container-id-5 div.sk-container {/* jupyter's `normalize.less` sets `[hidden] { display: none; }` but bootstrap.min.css set `[hidden] { display: none !important; }` so we also need the `!important` here to be able to override the default hidden behavior on the sphinx rendered scikit-learn.org. See: https://github.com/scikit-learn/scikit-learn/issues/21755 */display: inline-block !important;position: relative;}#sk-container-id-5 div.sk-text-repr-fallback {display: none;}</style><div id=\"sk-container-id-5\" class=\"sk-top-container\"><div class=\"sk-text-repr-fallback\"><pre>KMeans(n_clusters=2, n_init=10, random_state=123456)</pre><b>In a Jupyter environment, please rerun this cell to show the HTML representation or trust the notebook. <br />On GitHub, the HTML representation is unable to render, please try loading this page with nbviewer.org.</b></div><div class=\"sk-container\" hidden><div class=\"sk-item\"><div class=\"sk-estimator sk-toggleable\"><input class=\"sk-toggleable__control sk-hidden--visually\" id=\"sk-estimator-id-5\" type=\"checkbox\" checked><label for=\"sk-estimator-id-5\" class=\"sk-toggleable__label sk-toggleable__label-arrow\">KMeans</label><div class=\"sk-toggleable__content\"><pre>KMeans(n_clusters=2, n_init=10, random_state=123456)</pre></div></div></div></div></div>"
      ],
      "text/plain": [
       "KMeans(n_clusters=2, n_init=10, random_state=123456)"
      ]
     },
     "execution_count": 156,
     "metadata": {},
     "output_type": "execute_result"
    }
   ],
   "source": [
    "km.fit(x_shroom, y_shroom)"
   ]
  },
  {
   "cell_type": "code",
   "execution_count": 158,
   "metadata": {},
   "outputs": [
    {
     "data": {
      "text/plain": [
       "(2, 128)"
      ]
     },
     "execution_count": 158,
     "metadata": {},
     "output_type": "execute_result"
    }
   ],
   "source": [
    "km.cluster_centers_.shape"
   ]
  },
  {
   "cell_type": "code",
   "execution_count": 163,
   "metadata": {},
   "outputs": [
    {
     "data": {
      "image/png": "[encoded data removed]",
      "text/plain": [
       "<Figure size 640x480 with 4 Axes>"
      ]
     },
     "metadata": {},
     "output_type": "display_data"
    }
   ],
   "source": [
    "fig, ax = plt.subplots(2,2, sharex=True, sharey=True)\n",
    "ax = ax.flatten()\n",
    "ax[0].scatter(x_shroom.iloc[:,-1], x_shroom.iloc[:,-2], c=km.labels_)\n",
    "ax[1].scatter(x_shroom.iloc[:,-1], x_shroom.iloc[:,-2], c=y_shroom)\n",
    "ax[2].scatter(x_shroom.iloc[:,-1], x_shroom.iloc[:,-3], c=km.labels_)\n",
    "ax[3].scatter(x_shroom.iloc[:,-1], x_shroom.iloc[:,-3], c=y_shroom)\n",
    "plt.show()"
   ]
  },
  {
   "cell_type": "markdown",
   "metadata": {},
   "source": [
    "## Clustering"
   ]
  },
  {
   "cell_type": "code",
   "execution_count": 24,
   "metadata": {},
   "outputs": [],
   "source": [
    "gmx_param_grid = {'n_components':np.arange(1,51),\n",
    "                  'covariance_type': ['full','tied','diag','spherical']                             \n",
    "                  }\n",
    "\n",
    "km_param_grid = {'n_clusters':np.arange(1,51),\n",
    "                  'algorithm': ['lloyd','elkan','full']                             \n",
    "                  }\n",
    "\n",
    "pca_param_grid = {'n_components':np.arange(1,51),\n",
    "                 'svd_solver': ['full', 'arpack', 'randomized']\n",
    "                 }\n",
    "\n",
    "ica_param_grid = {'n_components':np.arange(1,51),\n",
    "                 'algorithm': ['parallel', 'deflation']\n",
    "                 }\n",
    "\n",
    "grp_param_grid = {'n_components':np.arange(1,51)}\n",
    "\n",
    "\n",
    "mlp_param_grid = {\n",
    "                'learning_rate': [\"constant\"],\n",
    "                'hidden_layer_sizes': [(1,),(10,),(20,),(50,),(70,),(100,)],\n",
    "                'learning_rate_init': np.linspace(0.01, 1, 10),\n",
    "                'activation': ['relu'],\n",
    "                'solver': ['sgd']\n",
    "                }\n"
   ]
  },
  {
   "cell_type": "code",
   "execution_count": null,
   "metadata": {},
   "outputs": [],
   "source": []
  },
  {
   "attachments": {},
   "cell_type": "markdown",
   "metadata": {},
   "source": [
    "## Wine: Clustering"
   ]
  },
  {
   "cell_type": "code",
   "execution_count": 36,
   "metadata": {},
   "outputs": [
    {
     "name": "stdout",
     "output_type": "stream",
     "text": [
      "Best parameter (CV score=0.875):\n",
      "{'logistic__C': 10000.0, 'pca__n_components': 99}\n"
     ]
    }
   ],
   "source": [
    "from sklearn.linear_model import LogisticRegression\n",
    "from sklearn.model_selection import GridSearchCV\n",
    "from sklearn.pipeline import Pipeline\n",
    "from sklearn.preprocessing import StandardScaler\n",
    "from sklearn import datasets\n",
    "\n",
    "# Define a pipeline to search for the best combination of PCA truncation\n",
    "# and classifier regularization.\n",
    "pca = PCA()\n",
    "# Define a Standard Scaler to normalize inputs\n",
    "scaler = StandardScaler()\n",
    "\n",
    "# set the tolerance to a large value to make the example faster\n",
    "logistic = LogisticRegression(max_iter=10000, tol=0.1)\n",
    "pipe = Pipeline(steps=[(\"pca\", pca), (\"logistic\", logistic)])\n",
    "\n",
    "param_grid = {\n",
    "    \"pca__n_components\": np.arange(1, (x_shroom.shape[1]+1)),\n",
    "    \"logistic__C\": np.logspace(-4, 4, 4),\n",
    "}\n",
    "search = GridSearchCV(pipe, param_grid, n_jobs=2)\n",
    "search.fit(x_shroom, y_shroom)\n",
    "print(\"Best parameter (CV score=%0.3f):\" % search.best_score_)\n",
    "print(search.best_params_)"
   ]
  },
  {
   "cell_type": "code",
   "execution_count": 172,
   "metadata": {},
   "outputs": [
    {
     "data": {
      "image/png": "[encoded data removed]",
      "text/plain": [
       "<Figure size 640x480 with 1 Axes>"
      ]
     },
     "metadata": {},
     "output_type": "display_data"
    }
   ],
   "source": [
    "from sklearn.linear_model import LogisticRegression\n",
    "from sklearn.model_selection import GridSearchCV\n",
    "from sklearn.pipeline import Pipeline\n",
    "from sklearn.preprocessing import StandardScaler\n",
    "from sklearn import datasets\n",
    "\n",
    "# Plot the PCA spectrum\n",
    "pca.fit(x_shroom)\n",
    "cumsum = np.cumsum(pca.explained_variance_ratio_)\n",
    "fig, ax0 = plt.subplots()\n",
    "ax0.plot(cumsum, \"+\", linewidth=2)\n",
    "ax0.set_ylabel(\"cumulative explained variance ratio\")\n",
    "\n",
    "ax0.axhline(\n",
    "    0.95,\n",
    "    linestyle=\":\",\n",
    "    label=\"95% Variance\",\n",
    ")\n",
    "ax0.axvline(\n",
    "    60,\n",
    "    linestyle=\":\",\n",
    "    label=\"n-components\",\n",
    ")\n",
    "ax0.legend(prop=dict(size=12))\n",
    "plt.show()"
   ]
  },
  {
   "cell_type": "code",
   "execution_count": 18,
   "metadata": {},
   "outputs": [
    {
     "name": "stdout",
     "output_type": "stream",
     "text": [
      "Fitting 5 folds for each of 60 candidates, totalling 300 fits\n"
     ]
    },
    {
     "name": "stdout",
     "output_type": "stream",
     "text": [
      "{'activation': 'relu', 'hidden_layer_sizes': (100,), 'learning_rate': 'constant', 'learning_rate_init': 0.89, 'solver': 'sgd'}\n"
     ]
    }
   ],
   "source": [
    "# Neural Network hyper tuning\n",
    "# defining parameter range \n",
    "param_grid = {\n",
    "'learning_rate': ['constant'],\n",
    "'hidden_layer_sizes': [(1,),(10,),(20,),(50,),(70,),(100,)],\n",
    "'learning_rate_init': np.linspace(0.01, 1, 10),\n",
    "'activation': ['relu'],\n",
    "'solver': ['sgd']\n",
    "}\n",
    "\n",
    "grid = GridSearchCV(mlp, param_grid, scoring='f1', refit = True,\\\n",
    "                     verbose = 3,n_jobs=-1) \n",
    "   \n",
    "# fitting the model for grid search \n",
    "grid.fit(x_wine_train, y_wine_train) \n",
    " \n",
    "# print best parameter after tuning \n",
    "print(grid.best_params_)\n",
    "mlp_wine = grid.best_estimator_\n",
    "# grid_predictions = grid.predict(x_wine_test)"
   ]
  },
  {
   "attachments": {},
   "cell_type": "markdown",
   "metadata": {},
   "source": [
    "## Shrooms: Hyperparameter Tuning "
   ]
  },
  {
   "cell_type": "code",
   "execution_count": 23,
   "metadata": {},
   "outputs": [
    {
     "name": "stdout",
     "output_type": "stream",
     "text": [
      "Fitting 5 folds for each of 60 candidates, totalling 300 fits\n"
     ]
    },
    {
     "name": "stdout",
     "output_type": "stream",
     "text": [
      "{'activation': 'relu', 'hidden_layer_sizes': (100,), 'learning_rate': 'constant', 'learning_rate_init': 0.01, 'solver': 'sgd'}\n"
     ]
    },
    {
     "name": "stderr",
     "output_type": "stream",
     "text": [
      "c:\\Users\\lboad\\py_venv\\ml\\lib\\site-packages\\sklearn\\neural_network\\_multilayer_perceptron.py:691: ConvergenceWarning: Stochastic Optimizer: Maximum iterations (200) reached and the optimization hasn't converged yet.\n",
      "  warnings.warn(\n"
     ]
    }
   ],
   "source": [
    "# Neural Network hyper tuning\n",
    "# defining parameter range \n",
    "param_grid = {\n",
    "'learning_rate': [\"constant\"],\n",
    "'hidden_layer_sizes': [(1,),(10,),(20,),(50,),(70,),(100,)],\n",
    "'learning_rate_init': np.linspace(0.01, 1, 10),\n",
    "'activation': ['relu'],\n",
    "'solver': ['sgd']\n",
    "}\n",
    "\n",
    "grid = GridSearchCV(mlp, param_grid, scoring='f1',\\\n",
    "                     refit = True, verbose = 3,n_jobs=-1) \n",
    "   \n",
    "# fitting the model for grid search \n",
    "grid.fit(x_shroom_train, y_shroom_train) \n",
    " \n",
    "# print best parameter after tuning \n",
    "print(grid.best_params_)\n",
    "mlp_shroom = grid.best_estimator_\n",
    "# grid_predictions = grid.predict(x_shroom_test)"
   ]
  },
  {
   "cell_type": "code",
   "execution_count": null,
   "metadata": {},
   "outputs": [],
   "source": []
  }
 ],
 "metadata": {
  "kernelspec": {
   "display_name": "ml",
   "language": "python",
   "name": "python3"
  },
  "language_info": {
   "codemirror_mode": {
    "name": "ipython",
    "version": 3
   },
   "file_extension": ".py",
   "mimetype": "text/x-python",
   "name": "python",
   "nbconvert_exporter": "python",
   "pygments_lexer": "ipython3",
   "version": "3.10.11"
  },
  "orig_nbformat": 4
 },
 "nbformat": 4,
 "nbformat_minor": 2
}
