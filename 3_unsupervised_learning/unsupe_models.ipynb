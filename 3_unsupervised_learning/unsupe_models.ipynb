{
 "cells": [
  {
   "attachments": {},
   "cell_type": "markdown",
   "metadata": {},
   "source": [
    "## Module Imports"
   ]
  },
  {
   "cell_type": "code",
   "execution_count": null,
   "metadata": {},
   "outputs": [],
   "source": [
    "import os\n",
    "\n",
    "import pandas as pd\n",
    "import numpy as np\n",
    "import timeit\n",
    "\n",
    "import matplotlib.pyplot as plt\n",
    "import seaborn as sns\n",
    "\n",
    "# Linear model for PCA\n",
    "from sklearn.linear_model import LogisticRegression\n",
    "\n",
    "# Estimation maximization\n",
    "from sklearn.mixture import GaussianMixture\n",
    "\n",
    "# Neural Network\n",
    "from sklearn.neural_network import MLPClassifier\n",
    "\n",
    "# Clustering Algo\n",
    "from sklearn.cluster import KMeans\n",
    "\n",
    "# Principal and indipendent component analysis\n",
    "from sklearn.decomposition import FastICA, PCA\n",
    "\n",
    "# Randomized projections\n",
    "from sklearn.random_projection import GaussianRandomProjection,\\\n",
    "      SparseRandomProjection as RCA\n",
    "\n",
    "# Manifolds\n",
    "from sklearn.manifold import LocallyLinearEmbedding\n",
    "\n",
    "# Mertrics\n",
    "from sklearn.metrics.pairwise import pairwise_distances\n",
    "from sklearn.metrics import silhouette_score as s_score,\\\n",
    "      calinski_harabasz_score as ch_score,\\\n",
    "        homogeneity_completeness_v_measure as hcv_score, adjusted_rand_score as ar_score,\\\n",
    "        pairwise_distances\n",
    "from sklearn.metrics import \\\n",
    "    balanced_accuracy_score, f1_score, precision_score, recall_score, roc_auc_score\n",
    "from sklearn.pipeline import make_pipeline, Pipeline\n",
    "\n",
    "# pre-processing\n",
    "from sklearn.preprocessing import OneHotEncoder, StandardScaler\n",
    "from sklearn.compose import make_column_transformer\n",
    "from sklearn.model_selection import \\\n",
    "    LearningCurveDisplay, validation_curve, learning_curve, train_test_split, ShuffleSplit,\\\n",
    "          GridSearchCV, cross_validate\n",
    "\n"
   ]
  },
  {
   "cell_type": "markdown",
   "metadata": {},
   "source": [
    "## Data Processing"
   ]
  },
  {
   "cell_type": "code",
   "execution_count": null,
   "metadata": {},
   "outputs": [],
   "source": [
    "red_wine = os.path.join('data','wine', 'winequality-red.csv')\n",
    "white_wine = os.path.join('data','wine', 'winequality-white.csv')\n",
    "turbine = os.path.join('data','turbine','gt_2011.csv')\n",
    "mushrooms = os.path.join('data','mushroom','secondary_data.csv')\n",
    "\n",
    "# encoders to use\n",
    "scale = StandardScaler()\n",
    "s_split = ShuffleSplit()\n",
    "ohe = OneHotEncoder(sparse_output=False)"
   ]
  },
  {
   "cell_type": "markdown",
   "metadata": {},
   "source": [
    "## SHROOM DATA"
   ]
  },
  {
   "cell_type": "code",
   "execution_count": null,
   "metadata": {},
   "outputs": [],
   "source": [
    "transformer = make_column_transformer(\n",
    "    (\n",
    "        ohe, \n",
    "        [\n",
    "        'cap-shape', 'cap-surface', 'cap-color',\n",
    "       'does-bruise-or-bleed', 'gill-attachment','gill-spacing', 'gill-color', \n",
    "       'stem-root', 'stem-surface', 'stem-color','veil-type', 'veil-color',\n",
    "        'has-ring', 'ring-type', 'spore-print-color','habitat', 'season'\n",
    "        ]\n",
    "        ),\n",
    "    remainder='passthrough'\n",
    "    )\n",
    "\n",
    "# pre-process shroom data\n",
    "\n",
    "shroom_df = pd.read_csv(mushrooms,sep=';').sample(frac=1).reset_index(drop=True)\n",
    "x = shroom_df.iloc[:,1:].copy()\n",
    "x_shroom = pd.DataFrame(transformer.fit_transform(x), \n",
    "                columns=transformer.get_feature_names_out())\n",
    "y = shroom_df.iloc[:,0].copy()\n",
    "y_shroom = (y == 'p')\n",
    "\n",
    "\n",
    "# reduce the number of training examples\n",
    "x_shroom = x_shroom[:7000]\n",
    "y_shroom =  y_shroom[:7000]\n",
    "\n",
    "# Scale numerical attributes to be b/w 1 and -1\n",
    "lst_of_num_cols = [\n",
    "    'remainder__cap-diameter', 'remainder__stem-height', 'remainder__stem-width'\n",
    "    ]\n",
    "x_shroom[lst_of_num_cols] = scale.fit_transform(x_shroom[lst_of_num_cols])"
   ]
  },
  {
   "cell_type": "markdown",
   "metadata": {},
   "source": [
    "## WINE DATA"
   ]
  },
  {
   "cell_type": "code",
   "execution_count": null,
   "metadata": {},
   "outputs": [],
   "source": [
    "white_df = pd.read_csv(white_wine, sep=';')\n",
    "red_df = pd.read_csv(red_wine, sep=';')\n",
    "white_df['type'] = 0\n",
    "red_df['type'] = 1\n",
    "wine_df = pd.concat([white_df,red_df])\n",
    "wine_df = wine_df.sample(frac=1).reset_index(drop=True)\n",
    "\n",
    "# set x and y values\n",
    "# remove 'quality' and 'type' column from x array\n",
    "x_wine = wine_df.iloc[:,:-2].copy()\n",
    "# scale x vals\n",
    "x_wine.values[:,:] = scale.fit_transform(x_wine)\n",
    "# set y array equal to 'type' column \n",
    "y_wine = wine_df.iloc[:,-1].copy()"
   ]
  },
  {
   "cell_type": "markdown",
   "metadata": {},
   "source": [
    "## Shroom and Wine Train/Test Split"
   ]
  },
  {
   "cell_type": "code",
   "execution_count": null,
   "metadata": {},
   "outputs": [],
   "source": [
    "x_shroom_train, x_shroom_test, y_shroom_train, y_shroom_test =\\\n",
    "      train_test_split(x_shroom, y_shroom, test_size=0.2)\n",
    "\n",
    "x_wine_train, x_wine_test, y_wine_train, y_wine_test =\\\n",
    "      train_test_split(x_wine, y_wine, test_size=0.2)\n"
   ]
  },
  {
   "cell_type": "markdown",
   "metadata": {},
   "source": [
    "## Helper Functions"
   ]
  },
  {
   "cell_type": "code",
   "execution_count": 167,
   "metadata": {},
   "outputs": [],
   "source": [
    "def generate_validation_curve(model, param_grid, x_data, y_data,\n",
    "                          x_range, param_name, model_name, axs,\\\n",
    "                          plot_train=True, plot_test=True):\n",
    "    \n",
    "    train_score, test_score = validation_curve(model, x_data, y_data, \n",
    "                                 fit_params=param_grid, scoring='f1_score')\n",
    "    \n",
    "    train_mean = train_score.mean(1)\n",
    "    train_sd = train_score.std(1)\n",
    "    test_mean = test_score.mean(1)\n",
    "    test_sd = test_score.std(1)\n",
    "    axs = axs\n",
    "    x = x_range\n",
    "    if plot_train:\n",
    "        line, = axs.plot(x,train_mean, 'o-')\n",
    "        axs.fill_between(x,train_mean + train_sd, train_mean - train_sd,alpha=0.3)\n",
    "    if plot_test:\n",
    "        axs.plot(x,test_mean,'o-')\n",
    "        axs.fill_between(x, test_mean + test_sd, test_mean - test_sd,alpha=0.3)\n",
    "    axs.set_title(f'{model_name} validation curve', fontsize = 15)\n",
    "    axs.set_xlabel(f'{param_name}', fontsize = 15)\n",
    "    axs.set_ylabel(f'f1 score', fontsize = 15)\n",
    "    axs.legend()\n",
    "    axs.tick_params(axis='both', which='major', labelsize=15)\n",
    "    axs.tick_params(axis='both', which='minor', labelsize=15)\n",
    "\n",
    "    return line"
   ]
  },
  {
   "cell_type": "code",
   "execution_count": 168,
   "metadata": {},
   "outputs": [],
   "source": [
    "def generate_learning_curve(model, param_grid, x_data, y_data,\n",
    "                          x_range, param_name, model_name, axs,\\\n",
    "                          plot_train=True, plot_test=True):\n",
    "    \n",
    "    train_sizes, train_scores, test_scores, fit_times, score_times =\\\n",
    "          learning_curve(model, x_data, y_data,)\n",
    "\n",
    "    train_mean = train_scores.mean(1)\n",
    "    train_sd = train_scores.std(1)\n",
    "    test_mean = test_scores.mean(1)\n",
    "    test_sd = test_scores.std(1)\n",
    "    fit_mean = fit_times.mean(1)\n",
    "    fit_std = fit_times.std(1)\n",
    "    score_mean = score_times.mean(1)\n",
    "    score_std = score_times.std(1)\n",
    "\n",
    "    return None"
   ]
  },
  {
   "cell_type": "code",
   "execution_count": 169,
   "metadata": {},
   "outputs": [],
   "source": [
    "def plot_curve(x_data, y_data, axs=None, take_mean=False):\n",
    "\n",
    "    if axs == None:\n",
    "        _, axs = plt.subplots()\n",
    "\n",
    "    if take_mean:\n",
    "        y_mean = y_data.mean(1)\n",
    "        y_std = y_data.std(1)\n",
    "        axs.plot(x_data,y_mean,'o-')\n",
    "        line = axs.fill_between(x_data, y_mean + y_std, y_mean - y_std,alpha=0.3)\n",
    "    else:\n",
    "        line = axs.plot(x_data, y_data)\n",
    "\n",
    "    return line"
   ]
  },
  {
   "cell_type": "code",
   "execution_count": 170,
   "metadata": {},
   "outputs": [],
   "source": [
    "def perform_kmeans(x_data, y_data, num_runs=5):\n",
    "    import warnings\n",
    "    from sklearn.exceptions import DataConversionWarning\n",
    "    warnings.filterwarnings(action='ignore', category=DataConversionWarning)\n",
    "    \n",
    "    r_state = 123456\n",
    "    num_clusters = np.arange(2,50)\n",
    "    train_time_dict = {}\n",
    "    s_score_dict = {}\n",
    "    ch_score_dict = {}\n",
    "    v_score_dict = {}\n",
    "    ar_score_dict = {}\n",
    "\n",
    "    for i in list(range(num_runs)):\n",
    "\n",
    "        train_time_lst = []\n",
    "        s_score_lst = []\n",
    "        ch_score_lst = []\n",
    "        v_score_lst = []\n",
    "        ar_score_lst = []\n",
    "\n",
    "        for num in num_clusters:\n",
    "\n",
    "            st = timeit.default_timer()\n",
    "            k_model = KMeans(n_init=10, n_clusters=num).fit(x_data)\n",
    "            et = timeit.default_timer()\n",
    "            k_model.fit(x_data, y_data)\n",
    "            train_time_lst.append(et - st)\n",
    "\n",
    "            h,c,v = hcv_score(y_data, k_model.labels_)\n",
    "            v_score_lst.append(v)\n",
    "            ar_score_lst.append(ar_score(y_data, k_model.labels_))\n",
    "\n",
    "            ch_score_lst.append(\n",
    "                ch_score(y_data.to_numpy().reshape(-1,1), k_model.labels_.reshape(-1,1))\n",
    "                )\n",
    "            \n",
    "            s_score_lst.append(\n",
    "                s_score(y_data.to_numpy().reshape(-1,1), k_model.labels_.reshape(-1,1))\n",
    "                )\n",
    "            \n",
    "        \n",
    "        train_time_dict[f'train_iter_{i}'] = train_time_lst\n",
    "        s_score_dict[f's_score_iter_{i}'] = s_score_lst\n",
    "        v_score_dict[f'v_score_iter_{i}'] = v_score_lst\n",
    "        ch_score_dict[f'ch_score_iter_{i}'] = ch_score_lst\n",
    "        ar_score_dict[f'ar_score_iter_{i}'] = ar_score_lst\n",
    "\n",
    "    df_time = pd.DataFrame(train_time_dict)\n",
    "    df_s_score = pd.DataFrame(s_score_dict)\n",
    "    df_v_score = pd.DataFrame(v_score_dict)\n",
    "    df_ch_score = pd.DataFrame(ch_score_dict)\n",
    "    df_ar_score = pd.DataFrame(ar_score_dict)\n",
    "\n",
    "    df_results = pd.DataFrame({\n",
    "        'num_clusters': num_clusters,\n",
    "        'mean_fit_time': df_time.mean(1),\n",
    "        'std_fit_time': df_time.std(1),\n",
    "        'mean_s_score': df_s_score.mean(1),\n",
    "        'std_s_score': df_s_score.std(1),\n",
    "        'mean_v_score': df_v_score.mean(1),\n",
    "        'std_v_score': df_v_score.std(1),\n",
    "        'mean_ch_score': df_ch_score.mean(1),\n",
    "        'std_ch_score': df_ch_score.std(1),\n",
    "        'mean_ar_score': df_ar_score.mean(1),\n",
    "        'std_ar_score': df_ar_score.std(1)\n",
    "        })\n",
    "\n",
    "    return df_results"
   ]
  },
  {
   "cell_type": "code",
   "execution_count": 171,
   "metadata": {},
   "outputs": [],
   "source": [
    "def perform_em(x_data):\n",
    "\n",
    "    def gmm_bic_score(estimator, x_data):\n",
    "        \"\"\"Callable to pass to GridSearchCV that will use the BIC score.\"\"\"\n",
    "        # Make it negative since GridSearchCV expects a score to maximize\n",
    "        return -estimator.bic(x_data)\n",
    "\n",
    "\n",
    "    param_grid = {\n",
    "        \"n_components\": np.arange(1,51, 1),\n",
    "        \"covariance_type\": [\"full\"],\n",
    "    }\n",
    "\n",
    "    grid_search = GridSearchCV(\n",
    "        GaussianMixture(), param_grid=param_grid, scoring=gmm_bic_score\n",
    "    )\n",
    "\n",
    "    grid_search.fit(x_data)\n",
    "\n",
    "    \n",
    "    df = pd.DataFrame(grid_search.cv_results_)[\n",
    "        [\"param_n_components\", \"param_covariance_type\", \"mean_test_score\",\"std_test_score\",\n",
    "          \"mean_fit_time\", \"std_fit_time\", \"mean_score_time\", \"std_score_time\"]\n",
    "    ]\n",
    "    \n",
    "    df[\"mean_test_score\"] = -df[\"mean_test_score\"]\n",
    "\n",
    "    df = df.rename(\n",
    "        columns={\n",
    "            \"param_n_components\": \"n_components\",\n",
    "            \"param_covariance_type\": \"covariance_type\",\n",
    "            \"mean_test_score\": \"bic_score\",\n",
    "            \"std_test_score\": \"std_bic_score\",\n",
    "        }\n",
    "    )\n",
    "    df = df.sort_values(by=\"bic_score\")\n",
    "\n",
    "    return df"
   ]
  },
  {
   "cell_type": "code",
   "execution_count": 172,
   "metadata": {},
   "outputs": [],
   "source": [
    "def perform_pca(x_data):\n",
    "\n",
    "    pca = PCA(whiten=True, svd_solver='full')\n",
    "    pca.fit(x_data)\n",
    "    cum_explained_variance = np.cumsum(pca.explained_variance_ratio_)\n",
    "    \n",
    "    return cum_explained_variance"
   ]
  },
  {
   "cell_type": "code",
   "execution_count": 194,
   "metadata": {},
   "outputs": [],
   "source": [
    "def perform_ica(x_data):\n",
    "\n",
    "    if x_data.shape[1] > 20:\n",
    "        n_components = np.arange(2,x_data.shape[1]+1, 5)\n",
    "    else:\n",
    "        n_components = np.arange(2,x_data.shape[1]+1)\n",
    "        \n",
    "    average_kurtosis_lst = []\n",
    "    std_kurtosis_lst = []\n",
    "\n",
    "    for n in n_components:\n",
    "        ica = FastICA(n_components=n)\n",
    "        df_temp = pd.DataFrame(ica.fit_transform(x_data))\n",
    "        df_temp = df_temp.kurtosis(axis=0)\n",
    "        average_kurtosis_lst.append(df_temp.abs().mean())\n",
    "        std_kurtosis_lst.append(df_temp.abs().std())\n",
    "\n",
    "    df_result = pd.DataFrame({\n",
    "        'num_components': n_components,\n",
    "        'mean_kurtosis': average_kurtosis_lst,\n",
    "        'std_kurtosis': std_kurtosis_lst\n",
    "    })\n",
    "\n",
    "    return df_result"
   ]
  },
  {
   "cell_type": "code",
   "execution_count": 174,
   "metadata": {},
   "outputs": [],
   "source": [
    "def pdist_correllation(x_data_1,x_data_2):\n",
    "    \n",
    "    rmse = ((x_data_1- x_data_2.to_numpy()) ** 2).mean()\n",
    "    \n",
    "    return rmse"
   ]
  },
  {
   "cell_type": "code",
   "execution_count": 175,
   "metadata": {},
   "outputs": [],
   "source": [
    "def perform_rca(x_data, num_runs=5):\n",
    "\n",
    "    if x_data.shape[1] > 20:\n",
    "        n_components = np.arange(2,x_data.shape[1]+1, 5)\n",
    "    else:\n",
    "        n_components = np.arange(2,x_data.shape[1]+1)\n",
    "        \n",
    "    average_recon_error_dict = {}\n",
    "\n",
    "    for num in list(range(num_runs)):\n",
    "        average_recon_error_lst = []\n",
    "\n",
    "        for n in n_components:\n",
    "            rca = RCA(n_components=n)\n",
    "            average_recon_error_lst.\\\n",
    "                append(\n",
    "                    pdist_correllation(\n",
    "                        rca.inverse_transform(rca.fit_transform(x_data)), x_data\n",
    "                        )\n",
    "                    )\n",
    "            \n",
    "        average_recon_error_dict[f'r_error_{num}'] = average_recon_error_lst\n",
    "\n",
    "    df_recon = pd.DataFrame(average_recon_error_dict)\n",
    "    df_result = pd.DataFrame({\n",
    "        'num_components': n_components,\n",
    "        'mean_recon_error': df_recon.mean(1),\n",
    "        'std_recon_error': df_recon.std(1)\n",
    "    })\n",
    "\n",
    "    return df_result"
   ]
  },
  {
   "cell_type": "code",
   "execution_count": 176,
   "metadata": {},
   "outputs": [],
   "source": [
    "def perform_manifold(x_data, num_runs=5):\n",
    "    if x_data.shape[1] > 20:\n",
    "        n_components = np.arange(2,x_data.shape[1]+1, 5)\n",
    "        es='dense'\n",
    "    else:\n",
    "        n_components = np.arange(2,x_data.shape[1]+1)\n",
    "        es='auto'\n",
    "    \n",
    "    average_recon_error_dict = {}\n",
    "    \n",
    "    for num in list(range(num_runs)):\n",
    "        average_recon_error_lst = []\n",
    "        for n in n_components:\n",
    "            lle = LocallyLinearEmbedding(n_components=n, eigen_solver=es)\n",
    "            lle.fit_transform(x_data)\n",
    "            average_recon_error_lst.append(lle.reconstruction_error_)\n",
    "            \n",
    "        average_recon_error_dict[f'r_error_{num}'] = average_recon_error_lst\n",
    "\n",
    "    df_recon = pd.DataFrame(average_recon_error_dict)\n",
    "    df_result = pd.DataFrame({\n",
    "        'num_components': n_components,\n",
    "        'mean_recon_error': df_recon.mean(1),\n",
    "        'std_recon_error': df_recon.std(1)\n",
    "    })\n",
    "\n",
    "    return df_result"
   ]
  },
  {
   "cell_type": "code",
   "execution_count": 177,
   "metadata": {},
   "outputs": [],
   "source": [
    "def perform_nn(x_data, y_data):\n",
    "\n",
    "    # Neural Network hyper tuning\n",
    "    # defining parameter range \n",
    "    param_grid = {\n",
    "    'learning_rate': [\"constant\"],\n",
    "    'hidden_layer_sizes': [(10,),(50,),(100,),(200,)],\n",
    "    'learning_rate_init': np.linspace(0.01, 1, 5),\n",
    "    'activation': ['relu'],\n",
    "    'solver': ['sgd']\n",
    "    }\n",
    "\n",
    "    grid = GridSearchCV(MLPClassifier(), param_grid, scoring='f1',\\\n",
    "                        refit = True, verbose = 3,n_jobs=-1) \n",
    "    \n",
    "    # fitting the model for grid search \n",
    "    grid.fit(x_data, y_data) \n",
    "    \n",
    "    return grid.best_estimator_"
   ]
  },
  {
   "attachments": {},
   "cell_type": "markdown",
   "metadata": {},
   "source": [
    "## Model Instantiation"
   ]
  },
  {
   "cell_type": "code",
   "execution_count": null,
   "metadata": {},
   "outputs": [],
   "source": [
    "r_state = 123456\n",
    "\n",
    "# Expectation Maximization: Clustering\n",
    "gmx = GaussianMixture(random_state=r_state)\n",
    "\n",
    "# Kmeans: Clustering\n",
    "km = KMeans(random_state=r_state, n_init=10, n_clusters=2)\n",
    "\n",
    "# Manifold: Dimension Reduction\n",
    "lle = LocallyLinearEmbedding(random_state=r_state)\n",
    "\n",
    "# Look at distribution of Eigenvalues or explained variance\n",
    "# Dimension Reduction\n",
    "pca = PCA(random_state=r_state)\n",
    "\n",
    "# Use kurtosisfor performance eval\n",
    "# Dimension Reduction\n",
    "ica = FastICA(random_state=r_state)\n",
    "\n",
    "# Use reconstruction error\n",
    "grp = GaussianRandomProjection(compute_inverse_components=True,random_state=r_state)\n",
    "\n",
    "# Neural network, use f1 score\n",
    "# Wine Params: {'activation': 'relu', 'hidden_layer_sizes': (100,), \n",
    "#               'learning_rate': 'constant', 'learning_rate_init': 0.89, 'solver': 'sgd'}\n",
    "# Shroom Params: {'activation': 'relu', 'hidden_layer_sizes': (100,),\n",
    "#                'learning_rate': 'constant', 'learning_rate_init': 0.01, 'solver': 'sgd'}\n",
    "mlp = MLPClassifier(random_state=r_state)"
   ]
  },
  {
   "cell_type": "code",
   "execution_count": null,
   "metadata": {},
   "outputs": [],
   "source": [
    "km.fit_transform(x_shroom)\n",
    "fig, ax = plt.subplots(2,2, sharex=True, sharey=True)\n",
    "ax = ax.flatten()\n",
    "ax[0].scatter(x_shroom.iloc[:,-1], x_shroom.iloc[:,-2], c=km.labels_)\n",
    "ax[1].scatter(x_shroom.iloc[:,-1], x_shroom.iloc[:,-2], c=y_shroom)\n",
    "ax[2].scatter(x_shroom.iloc[:,-1], x_shroom.iloc[:,-3], c=km.labels_)\n",
    "ax[3].scatter(x_shroom.iloc[:,-1], x_shroom.iloc[:,-3], c=y_shroom)\n",
    "plt.show()"
   ]
  },
  {
   "attachments": {},
   "cell_type": "markdown",
   "metadata": {},
   "source": [
    "## Wine: Clustering"
   ]
  },
  {
   "cell_type": "code",
   "execution_count": 160,
   "metadata": {},
   "outputs": [],
   "source": [
    "df_em = perform_em(x_wine)"
   ]
  },
  {
   "cell_type": "code",
   "execution_count": 161,
   "metadata": {},
   "outputs": [
    {
     "data": {
      "text/html": [
       "<div>\n",
       "<style scoped>\n",
       "    .dataframe tbody tr th:only-of-type {\n",
       "        vertical-align: middle;\n",
       "    }\n",
       "\n",
       "    .dataframe tbody tr th {\n",
       "        vertical-align: top;\n",
       "    }\n",
       "\n",
       "    .dataframe thead th {\n",
       "        text-align: right;\n",
       "    }\n",
       "</style>\n",
       "<table border=\"1\" class=\"dataframe\">\n",
       "  <thead>\n",
       "    <tr style=\"text-align: right;\">\n",
       "      <th></th>\n",
       "      <th>n_components</th>\n",
       "      <th>covariance_type</th>\n",
       "      <th>bic_score</th>\n",
       "      <th>std_bic_score</th>\n",
       "      <th>mean_fit_time</th>\n",
       "      <th>std_fit_time</th>\n",
       "      <th>mean_score_time</th>\n",
       "      <th>std_score_time</th>\n",
       "    </tr>\n",
       "  </thead>\n",
       "  <tbody>\n",
       "    <tr>\n",
       "      <th>4</th>\n",
       "      <td>5</td>\n",
       "      <td>full</td>\n",
       "      <td>28658.046041</td>\n",
       "      <td>212.460458</td>\n",
       "      <td>0.311266</td>\n",
       "      <td>0.079631</td>\n",
       "      <td>0.003943</td>\n",
       "      <td>0.005915</td>\n",
       "    </tr>\n",
       "    <tr>\n",
       "      <th>3</th>\n",
       "      <td>4</td>\n",
       "      <td>full</td>\n",
       "      <td>28799.650556</td>\n",
       "      <td>177.874255</td>\n",
       "      <td>0.170213</td>\n",
       "      <td>0.046105</td>\n",
       "      <td>0.004592</td>\n",
       "      <td>0.004241</td>\n",
       "    </tr>\n",
       "    <tr>\n",
       "      <th>5</th>\n",
       "      <td>6</td>\n",
       "      <td>full</td>\n",
       "      <td>29047.983379</td>\n",
       "      <td>410.775961</td>\n",
       "      <td>0.380125</td>\n",
       "      <td>0.067783</td>\n",
       "      <td>0.005725</td>\n",
       "      <td>0.007061</td>\n",
       "    </tr>\n",
       "  </tbody>\n",
       "</table>\n",
       "</div>"
      ],
      "text/plain": [
       "  n_components covariance_type     bic_score  std_bic_score  mean_fit_time  \\\n",
       "4            5            full  28658.046041     212.460458       0.311266   \n",
       "3            4            full  28799.650556     177.874255       0.170213   \n",
       "5            6            full  29047.983379     410.775961       0.380125   \n",
       "\n",
       "   std_fit_time  mean_score_time  std_score_time  \n",
       "4      0.079631         0.003943        0.005915  \n",
       "3      0.046105         0.004592        0.004241  \n",
       "5      0.067783         0.005725        0.007061  "
      ]
     },
     "execution_count": 161,
     "metadata": {},
     "output_type": "execute_result"
    }
   ],
   "source": [
    "df_em.head(3)"
   ]
  },
  {
   "cell_type": "code",
   "execution_count": 164,
   "metadata": {},
   "outputs": [
    {
     "data": {
      "text/html": [
       "<div>\n",
       "<style scoped>\n",
       "    .dataframe tbody tr th:only-of-type {\n",
       "        vertical-align: middle;\n",
       "    }\n",
       "\n",
       "    .dataframe tbody tr th {\n",
       "        vertical-align: top;\n",
       "    }\n",
       "\n",
       "    .dataframe thead th {\n",
       "        text-align: right;\n",
       "    }\n",
       "</style>\n",
       "<table border=\"1\" class=\"dataframe\">\n",
       "  <thead>\n",
       "    <tr style=\"text-align: right;\">\n",
       "      <th></th>\n",
       "      <th>n_components</th>\n",
       "      <th>covariance_type</th>\n",
       "      <th>bic_score</th>\n",
       "      <th>std_bic_score</th>\n",
       "      <th>mean_fit_time</th>\n",
       "      <th>std_fit_time</th>\n",
       "      <th>mean_score_time</th>\n",
       "      <th>std_score_time</th>\n",
       "    </tr>\n",
       "  </thead>\n",
       "  <tbody>\n",
       "    <tr>\n",
       "      <th>4</th>\n",
       "      <td>5</td>\n",
       "      <td>full</td>\n",
       "      <td>28658.046041</td>\n",
       "      <td>212.460458</td>\n",
       "      <td>0.311266</td>\n",
       "      <td>0.079631</td>\n",
       "      <td>0.003943</td>\n",
       "      <td>0.005915</td>\n",
       "    </tr>\n",
       "  </tbody>\n",
       "</table>\n",
       "</div>"
      ],
      "text/plain": [
       "  n_components covariance_type     bic_score  std_bic_score  mean_fit_time  \\\n",
       "4            5            full  28658.046041     212.460458       0.311266   \n",
       "\n",
       "   std_fit_time  mean_score_time  std_score_time  \n",
       "4      0.079631         0.003943        0.005915  "
      ]
     },
     "execution_count": 164,
     "metadata": {},
     "output_type": "execute_result"
    }
   ],
   "source": [
    "mask = df_em['bic_score'] == df_em['bic_score'].min()\n",
    "df_em[mask]"
   ]
  },
  {
   "cell_type": "code",
   "execution_count": 162,
   "metadata": {},
   "outputs": [
    {
     "data": {
      "image/png": "[encoded data removed]",
      "text/plain": [
       "<Figure size 640x480 with 1 Axes>"
      ]
     },
     "metadata": {},
     "output_type": "display_data"
    }
   ],
   "source": [
    "plt.scatter(df_em['n_components'],df_em['bic_score'])\n",
    "plt.show()"
   ]
  },
  {
   "cell_type": "code",
   "execution_count": 197,
   "metadata": {},
   "outputs": [
    {
     "data": {
      "text/html": [
       "<div>\n",
       "<style scoped>\n",
       "    .dataframe tbody tr th:only-of-type {\n",
       "        vertical-align: middle;\n",
       "    }\n",
       "\n",
       "    .dataframe tbody tr th {\n",
       "        vertical-align: top;\n",
       "    }\n",
       "\n",
       "    .dataframe thead th {\n",
       "        text-align: right;\n",
       "    }\n",
       "</style>\n",
       "<table border=\"1\" class=\"dataframe\">\n",
       "  <thead>\n",
       "    <tr style=\"text-align: right;\">\n",
       "      <th></th>\n",
       "      <th>num_components</th>\n",
       "      <th>mean_kurtosis</th>\n",
       "      <th>std_kurtosis</th>\n",
       "    </tr>\n",
       "  </thead>\n",
       "  <tbody>\n",
       "    <tr>\n",
       "      <th>0</th>\n",
       "      <td>2</td>\n",
       "      <td>1.066630</td>\n",
       "      <td>1.319314</td>\n",
       "    </tr>\n",
       "    <tr>\n",
       "      <th>1</th>\n",
       "      <td>3</td>\n",
       "      <td>1.746521</td>\n",
       "      <td>2.088425</td>\n",
       "    </tr>\n",
       "    <tr>\n",
       "      <th>2</th>\n",
       "      <td>4</td>\n",
       "      <td>2.423712</td>\n",
       "      <td>1.996640</td>\n",
       "    </tr>\n",
       "    <tr>\n",
       "      <th>3</th>\n",
       "      <td>5</td>\n",
       "      <td>8.594149</td>\n",
       "      <td>16.191628</td>\n",
       "    </tr>\n",
       "    <tr>\n",
       "      <th>4</th>\n",
       "      <td>6</td>\n",
       "      <td>7.656628</td>\n",
       "      <td>14.648242</td>\n",
       "    </tr>\n",
       "  </tbody>\n",
       "</table>\n",
       "</div>"
      ],
      "text/plain": [
       "   num_components  mean_kurtosis  std_kurtosis\n",
       "0               2       1.066630      1.319314\n",
       "1               3       1.746521      2.088425\n",
       "2               4       2.423712      1.996640\n",
       "3               5       8.594149     16.191628\n",
       "4               6       7.656628     14.648242"
      ]
     },
     "execution_count": 197,
     "metadata": {},
     "output_type": "execute_result"
    }
   ],
   "source": [
    "df_ica = perform_ica(x_wine)\n",
    "df_ica.head()"
   ]
  },
  {
   "cell_type": "code",
   "execution_count": 200,
   "metadata": {},
   "outputs": [
    {
     "data": {
      "text/plain": [
       "<matplotlib.collections.PathCollection at 0x20b2d292a70>"
      ]
     },
     "execution_count": 200,
     "metadata": {},
     "output_type": "execute_result"
    },
    {
     "data": {
      "image/png": "[encoded data removed]",
      "text/plain": [
       "<Figure size 640x480 with 1 Axes>"
      ]
     },
     "metadata": {},
     "output_type": "display_data"
    }
   ],
   "source": [
    "plt.scatter(df_ica['num_components'], df_ica['mean_kurtosis'])"
   ]
  },
  {
   "cell_type": "code",
   "execution_count": 199,
   "metadata": {},
   "outputs": [
    {
     "data": {
      "text/html": [
       "<div>\n",
       "<style scoped>\n",
       "    .dataframe tbody tr th:only-of-type {\n",
       "        vertical-align: middle;\n",
       "    }\n",
       "\n",
       "    .dataframe tbody tr th {\n",
       "        vertical-align: top;\n",
       "    }\n",
       "\n",
       "    .dataframe thead th {\n",
       "        text-align: right;\n",
       "    }\n",
       "</style>\n",
       "<table border=\"1\" class=\"dataframe\">\n",
       "  <thead>\n",
       "    <tr style=\"text-align: right;\">\n",
       "      <th></th>\n",
       "      <th>num_components</th>\n",
       "      <th>mean_recon_error</th>\n",
       "      <th>std_recon_error</th>\n",
       "    </tr>\n",
       "  </thead>\n",
       "  <tbody>\n",
       "    <tr>\n",
       "      <th>0</th>\n",
       "      <td>2</td>\n",
       "      <td>5.587618e-18</td>\n",
       "      <td>1.650934e-19</td>\n",
       "    </tr>\n",
       "    <tr>\n",
       "      <th>1</th>\n",
       "      <td>3</td>\n",
       "      <td>6.751816e-18</td>\n",
       "      <td>1.126470e-19</td>\n",
       "    </tr>\n",
       "    <tr>\n",
       "      <th>2</th>\n",
       "      <td>4</td>\n",
       "      <td>1.917754e-17</td>\n",
       "      <td>4.321820e-19</td>\n",
       "    </tr>\n",
       "  </tbody>\n",
       "</table>\n",
       "</div>"
      ],
      "text/plain": [
       "   num_components  mean_recon_error  std_recon_error\n",
       "0               2      5.587618e-18     1.650934e-19\n",
       "1               3      6.751816e-18     1.126470e-19\n",
       "2               4      1.917754e-17     4.321820e-19"
      ]
     },
     "execution_count": 199,
     "metadata": {},
     "output_type": "execute_result"
    }
   ],
   "source": [
    "df_man = perform_manifold(x_wine, num_runs=2)\n",
    "df_man.head(3)"
   ]
  },
  {
   "cell_type": "code",
   "execution_count": 202,
   "metadata": {},
   "outputs": [
    {
     "data": {
      "image/png": "[encoded data removed]",
      "text/plain": [
       "<Figure size 640x480 with 1 Axes>"
      ]
     },
     "metadata": {},
     "output_type": "display_data"
    }
   ],
   "source": [
    "plt.scatter(df_man['num_components'],df_man['mean_recon_error'])\n",
    "plt.show()"
   ]
  },
  {
   "cell_type": "code",
   "execution_count": 203,
   "metadata": {},
   "outputs": [
    {
     "ename": "ValueError",
     "evalue": "Error in determining null-space with ARPACK. Error message: 'Factor is exactly singular'. Note that eigen_solver='arpack' can fail when the weight matrix is singular or otherwise ill-behaved. In that case, eigen_solver='dense' is recommended. See online documentation for more information.",
     "output_type": "error",
     "traceback": [
      "\u001b[1;31m---------------------------------------------------------------------------\u001b[0m",
      "\u001b[1;31mRuntimeError\u001b[0m                              Traceback (most recent call last)",
      "File \u001b[1;32mc:\\Users\\lboad\\py_venv\\ml\\lib\\site-packages\\sklearn\\manifold\\_locally_linear.py:176\u001b[0m, in \u001b[0;36mnull_space\u001b[1;34m(M, k, k_skip, eigen_solver, tol, max_iter, random_state)\u001b[0m\n\u001b[0;32m    175\u001b[0m \u001b[39mtry\u001b[39;00m:\n\u001b[1;32m--> 176\u001b[0m     eigen_values, eigen_vectors \u001b[39m=\u001b[39m eigsh(\n\u001b[0;32m    177\u001b[0m         M, k \u001b[39m+\u001b[39;49m k_skip, sigma\u001b[39m=\u001b[39;49m\u001b[39m0.0\u001b[39;49m, tol\u001b[39m=\u001b[39;49mtol, maxiter\u001b[39m=\u001b[39;49mmax_iter, v0\u001b[39m=\u001b[39;49mv0\n\u001b[0;32m    178\u001b[0m     )\n\u001b[0;32m    179\u001b[0m \u001b[39mexcept\u001b[39;00m \u001b[39mRuntimeError\u001b[39;00m \u001b[39mas\u001b[39;00m e:\n",
      "File \u001b[1;32mc:\\Users\\lboad\\py_venv\\ml\\lib\\site-packages\\scipy\\sparse\\linalg\\_eigen\\arpack\\arpack.py:1651\u001b[0m, in \u001b[0;36meigsh\u001b[1;34m(A, k, M, sigma, which, v0, ncv, maxiter, tol, return_eigenvectors, Minv, OPinv, mode)\u001b[0m\n\u001b[0;32m   1650\u001b[0m \u001b[39mif\u001b[39;00m OPinv \u001b[39mis\u001b[39;00m \u001b[39mNone\u001b[39;00m:\n\u001b[1;32m-> 1651\u001b[0m     Minv_matvec \u001b[39m=\u001b[39m get_OPinv_matvec(A, M, sigma,\n\u001b[0;32m   1652\u001b[0m                                    hermitian\u001b[39m=\u001b[39;49m\u001b[39mTrue\u001b[39;49;00m, tol\u001b[39m=\u001b[39;49mtol)\n\u001b[0;32m   1653\u001b[0m \u001b[39melse\u001b[39;00m:\n",
      "File \u001b[1;32mc:\\Users\\lboad\\py_venv\\ml\\lib\\site-packages\\scipy\\sparse\\linalg\\_eigen\\arpack\\arpack.py:1063\u001b[0m, in \u001b[0;36mget_OPinv_matvec\u001b[1;34m(A, M, sigma, hermitian, tol)\u001b[0m\n\u001b[0;32m   1062\u001b[0m \u001b[39mif\u001b[39;00m sigma \u001b[39m==\u001b[39m \u001b[39m0\u001b[39m:\n\u001b[1;32m-> 1063\u001b[0m     \u001b[39mreturn\u001b[39;00m get_inv_matvec(A, hermitian\u001b[39m=\u001b[39;49mhermitian, tol\u001b[39m=\u001b[39;49mtol)\n\u001b[0;32m   1065\u001b[0m \u001b[39mif\u001b[39;00m M \u001b[39mis\u001b[39;00m \u001b[39mNone\u001b[39;00m:\n\u001b[0;32m   1066\u001b[0m     \u001b[39m#M is the identity matrix\u001b[39;00m\n",
      "File \u001b[1;32mc:\\Users\\lboad\\py_venv\\ml\\lib\\site-packages\\scipy\\sparse\\linalg\\_eigen\\arpack\\arpack.py:1056\u001b[0m, in \u001b[0;36mget_inv_matvec\u001b[1;34m(M, hermitian, tol)\u001b[0m\n\u001b[0;32m   1055\u001b[0m     M \u001b[39m=\u001b[39m _fast_spmatrix_to_csc(M, hermitian\u001b[39m=\u001b[39mhermitian)\n\u001b[1;32m-> 1056\u001b[0m     \u001b[39mreturn\u001b[39;00m SpLuInv(M)\u001b[39m.\u001b[39mmatvec\n\u001b[0;32m   1057\u001b[0m \u001b[39melse\u001b[39;00m:\n",
      "File \u001b[1;32mc:\\Users\\lboad\\py_venv\\ml\\lib\\site-packages\\scipy\\sparse\\linalg\\_eigen\\arpack\\arpack.py:915\u001b[0m, in \u001b[0;36mSpLuInv.__init__\u001b[1;34m(self, M)\u001b[0m\n\u001b[0;32m    914\u001b[0m \u001b[39mdef\u001b[39;00m \u001b[39m__init__\u001b[39m(\u001b[39mself\u001b[39m, M):\n\u001b[1;32m--> 915\u001b[0m     \u001b[39mself\u001b[39m\u001b[39m.\u001b[39mM_lu \u001b[39m=\u001b[39m splu(M)\n\u001b[0;32m    916\u001b[0m     \u001b[39mself\u001b[39m\u001b[39m.\u001b[39mshape \u001b[39m=\u001b[39m M\u001b[39m.\u001b[39mshape\n",
      "File \u001b[1;32mc:\\Users\\lboad\\py_venv\\ml\\lib\\site-packages\\scipy\\sparse\\linalg\\_dsolve\\linsolve.py:414\u001b[0m, in \u001b[0;36msplu\u001b[1;34m(A, permc_spec, diag_pivot_thresh, relax, panel_size, options)\u001b[0m\n\u001b[0;32m    412\u001b[0m     _options[\u001b[39m\"\u001b[39m\u001b[39mSymmetricMode\u001b[39m\u001b[39m\"\u001b[39m] \u001b[39m=\u001b[39m \u001b[39mTrue\u001b[39;00m\n\u001b[1;32m--> 414\u001b[0m \u001b[39mreturn\u001b[39;00m _superlu\u001b[39m.\u001b[39;49mgstrf(N, A\u001b[39m.\u001b[39;49mnnz, A\u001b[39m.\u001b[39;49mdata, A\u001b[39m.\u001b[39;49mindices, A\u001b[39m.\u001b[39;49mindptr,\n\u001b[0;32m    415\u001b[0m                       csc_construct_func\u001b[39m=\u001b[39;49mcsc_construct_func,\n\u001b[0;32m    416\u001b[0m                       ilu\u001b[39m=\u001b[39;49m\u001b[39mFalse\u001b[39;49;00m, options\u001b[39m=\u001b[39;49m_options)\n",
      "\u001b[1;31mRuntimeError\u001b[0m: Factor is exactly singular",
      "\nThe above exception was the direct cause of the following exception:\n",
      "\u001b[1;31mValueError\u001b[0m                                Traceback (most recent call last)",
      "\u001b[1;32mc:\\Users\\lboad\\Documents\\omscs\\machine_learning\\3_unsupervised_learning\\unsupe_models.ipynb Cell 35\u001b[0m line \u001b[0;36m1\n\u001b[1;32m----> <a href='vscode-notebook-cell:/c%3A/Users/lboad/Documents/omscs/machine_learning/3_unsupervised_learning/unsupe_models.ipynb#Y353sZmlsZQ%3D%3D?line=0'>1</a>\u001b[0m df_man_show \u001b[39m=\u001b[39m perform_manifold(x_shroom, num_runs\u001b[39m=\u001b[39;49m\u001b[39m2\u001b[39;49m)\n\u001b[0;32m      <a href='vscode-notebook-cell:/c%3A/Users/lboad/Documents/omscs/machine_learning/3_unsupervised_learning/unsupe_models.ipynb#Y353sZmlsZQ%3D%3D?line=1'>2</a>\u001b[0m df_man_show\u001b[39m.\u001b[39mhead(\u001b[39m3\u001b[39m)\n\u001b[0;32m      <a href='vscode-notebook-cell:/c%3A/Users/lboad/Documents/omscs/machine_learning/3_unsupervised_learning/unsupe_models.ipynb#Y353sZmlsZQ%3D%3D?line=2'>3</a>\u001b[0m plt\u001b[39m.\u001b[39mscatter(df_man_show[\u001b[39m'\u001b[39m\u001b[39mnum_components\u001b[39m\u001b[39m'\u001b[39m],df_man_show[\u001b[39m'\u001b[39m\u001b[39mmean_recon_error\u001b[39m\u001b[39m'\u001b[39m])\n",
      "\u001b[1;32mc:\\Users\\lboad\\Documents\\omscs\\machine_learning\\3_unsupervised_learning\\unsupe_models.ipynb Cell 35\u001b[0m line \u001b[0;36m1\n\u001b[0;32m     <a href='vscode-notebook-cell:/c%3A/Users/lboad/Documents/omscs/machine_learning/3_unsupervised_learning/unsupe_models.ipynb#Y353sZmlsZQ%3D%3D?line=10'>11</a>\u001b[0m \u001b[39mfor\u001b[39;00m n \u001b[39min\u001b[39;00m n_components:\n\u001b[0;32m     <a href='vscode-notebook-cell:/c%3A/Users/lboad/Documents/omscs/machine_learning/3_unsupervised_learning/unsupe_models.ipynb#Y353sZmlsZQ%3D%3D?line=11'>12</a>\u001b[0m     lle \u001b[39m=\u001b[39m LocallyLinearEmbedding(n_components\u001b[39m=\u001b[39mn, eigen_solver\u001b[39m=\u001b[39m\u001b[39m'\u001b[39m\u001b[39mauto\u001b[39m\u001b[39m'\u001b[39m)\n\u001b[1;32m---> <a href='vscode-notebook-cell:/c%3A/Users/lboad/Documents/omscs/machine_learning/3_unsupervised_learning/unsupe_models.ipynb#Y353sZmlsZQ%3D%3D?line=12'>13</a>\u001b[0m     lle\u001b[39m.\u001b[39;49mfit_transform(x_data)\n\u001b[0;32m     <a href='vscode-notebook-cell:/c%3A/Users/lboad/Documents/omscs/machine_learning/3_unsupervised_learning/unsupe_models.ipynb#Y353sZmlsZQ%3D%3D?line=13'>14</a>\u001b[0m     average_recon_error_lst\u001b[39m.\u001b[39mappend(lle\u001b[39m.\u001b[39mreconstruction_error_)\n\u001b[0;32m     <a href='vscode-notebook-cell:/c%3A/Users/lboad/Documents/omscs/machine_learning/3_unsupervised_learning/unsupe_models.ipynb#Y353sZmlsZQ%3D%3D?line=15'>16</a>\u001b[0m average_recon_error_dict[\u001b[39mf\u001b[39m\u001b[39m'\u001b[39m\u001b[39mr_error_\u001b[39m\u001b[39m{\u001b[39;00mnum\u001b[39m}\u001b[39;00m\u001b[39m'\u001b[39m] \u001b[39m=\u001b[39m average_recon_error_lst\n",
      "File \u001b[1;32mc:\\Users\\lboad\\py_venv\\ml\\lib\\site-packages\\sklearn\\utils\\_set_output.py:157\u001b[0m, in \u001b[0;36m_wrap_method_output.<locals>.wrapped\u001b[1;34m(self, X, *args, **kwargs)\u001b[0m\n\u001b[0;32m    155\u001b[0m \u001b[39m@wraps\u001b[39m(f)\n\u001b[0;32m    156\u001b[0m \u001b[39mdef\u001b[39;00m \u001b[39mwrapped\u001b[39m(\u001b[39mself\u001b[39m, X, \u001b[39m*\u001b[39margs, \u001b[39m*\u001b[39m\u001b[39m*\u001b[39mkwargs):\n\u001b[1;32m--> 157\u001b[0m     data_to_wrap \u001b[39m=\u001b[39m f(\u001b[39mself\u001b[39m, X, \u001b[39m*\u001b[39margs, \u001b[39m*\u001b[39m\u001b[39m*\u001b[39mkwargs)\n\u001b[0;32m    158\u001b[0m     \u001b[39mif\u001b[39;00m \u001b[39misinstance\u001b[39m(data_to_wrap, \u001b[39mtuple\u001b[39m):\n\u001b[0;32m    159\u001b[0m         \u001b[39m# only wrap the first output for cross decomposition\u001b[39;00m\n\u001b[0;32m    160\u001b[0m         return_tuple \u001b[39m=\u001b[39m (\n\u001b[0;32m    161\u001b[0m             _wrap_data_with_container(method, data_to_wrap[\u001b[39m0\u001b[39m], X, \u001b[39mself\u001b[39m),\n\u001b[0;32m    162\u001b[0m             \u001b[39m*\u001b[39mdata_to_wrap[\u001b[39m1\u001b[39m:],\n\u001b[0;32m    163\u001b[0m         )\n",
      "File \u001b[1;32mc:\\Users\\lboad\\py_venv\\ml\\lib\\site-packages\\sklearn\\base.py:1156\u001b[0m, in \u001b[0;36m_fit_context.<locals>.decorator.<locals>.wrapper\u001b[1;34m(estimator, *args, **kwargs)\u001b[0m\n\u001b[0;32m   1149\u001b[0m     estimator\u001b[39m.\u001b[39m_validate_params()\n\u001b[0;32m   1151\u001b[0m \u001b[39mwith\u001b[39;00m config_context(\n\u001b[0;32m   1152\u001b[0m     skip_parameter_validation\u001b[39m=\u001b[39m(\n\u001b[0;32m   1153\u001b[0m         prefer_skip_nested_validation \u001b[39mor\u001b[39;00m global_skip_validation\n\u001b[0;32m   1154\u001b[0m     )\n\u001b[0;32m   1155\u001b[0m ):\n\u001b[1;32m-> 1156\u001b[0m     \u001b[39mreturn\u001b[39;00m fit_method(estimator, \u001b[39m*\u001b[39margs, \u001b[39m*\u001b[39m\u001b[39m*\u001b[39mkwargs)\n",
      "File \u001b[1;32mc:\\Users\\lboad\\py_venv\\ml\\lib\\site-packages\\sklearn\\manifold\\_locally_linear.py:798\u001b[0m, in \u001b[0;36mLocallyLinearEmbedding.fit_transform\u001b[1;34m(self, X, y)\u001b[0m\n\u001b[0;32m    781\u001b[0m \u001b[39m@_fit_context\u001b[39m(prefer_skip_nested_validation\u001b[39m=\u001b[39m\u001b[39mTrue\u001b[39;00m)\n\u001b[0;32m    782\u001b[0m \u001b[39mdef\u001b[39;00m \u001b[39mfit_transform\u001b[39m(\u001b[39mself\u001b[39m, X, y\u001b[39m=\u001b[39m\u001b[39mNone\u001b[39;00m):\n\u001b[0;32m    783\u001b[0m \u001b[39m    \u001b[39m\u001b[39m\"\"\"Compute the embedding vectors for data X and transform X.\u001b[39;00m\n\u001b[0;32m    784\u001b[0m \n\u001b[0;32m    785\u001b[0m \u001b[39m    Parameters\u001b[39;00m\n\u001b[1;32m   (...)\u001b[0m\n\u001b[0;32m    796\u001b[0m \u001b[39m        Returns the instance itself.\u001b[39;00m\n\u001b[0;32m    797\u001b[0m \u001b[39m    \"\"\"\u001b[39;00m\n\u001b[1;32m--> 798\u001b[0m     \u001b[39mself\u001b[39;49m\u001b[39m.\u001b[39;49m_fit_transform(X)\n\u001b[0;32m    799\u001b[0m     \u001b[39mreturn\u001b[39;00m \u001b[39mself\u001b[39m\u001b[39m.\u001b[39membedding_\n",
      "File \u001b[1;32mc:\\Users\\lboad\\py_venv\\ml\\lib\\site-packages\\sklearn\\manifold\\_locally_linear.py:745\u001b[0m, in \u001b[0;36mLocallyLinearEmbedding._fit_transform\u001b[1;34m(self, X)\u001b[0m\n\u001b[0;32m    743\u001b[0m X \u001b[39m=\u001b[39m \u001b[39mself\u001b[39m\u001b[39m.\u001b[39m_validate_data(X, dtype\u001b[39m=\u001b[39m\u001b[39mfloat\u001b[39m)\n\u001b[0;32m    744\u001b[0m \u001b[39mself\u001b[39m\u001b[39m.\u001b[39mnbrs_\u001b[39m.\u001b[39mfit(X)\n\u001b[1;32m--> 745\u001b[0m \u001b[39mself\u001b[39m\u001b[39m.\u001b[39membedding_, \u001b[39mself\u001b[39m\u001b[39m.\u001b[39mreconstruction_error_ \u001b[39m=\u001b[39m locally_linear_embedding(\n\u001b[0;32m    746\u001b[0m     X\u001b[39m=\u001b[39;49m\u001b[39mself\u001b[39;49m\u001b[39m.\u001b[39;49mnbrs_,\n\u001b[0;32m    747\u001b[0m     n_neighbors\u001b[39m=\u001b[39;49m\u001b[39mself\u001b[39;49m\u001b[39m.\u001b[39;49mn_neighbors,\n\u001b[0;32m    748\u001b[0m     n_components\u001b[39m=\u001b[39;49m\u001b[39mself\u001b[39;49m\u001b[39m.\u001b[39;49mn_components,\n\u001b[0;32m    749\u001b[0m     eigen_solver\u001b[39m=\u001b[39;49m\u001b[39mself\u001b[39;49m\u001b[39m.\u001b[39;49meigen_solver,\n\u001b[0;32m    750\u001b[0m     tol\u001b[39m=\u001b[39;49m\u001b[39mself\u001b[39;49m\u001b[39m.\u001b[39;49mtol,\n\u001b[0;32m    751\u001b[0m     max_iter\u001b[39m=\u001b[39;49m\u001b[39mself\u001b[39;49m\u001b[39m.\u001b[39;49mmax_iter,\n\u001b[0;32m    752\u001b[0m     method\u001b[39m=\u001b[39;49m\u001b[39mself\u001b[39;49m\u001b[39m.\u001b[39;49mmethod,\n\u001b[0;32m    753\u001b[0m     hessian_tol\u001b[39m=\u001b[39;49m\u001b[39mself\u001b[39;49m\u001b[39m.\u001b[39;49mhessian_tol,\n\u001b[0;32m    754\u001b[0m     modified_tol\u001b[39m=\u001b[39;49m\u001b[39mself\u001b[39;49m\u001b[39m.\u001b[39;49mmodified_tol,\n\u001b[0;32m    755\u001b[0m     random_state\u001b[39m=\u001b[39;49mrandom_state,\n\u001b[0;32m    756\u001b[0m     reg\u001b[39m=\u001b[39;49m\u001b[39mself\u001b[39;49m\u001b[39m.\u001b[39;49mreg,\n\u001b[0;32m    757\u001b[0m     n_jobs\u001b[39m=\u001b[39;49m\u001b[39mself\u001b[39;49m\u001b[39m.\u001b[39;49mn_jobs,\n\u001b[0;32m    758\u001b[0m )\n\u001b[0;32m    759\u001b[0m \u001b[39mself\u001b[39m\u001b[39m.\u001b[39m_n_features_out \u001b[39m=\u001b[39m \u001b[39mself\u001b[39m\u001b[39m.\u001b[39membedding_\u001b[39m.\u001b[39mshape[\u001b[39m1\u001b[39m]\n",
      "File \u001b[1;32mc:\\Users\\lboad\\py_venv\\ml\\lib\\site-packages\\sklearn\\manifold\\_locally_linear.py:542\u001b[0m, in \u001b[0;36mlocally_linear_embedding\u001b[1;34m(X, n_neighbors, n_components, reg, eigen_solver, tol, max_iter, method, hessian_tol, modified_tol, random_state, n_jobs)\u001b[0m\n\u001b[0;32m    539\u001b[0m         M[nbrs_x, nbrs_y] \u001b[39m-\u001b[39m\u001b[39m=\u001b[39m GiGiT\n\u001b[0;32m    540\u001b[0m         M[neighbors[i], neighbors[i]] \u001b[39m+\u001b[39m\u001b[39m=\u001b[39m \u001b[39m1\u001b[39m\n\u001b[1;32m--> 542\u001b[0m \u001b[39mreturn\u001b[39;00m null_space(\n\u001b[0;32m    543\u001b[0m     M,\n\u001b[0;32m    544\u001b[0m     n_components,\n\u001b[0;32m    545\u001b[0m     k_skip\u001b[39m=\u001b[39;49m\u001b[39m1\u001b[39;49m,\n\u001b[0;32m    546\u001b[0m     eigen_solver\u001b[39m=\u001b[39;49meigen_solver,\n\u001b[0;32m    547\u001b[0m     tol\u001b[39m=\u001b[39;49mtol,\n\u001b[0;32m    548\u001b[0m     max_iter\u001b[39m=\u001b[39;49mmax_iter,\n\u001b[0;32m    549\u001b[0m     random_state\u001b[39m=\u001b[39;49mrandom_state,\n\u001b[0;32m    550\u001b[0m )\n",
      "File \u001b[1;32mc:\\Users\\lboad\\py_venv\\ml\\lib\\site-packages\\sklearn\\manifold\\_locally_linear.py:180\u001b[0m, in \u001b[0;36mnull_space\u001b[1;34m(M, k, k_skip, eigen_solver, tol, max_iter, random_state)\u001b[0m\n\u001b[0;32m    176\u001b[0m         eigen_values, eigen_vectors \u001b[39m=\u001b[39m eigsh(\n\u001b[0;32m    177\u001b[0m             M, k \u001b[39m+\u001b[39m k_skip, sigma\u001b[39m=\u001b[39m\u001b[39m0.0\u001b[39m, tol\u001b[39m=\u001b[39mtol, maxiter\u001b[39m=\u001b[39mmax_iter, v0\u001b[39m=\u001b[39mv0\n\u001b[0;32m    178\u001b[0m         )\n\u001b[0;32m    179\u001b[0m     \u001b[39mexcept\u001b[39;00m \u001b[39mRuntimeError\u001b[39;00m \u001b[39mas\u001b[39;00m e:\n\u001b[1;32m--> 180\u001b[0m         \u001b[39mraise\u001b[39;00m \u001b[39mValueError\u001b[39;00m(\n\u001b[0;32m    181\u001b[0m             \u001b[39m\"\u001b[39m\u001b[39mError in determining null-space with ARPACK. Error message: \u001b[39m\u001b[39m\"\u001b[39m\n\u001b[0;32m    182\u001b[0m             \u001b[39m\"\u001b[39m\u001b[39m'\u001b[39m\u001b[39m%s\u001b[39;00m\u001b[39m'\u001b[39m\u001b[39m. Note that eigen_solver=\u001b[39m\u001b[39m'\u001b[39m\u001b[39marpack\u001b[39m\u001b[39m'\u001b[39m\u001b[39m can fail when the \u001b[39m\u001b[39m\"\u001b[39m\n\u001b[0;32m    183\u001b[0m             \u001b[39m\"\u001b[39m\u001b[39mweight matrix is singular or otherwise ill-behaved. In that \u001b[39m\u001b[39m\"\u001b[39m\n\u001b[0;32m    184\u001b[0m             \u001b[39m\"\u001b[39m\u001b[39mcase, eigen_solver=\u001b[39m\u001b[39m'\u001b[39m\u001b[39mdense\u001b[39m\u001b[39m'\u001b[39m\u001b[39m is recommended. See online \u001b[39m\u001b[39m\"\u001b[39m\n\u001b[0;32m    185\u001b[0m             \u001b[39m\"\u001b[39m\u001b[39mdocumentation for more information.\u001b[39m\u001b[39m\"\u001b[39m \u001b[39m%\u001b[39m e\n\u001b[0;32m    186\u001b[0m         ) \u001b[39mfrom\u001b[39;00m \u001b[39me\u001b[39;00m\n\u001b[0;32m    188\u001b[0m     \u001b[39mreturn\u001b[39;00m eigen_vectors[:, k_skip:], np\u001b[39m.\u001b[39msum(eigen_values[k_skip:])\n\u001b[0;32m    189\u001b[0m \u001b[39melif\u001b[39;00m eigen_solver \u001b[39m==\u001b[39m \u001b[39m\"\u001b[39m\u001b[39mdense\u001b[39m\u001b[39m\"\u001b[39m:\n",
      "\u001b[1;31mValueError\u001b[0m: Error in determining null-space with ARPACK. Error message: 'Factor is exactly singular'. Note that eigen_solver='arpack' can fail when the weight matrix is singular or otherwise ill-behaved. In that case, eigen_solver='dense' is recommended. See online documentation for more information."
     ]
    }
   ],
   "source": [
    "df_man_show = perform_manifold(x_shroom, num_runs=2)\n",
    "df_man_show.head(3)\n",
    "plt.scatter(df_man_show['num_components'],df_man_show['mean_recon_error'])\n",
    "plt.show()"
   ]
  },
  {
   "cell_type": "code",
   "execution_count": null,
   "metadata": {},
   "outputs": [],
   "source": [
    "from sklearn.linear_model import LogisticRegression\n",
    "from sklearn.model_selection import GridSearchCV\n",
    "from sklearn.pipeline import Pipeline\n",
    "from sklearn.preprocessing import StandardScaler\n",
    "from sklearn import datasets\n",
    "\n",
    "# Define a pipeline to search for the best combination of PCA truncation\n",
    "# and classifier regularization.\n",
    "pca = PCA()\n",
    "# Define a Standard Scaler to normalize inputs\n",
    "scaler = StandardScaler()\n",
    "\n",
    "# set the tolerance to a large value to make the example faster\n",
    "logistic = LogisticRegression(max_iter=10000, tol=0.1)\n",
    "pipe = Pipeline(steps=[(\"pca\", pca), (\"logistic\", logistic)])\n",
    "\n",
    "param_grid = {\n",
    "    \"pca__n_components\": np.arange(1, (x_shroom.shape[1]+1)),\n",
    "    \"logistic__C\": np.logspace(-4, 4, 4),\n",
    "}\n",
    "search = GridSearchCV(pipe, param_grid, n_jobs=2)\n",
    "search.fit(x_shroom, y_shroom)\n",
    "print(\"Best parameter (CV score=%0.3f):\" % search.best_score_)\n",
    "print(search.best_params_)"
   ]
  },
  {
   "cell_type": "code",
   "execution_count": null,
   "metadata": {},
   "outputs": [],
   "source": [
    "from sklearn.linear_model import LogisticRegression\n",
    "from sklearn.model_selection import GridSearchCV\n",
    "from sklearn.pipeline import Pipeline\n",
    "from sklearn.preprocessing import StandardScaler\n",
    "from sklearn import datasets\n",
    "\n",
    "# Plot the PCA spectrum\n",
    "pca.fit(x_shroom)\n",
    "cumsum = np.cumsum(pca.explained_variance_ratio_)\n",
    "fig, ax0 = plt.subplots()\n",
    "ax0.plot(cumsum, \"+\", linewidth=2)\n",
    "ax0.set_ylabel(\"cumulative explained variance ratio\")\n",
    "\n",
    "ax0.axhline(\n",
    "    0.95,\n",
    "    linestyle=\":\",\n",
    "    label=\"95% Variance\",\n",
    ")\n",
    "ax0.axvline(\n",
    "    60,\n",
    "    linestyle=\":\",\n",
    "    label=\"n-components\",\n",
    ")\n",
    "ax0.legend(prop=dict(size=12))\n",
    "plt.show()"
   ]
  },
  {
   "cell_type": "code",
   "execution_count": null,
   "metadata": {},
   "outputs": [],
   "source": [
    "x_data=x_wine \n",
    "num_runs=2\n",
    "\n",
    "if x_data.shape[1] > 10:\n",
    "    \n",
    "    n_components = np.arange(2,x_data.shape[1]+1)\n",
    "else:\n",
    "    n_components = np.arange(2,x_data.shape[1]+1, 5)\n",
    "    \n",
    "    \n",
    "average_recon_error_dict = {}\n",
    "\n",
    "for num in list(range(num_runs)):\n",
    "    average_recon_error_lst = []\n",
    "\n",
    "    for n in n_components:\n",
    "        rca = RCA(n_components=n)\n",
    "        average_recon_error_lst.\\\n",
    "            append(\n",
    "                pdist_correllation(\n",
    "                    rca.inverse_transform(rca.fit_transform(x_data)), x_data\n",
    "                    )\n",
    "                )\n",
    "        \n",
    "    average_recon_error_dict[f'r_error_{num}'] = average_recon_error_lst\n",
    "\n",
    "df_recon = pd.DataFrame(average_recon_error_dict)\n",
    "df_result = pd.DataFrame({\n",
    "    'num_components': n_components,\n",
    "    'mean_recon_error': df_recon.mean(1),\n",
    "    'std_recon_error': df_recon.std(1)\n",
    "})"
   ]
  },
  {
   "cell_type": "code",
   "execution_count": null,
   "metadata": {},
   "outputs": [],
   "source": [
    "plt.plot(df_result['num_components'],df_result['mean_recon_error'])\n",
    "plt.show()"
   ]
  },
  {
   "cell_type": "code",
   "execution_count": null,
   "metadata": {},
   "outputs": [],
   "source": []
  }
 ],
 "metadata": {
  "kernelspec": {
   "display_name": "ml",
   "language": "python",
   "name": "python3"
  },
  "language_info": {
   "codemirror_mode": {
    "name": "ipython",
    "version": 3
   },
   "file_extension": ".py",
   "mimetype": "text/x-python",
   "name": "python",
   "nbconvert_exporter": "python",
   "pygments_lexer": "ipython3",
   "version": "3.10.11"
  },
  "orig_nbformat": 4
 },
 "nbformat": 4,
 "nbformat_minor": 2
}
