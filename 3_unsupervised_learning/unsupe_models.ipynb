{
 "cells": [
  {
   "attachments": {},
   "cell_type": "markdown",
   "metadata": {},
   "source": [
    "## Module Imports"
   ]
  },
  {
   "cell_type": "code",
   "execution_count": null,
   "metadata": {},
   "outputs": [],
   "source": [
    "import os\n",
    "\n",
    "import pandas as pd\n",
    "import numpy as np\n",
    "import timeit\n",
    "\n",
    "import matplotlib.pyplot as plt\n",
    "import seaborn as sns\n",
    "\n",
    "# Linear model for PCA\n",
    "from sklearn.linear_model import LogisticRegression\n",
    "\n",
    "# Estimation maximization\n",
    "from sklearn.mixture import GaussianMixture\n",
    "\n",
    "# Neural Network\n",
    "from sklearn.neural_network import MLPClassifier\n",
    "\n",
    "# Clustering Algo\n",
    "from sklearn.cluster import KMeans\n",
    "\n",
    "# Principal and indipendent component analysis\n",
    "from sklearn.decomposition import FastICA, PCA\n",
    "\n",
    "# Randomized projections\n",
    "from sklearn.random_projection import GaussianRandomProjection,\\\n",
    "      SparseRandomProjection as RCA\n",
    "\n",
    "# Manifolds\n",
    "from sklearn.manifold import LocallyLinearEmbedding\n",
    "\n",
    "# Mertrics\n",
    "from sklearn.metrics.pairwise import pairwise_distances\n",
    "from sklearn.metrics import silhouette_score as s_score,\\\n",
    "      calinski_harabasz_score as ch_score,\\\n",
    "        homogeneity_completeness_v_measure as hcv_score, adjusted_rand_score as ar_score,\\\n",
    "        pairwise_distances\n",
    "from sklearn.metrics import \\\n",
    "    balanced_accuracy_score, f1_score, precision_score, recall_score, roc_auc_score\n",
    "from sklearn.pipeline import make_pipeline, Pipeline\n",
    "\n",
    "# pre-processing\n",
    "from sklearn.preprocessing import OneHotEncoder, StandardScaler\n",
    "from sklearn.compose import make_column_transformer\n",
    "from sklearn.model_selection import \\\n",
    "    LearningCurveDisplay, validation_curve, learning_curve, train_test_split, ShuffleSplit,\\\n",
    "          GridSearchCV, cross_validate\n",
    "\n"
   ]
  },
  {
   "cell_type": "markdown",
   "metadata": {},
   "source": [
    "## Data Processing"
   ]
  },
  {
   "cell_type": "code",
   "execution_count": null,
   "metadata": {},
   "outputs": [],
   "source": [
    "red_wine = os.path.join('data','wine', 'winequality-red.csv')\n",
    "white_wine = os.path.join('data','wine', 'winequality-white.csv')\n",
    "turbine = os.path.join('data','turbine','gt_2011.csv')\n",
    "mushrooms = os.path.join('data','mushroom','secondary_data.csv')\n",
    "\n",
    "# encoders to use\n",
    "scale = StandardScaler()\n",
    "s_split = ShuffleSplit()\n",
    "ohe = OneHotEncoder(sparse_output=False)"
   ]
  },
  {
   "cell_type": "markdown",
   "metadata": {},
   "source": [
    "## SHROOM DATA"
   ]
  },
  {
   "cell_type": "code",
   "execution_count": null,
   "metadata": {},
   "outputs": [],
   "source": [
    "transformer = make_column_transformer(\n",
    "    (\n",
    "        ohe, \n",
    "        [\n",
    "        'cap-shape', 'cap-surface', 'cap-color',\n",
    "       'does-bruise-or-bleed', 'gill-attachment','gill-spacing', 'gill-color', \n",
    "       'stem-root', 'stem-surface', 'stem-color','veil-type', 'veil-color',\n",
    "        'has-ring', 'ring-type', 'spore-print-color','habitat', 'season'\n",
    "        ]\n",
    "        ),\n",
    "    remainder='passthrough'\n",
    "    )\n",
    "\n",
    "# pre-process shroom data\n",
    "\n",
    "shroom_df = pd.read_csv(mushrooms,sep=';').sample(frac=1).reset_index(drop=True)\n",
    "x = shroom_df.iloc[:,1:].copy()\n",
    "x_shroom = pd.DataFrame(transformer.fit_transform(x), \n",
    "                columns=transformer.get_feature_names_out())\n",
    "y = shroom_df.iloc[:,0].copy()\n",
    "y_shroom = (y == 'p')\n",
    "\n",
    "\n",
    "# reduce the number of training examples\n",
    "x_shroom = x_shroom[:7000]\n",
    "y_shroom =  y_shroom[:7000]\n",
    "\n",
    "# Scale numerical attributes to be b/w 1 and -1\n",
    "lst_of_num_cols = [\n",
    "    'remainder__cap-diameter', 'remainder__stem-height', 'remainder__stem-width'\n",
    "    ]\n",
    "x_shroom[lst_of_num_cols] = scale.fit_transform(x_shroom[lst_of_num_cols])"
   ]
  },
  {
   "cell_type": "markdown",
   "metadata": {},
   "source": [
    "## WINE DATA"
   ]
  },
  {
   "cell_type": "code",
   "execution_count": null,
   "metadata": {},
   "outputs": [],
   "source": [
    "white_df = pd.read_csv(white_wine, sep=';')\n",
    "red_df = pd.read_csv(red_wine, sep=';')\n",
    "white_df['type'] = 0\n",
    "red_df['type'] = 1\n",
    "wine_df = pd.concat([white_df,red_df])\n",
    "wine_df = wine_df.sample(frac=1).reset_index(drop=True)\n",
    "\n",
    "# set x and y values\n",
    "# remove 'quality' and 'type' column from x array\n",
    "x_wine = wine_df.iloc[:,:-2].copy()\n",
    "# scale x vals\n",
    "x_wine.values[:,:] = scale.fit_transform(x_wine)\n",
    "# set y array equal to 'type' column \n",
    "y_wine = wine_df.iloc[:,-1].copy()"
   ]
  },
  {
   "cell_type": "markdown",
   "metadata": {},
   "source": [
    "## Shroom and Wine Train/Test Split"
   ]
  },
  {
   "cell_type": "code",
   "execution_count": null,
   "metadata": {},
   "outputs": [],
   "source": [
    "x_shroom_train, x_shroom_test, y_shroom_train, y_shroom_test =\\\n",
    "      train_test_split(x_shroom, y_shroom, test_size=0.2)\n",
    "\n",
    "x_wine_train, x_wine_test, y_wine_train, y_wine_test =\\\n",
    "      train_test_split(x_wine, y_wine, test_size=0.2)\n"
   ]
  },
  {
   "cell_type": "markdown",
   "metadata": {},
   "source": [
    "## Helper Functions"
   ]
  },
  {
   "cell_type": "code",
   "execution_count": 167,
   "metadata": {},
   "outputs": [],
   "source": [
    "def generate_validation_curve(model, param_grid, x_data, y_data,\n",
    "                          x_range, param_name, model_name, axs,\\\n",
    "                          plot_train=True, plot_test=True):\n",
    "    \n",
    "    train_score, test_score = validation_curve(model, x_data, y_data, \n",
    "                                 fit_params=param_grid, scoring='f1_score')\n",
    "    \n",
    "    train_mean = train_score.mean(1)\n",
    "    train_sd = train_score.std(1)\n",
    "    test_mean = test_score.mean(1)\n",
    "    test_sd = test_score.std(1)\n",
    "    axs = axs\n",
    "    x = x_range\n",
    "    if plot_train:\n",
    "        line, = axs.plot(x,train_mean, 'o-')\n",
    "        axs.fill_between(x,train_mean + train_sd, train_mean - train_sd,alpha=0.3)\n",
    "    if plot_test:\n",
    "        axs.plot(x,test_mean,'o-')\n",
    "        axs.fill_between(x, test_mean + test_sd, test_mean - test_sd,alpha=0.3)\n",
    "    axs.set_title(f'{model_name} validation curve', fontsize = 15)\n",
    "    axs.set_xlabel(f'{param_name}', fontsize = 15)\n",
    "    axs.set_ylabel(f'f1 score', fontsize = 15)\n",
    "    axs.legend()\n",
    "    axs.tick_params(axis='both', which='major', labelsize=15)\n",
    "    axs.tick_params(axis='both', which='minor', labelsize=15)\n",
    "\n",
    "    return line"
   ]
  },
  {
   "cell_type": "code",
   "execution_count": 168,
   "metadata": {},
   "outputs": [],
   "source": [
    "def generate_learning_curve(model, param_grid, x_data, y_data,\n",
    "                          x_range, param_name, model_name, axs,\\\n",
    "                          plot_train=True, plot_test=True):\n",
    "    \n",
    "    train_sizes, train_scores, test_scores, fit_times, score_times =\\\n",
    "          learning_curve(model, x_data, y_data,)\n",
    "\n",
    "    train_mean = train_scores.mean(1)\n",
    "    train_sd = train_scores.std(1)\n",
    "    test_mean = test_scores.mean(1)\n",
    "    test_sd = test_scores.std(1)\n",
    "    fit_mean = fit_times.mean(1)\n",
    "    fit_std = fit_times.std(1)\n",
    "    score_mean = score_times.mean(1)\n",
    "    score_std = score_times.std(1)\n",
    "\n",
    "    return None"
   ]
  },
  {
   "cell_type": "code",
   "execution_count": 169,
   "metadata": {},
   "outputs": [],
   "source": [
    "def plot_curve(x_data, y_data, axs=None, take_mean=False):\n",
    "\n",
    "    if axs == None:\n",
    "        _, axs = plt.subplots()\n",
    "\n",
    "    if take_mean:\n",
    "        y_mean = y_data.mean(1)\n",
    "        y_std = y_data.std(1)\n",
    "        axs.plot(x_data,y_mean,'o-')\n",
    "        line = axs.fill_between(x_data, y_mean + y_std, y_mean - y_std,alpha=0.3)\n",
    "    else:\n",
    "        line = axs.plot(x_data, y_data)\n",
    "\n",
    "    return line"
   ]
  },
  {
   "cell_type": "code",
   "execution_count": 170,
   "metadata": {},
   "outputs": [],
   "source": [
    "def perform_kmeans(x_data, y_data, num_runs=5):\n",
    "    import warnings\n",
    "    from sklearn.exceptions import DataConversionWarning\n",
    "    warnings.filterwarnings(action='ignore', category=DataConversionWarning)\n",
    "    \n",
    "    r_state = 123456\n",
    "    num_clusters = np.arange(2,50)\n",
    "    train_time_dict = {}\n",
    "    s_score_dict = {}\n",
    "    ch_score_dict = {}\n",
    "    v_score_dict = {}\n",
    "    ar_score_dict = {}\n",
    "\n",
    "    for i in list(range(num_runs)):\n",
    "\n",
    "        train_time_lst = []\n",
    "        s_score_lst = []\n",
    "        ch_score_lst = []\n",
    "        v_score_lst = []\n",
    "        ar_score_lst = []\n",
    "\n",
    "        for num in num_clusters:\n",
    "\n",
    "            st = timeit.default_timer()\n",
    "            k_model = KMeans(n_init=10, n_clusters=num).fit(x_data)\n",
    "            et = timeit.default_timer()\n",
    "            k_model.fit(x_data, y_data)\n",
    "            train_time_lst.append(et - st)\n",
    "\n",
    "            h,c,v = hcv_score(y_data, k_model.labels_)\n",
    "            v_score_lst.append(v)\n",
    "            ar_score_lst.append(ar_score(y_data, k_model.labels_))\n",
    "\n",
    "            ch_score_lst.append(\n",
    "                ch_score(y_data.to_numpy().reshape(-1,1), k_model.labels_.reshape(-1,1))\n",
    "                )\n",
    "            \n",
    "            s_score_lst.append(\n",
    "                s_score(y_data.to_numpy().reshape(-1,1), k_model.labels_.reshape(-1,1))\n",
    "                )\n",
    "            \n",
    "        \n",
    "        train_time_dict[f'train_iter_{i}'] = train_time_lst\n",
    "        s_score_dict[f's_score_iter_{i}'] = s_score_lst\n",
    "        v_score_dict[f'v_score_iter_{i}'] = v_score_lst\n",
    "        ch_score_dict[f'ch_score_iter_{i}'] = ch_score_lst\n",
    "        ar_score_dict[f'ar_score_iter_{i}'] = ar_score_lst\n",
    "\n",
    "    df_time = pd.DataFrame(train_time_dict)\n",
    "    df_s_score = pd.DataFrame(s_score_dict)\n",
    "    df_v_score = pd.DataFrame(v_score_dict)\n",
    "    df_ch_score = pd.DataFrame(ch_score_dict)\n",
    "    df_ar_score = pd.DataFrame(ar_score_dict)\n",
    "\n",
    "    df_results = pd.DataFrame({\n",
    "        'num_clusters': num_clusters,\n",
    "        'mean_fit_time': df_time.mean(1),\n",
    "        'std_fit_time': df_time.std(1),\n",
    "        'mean_s_score': df_s_score.mean(1),\n",
    "        'std_s_score': df_s_score.std(1),\n",
    "        'mean_v_score': df_v_score.mean(1),\n",
    "        'std_v_score': df_v_score.std(1),\n",
    "        'mean_ch_score': df_ch_score.mean(1),\n",
    "        'std_ch_score': df_ch_score.std(1),\n",
    "        'mean_ar_score': df_ar_score.mean(1),\n",
    "        'std_ar_score': df_ar_score.std(1)\n",
    "        })\n",
    "\n",
    "    return df_results"
   ]
  },
  {
   "cell_type": "code",
   "execution_count": 171,
   "metadata": {},
   "outputs": [],
   "source": [
    "def perform_em(x_data):\n",
    "\n",
    "    def gmm_bic_score(estimator, x_data):\n",
    "        \"\"\"Callable to pass to GridSearchCV that will use the BIC score.\"\"\"\n",
    "        # Make it negative since GridSearchCV expects a score to maximize\n",
    "        return -estimator.bic(x_data)\n",
    "\n",
    "\n",
    "    param_grid = {\n",
    "        \"n_components\": np.arange(1,51, 1),\n",
    "        \"covariance_type\": [\"full\"],\n",
    "    }\n",
    "\n",
    "    grid_search = GridSearchCV(\n",
    "        GaussianMixture(), param_grid=param_grid, scoring=gmm_bic_score\n",
    "    )\n",
    "\n",
    "    grid_search.fit(x_data)\n",
    "\n",
    "    \n",
    "    df = pd.DataFrame(grid_search.cv_results_)[\n",
    "        [\"param_n_components\", \"param_covariance_type\", \"mean_test_score\",\"std_test_score\",\n",
    "          \"mean_fit_time\", \"std_fit_time\", \"mean_score_time\", \"std_score_time\"]\n",
    "    ]\n",
    "    \n",
    "    df[\"mean_test_score\"] = -df[\"mean_test_score\"]\n",
    "\n",
    "    df = df.rename(\n",
    "        columns={\n",
    "            \"param_n_components\": \"n_components\",\n",
    "            \"param_covariance_type\": \"covariance_type\",\n",
    "            \"mean_test_score\": \"bic_score\",\n",
    "            \"std_test_score\": \"std_bic_score\",\n",
    "        }\n",
    "    )\n",
    "    df = df.sort_values(by=\"bic_score\")\n",
    "\n",
    "    return df"
   ]
  },
  {
   "cell_type": "code",
   "execution_count": 172,
   "metadata": {},
   "outputs": [],
   "source": [
    "def perform_pca(x_data):\n",
    "\n",
    "    pca = PCA(whiten=True, svd_solver='full')\n",
    "    pca.fit(x_data)\n",
    "    cum_explained_variance = np.cumsum(pca.explained_variance_ratio_)\n",
    "    \n",
    "    return cum_explained_variance"
   ]
  },
  {
   "cell_type": "code",
   "execution_count": 194,
   "metadata": {},
   "outputs": [],
   "source": [
    "def perform_ica(x_data):\n",
    "\n",
    "    if x_data.shape[1] > 20:\n",
    "        n_components = np.arange(2,x_data.shape[1]+1, 5)\n",
    "    else:\n",
    "        n_components = np.arange(2,x_data.shape[1]+1)\n",
    "        \n",
    "    average_kurtosis_lst = []\n",
    "    std_kurtosis_lst = []\n",
    "\n",
    "    for n in n_components:\n",
    "        ica = FastICA(n_components=n)\n",
    "        df_temp = pd.DataFrame(ica.fit_transform(x_data))\n",
    "        df_temp = df_temp.kurtosis(axis=0)\n",
    "        average_kurtosis_lst.append(df_temp.abs().mean())\n",
    "        std_kurtosis_lst.append(df_temp.abs().std())\n",
    "\n",
    "    df_result = pd.DataFrame({\n",
    "        'num_components': n_components,\n",
    "        'mean_kurtosis': average_kurtosis_lst,\n",
    "        'std_kurtosis': std_kurtosis_lst\n",
    "    })\n",
    "\n",
    "    return df_result"
   ]
  },
  {
   "cell_type": "code",
   "execution_count": 174,
   "metadata": {},
   "outputs": [],
   "source": [
    "def pdist_correllation(x_data_1,x_data_2):\n",
    "    \n",
    "    rmse = ((x_data_1- x_data_2.to_numpy()) ** 2).mean()\n",
    "    \n",
    "    return rmse"
   ]
  },
  {
   "cell_type": "code",
   "execution_count": 175,
   "metadata": {},
   "outputs": [],
   "source": [
    "def perform_rca(x_data, num_runs=5):\n",
    "\n",
    "    if x_data.shape[1] > 20:\n",
    "        n_components = np.arange(2,x_data.shape[1]+1, 5)\n",
    "    else:\n",
    "        n_components = np.arange(2,x_data.shape[1]+1)\n",
    "        \n",
    "    average_recon_error_dict = {}\n",
    "\n",
    "    for num in list(range(num_runs)):\n",
    "        average_recon_error_lst = []\n",
    "\n",
    "        for n in n_components:\n",
    "            rca = RCA(n_components=n)\n",
    "            average_recon_error_lst.\\\n",
    "                append(\n",
    "                    pdist_correllation(\n",
    "                        rca.inverse_transform(rca.fit_transform(x_data)), x_data\n",
    "                        )\n",
    "                    )\n",
    "            \n",
    "        average_recon_error_dict[f'r_error_{num}'] = average_recon_error_lst\n",
    "\n",
    "    df_recon = pd.DataFrame(average_recon_error_dict)\n",
    "    df_result = pd.DataFrame({\n",
    "        'num_components': n_components,\n",
    "        'mean_recon_error': df_recon.mean(1),\n",
    "        'std_recon_error': df_recon.std(1)\n",
    "    })\n",
    "\n",
    "    return df_result"
   ]
  },
  {
   "cell_type": "code",
   "execution_count": 204,
   "metadata": {},
   "outputs": [],
   "source": [
    "def perform_manifold(x_data, num_runs=5):\n",
    "    if x_data.shape[1] > 20:\n",
    "        n_components = np.arange(2,x_data.shape[1]+1, 5)\n",
    "        es='dense'\n",
    "    else:\n",
    "        n_components = np.arange(2,x_data.shape[1]+1)\n",
    "        es='auto'\n",
    "    \n",
    "    average_recon_error_dict = {}\n",
    "    \n",
    "    for num in list(range(num_runs)):\n",
    "        average_recon_error_lst = []\n",
    "        for n in n_components:\n",
    "            n_neigh = 5 + n\n",
    "            lle = LocallyLinearEmbedding(\n",
    "                n_components=n, eigen_solver=es,\n",
    "                method = 'modified', n_neighbors = n_neigh\n",
    "                )\n",
    "            lle.fit_transform(x_data)\n",
    "            average_recon_error_lst.append(lle.reconstruction_error_)\n",
    "            \n",
    "        average_recon_error_dict[f'r_error_{num}'] = average_recon_error_lst\n",
    "\n",
    "    df_recon = pd.DataFrame(average_recon_error_dict)\n",
    "    df_result = pd.DataFrame({\n",
    "        'num_components': n_components,\n",
    "        'mean_recon_error': df_recon.mean(1),\n",
    "        'std_recon_error': df_recon.std(1)\n",
    "    })\n",
    "\n",
    "    return df_result"
   ]
  },
  {
   "cell_type": "code",
   "execution_count": 177,
   "metadata": {},
   "outputs": [],
   "source": [
    "def perform_nn(x_data, y_data):\n",
    "\n",
    "    # Neural Network hyper tuning\n",
    "    # defining parameter range \n",
    "    param_grid = {\n",
    "    'learning_rate': [\"constant\"],\n",
    "    'hidden_layer_sizes': [(10,),(50,),(100,),(200,)],\n",
    "    'learning_rate_init': np.linspace(0.01, 1, 5),\n",
    "    'activation': ['relu'],\n",
    "    'solver': ['sgd']\n",
    "    }\n",
    "\n",
    "    grid = GridSearchCV(MLPClassifier(), param_grid, scoring='f1',\\\n",
    "                        refit = True, verbose = 3,n_jobs=-1) \n",
    "    \n",
    "    # fitting the model for grid search \n",
    "    grid.fit(x_data, y_data) \n",
    "    \n",
    "    return grid.best_estimator_"
   ]
  },
  {
   "attachments": {},
   "cell_type": "markdown",
   "metadata": {},
   "source": [
    "## Model Instantiation"
   ]
  },
  {
   "cell_type": "code",
   "execution_count": null,
   "metadata": {},
   "outputs": [],
   "source": [
    "r_state = 123456\n",
    "\n",
    "# Expectation Maximization: Clustering\n",
    "gmx = GaussianMixture(random_state=r_state)\n",
    "\n",
    "# Kmeans: Clustering\n",
    "km = KMeans(random_state=r_state, n_init=10, n_clusters=2)\n",
    "\n",
    "# Manifold: Dimension Reduction\n",
    "lle = LocallyLinearEmbedding(random_state=r_state)\n",
    "\n",
    "# Look at distribution of Eigenvalues or explained variance\n",
    "# Dimension Reduction\n",
    "pca = PCA(random_state=r_state)\n",
    "\n",
    "# Use kurtosisfor performance eval\n",
    "# Dimension Reduction\n",
    "ica = FastICA(random_state=r_state)\n",
    "\n",
    "# Use reconstruction error\n",
    "grp = GaussianRandomProjection(compute_inverse_components=True,random_state=r_state)\n",
    "\n",
    "# Neural network, use f1 score\n",
    "# Wine Params: {'activation': 'relu', 'hidden_layer_sizes': (100,), \n",
    "#               'learning_rate': 'constant', 'learning_rate_init': 0.89, 'solver': 'sgd'}\n",
    "# Shroom Params: {'activation': 'relu', 'hidden_layer_sizes': (100,),\n",
    "#                'learning_rate': 'constant', 'learning_rate_init': 0.01, 'solver': 'sgd'}\n",
    "mlp = MLPClassifier(random_state=r_state)"
   ]
  },
  {
   "cell_type": "code",
   "execution_count": null,
   "metadata": {},
   "outputs": [],
   "source": [
    "km.fit_transform(x_shroom)\n",
    "fig, ax = plt.subplots(2,2, sharex=True, sharey=True)\n",
    "ax = ax.flatten()\n",
    "ax[0].scatter(x_shroom.iloc[:,-1], x_shroom.iloc[:,-2], c=km.labels_)\n",
    "ax[1].scatter(x_shroom.iloc[:,-1], x_shroom.iloc[:,-2], c=y_shroom)\n",
    "ax[2].scatter(x_shroom.iloc[:,-1], x_shroom.iloc[:,-3], c=km.labels_)\n",
    "ax[3].scatter(x_shroom.iloc[:,-1], x_shroom.iloc[:,-3], c=y_shroom)\n",
    "plt.show()"
   ]
  },
  {
   "attachments": {},
   "cell_type": "markdown",
   "metadata": {},
   "source": [
    "## Wine: Clustering"
   ]
  },
  {
   "cell_type": "code",
   "execution_count": 160,
   "metadata": {},
   "outputs": [],
   "source": [
    "df_em = perform_em(x_wine)"
   ]
  },
  {
   "cell_type": "code",
   "execution_count": 161,
   "metadata": {},
   "outputs": [
    {
     "data": {
      "text/html": [
       "<div>\n",
       "<style scoped>\n",
       "    .dataframe tbody tr th:only-of-type {\n",
       "        vertical-align: middle;\n",
       "    }\n",
       "\n",
       "    .dataframe tbody tr th {\n",
       "        vertical-align: top;\n",
       "    }\n",
       "\n",
       "    .dataframe thead th {\n",
       "        text-align: right;\n",
       "    }\n",
       "</style>\n",
       "<table border=\"1\" class=\"dataframe\">\n",
       "  <thead>\n",
       "    <tr style=\"text-align: right;\">\n",
       "      <th></th>\n",
       "      <th>n_components</th>\n",
       "      <th>covariance_type</th>\n",
       "      <th>bic_score</th>\n",
       "      <th>std_bic_score</th>\n",
       "      <th>mean_fit_time</th>\n",
       "      <th>std_fit_time</th>\n",
       "      <th>mean_score_time</th>\n",
       "      <th>std_score_time</th>\n",
       "    </tr>\n",
       "  </thead>\n",
       "  <tbody>\n",
       "    <tr>\n",
       "      <th>4</th>\n",
       "      <td>5</td>\n",
       "      <td>full</td>\n",
       "      <td>28658.046041</td>\n",
       "      <td>212.460458</td>\n",
       "      <td>0.311266</td>\n",
       "      <td>0.079631</td>\n",
       "      <td>0.003943</td>\n",
       "      <td>0.005915</td>\n",
       "    </tr>\n",
       "    <tr>\n",
       "      <th>3</th>\n",
       "      <td>4</td>\n",
       "      <td>full</td>\n",
       "      <td>28799.650556</td>\n",
       "      <td>177.874255</td>\n",
       "      <td>0.170213</td>\n",
       "      <td>0.046105</td>\n",
       "      <td>0.004592</td>\n",
       "      <td>0.004241</td>\n",
       "    </tr>\n",
       "    <tr>\n",
       "      <th>5</th>\n",
       "      <td>6</td>\n",
       "      <td>full</td>\n",
       "      <td>29047.983379</td>\n",
       "      <td>410.775961</td>\n",
       "      <td>0.380125</td>\n",
       "      <td>0.067783</td>\n",
       "      <td>0.005725</td>\n",
       "      <td>0.007061</td>\n",
       "    </tr>\n",
       "  </tbody>\n",
       "</table>\n",
       "</div>"
      ],
      "text/plain": [
       "  n_components covariance_type     bic_score  std_bic_score  mean_fit_time  \\\n",
       "4            5            full  28658.046041     212.460458       0.311266   \n",
       "3            4            full  28799.650556     177.874255       0.170213   \n",
       "5            6            full  29047.983379     410.775961       0.380125   \n",
       "\n",
       "   std_fit_time  mean_score_time  std_score_time  \n",
       "4      0.079631         0.003943        0.005915  \n",
       "3      0.046105         0.004592        0.004241  \n",
       "5      0.067783         0.005725        0.007061  "
      ]
     },
     "execution_count": 161,
     "metadata": {},
     "output_type": "execute_result"
    }
   ],
   "source": [
    "df_em.head(3)"
   ]
  },
  {
   "cell_type": "code",
   "execution_count": 164,
   "metadata": {},
   "outputs": [
    {
     "data": {
      "text/html": [
       "<div>\n",
       "<style scoped>\n",
       "    .dataframe tbody tr th:only-of-type {\n",
       "        vertical-align: middle;\n",
       "    }\n",
       "\n",
       "    .dataframe tbody tr th {\n",
       "        vertical-align: top;\n",
       "    }\n",
       "\n",
       "    .dataframe thead th {\n",
       "        text-align: right;\n",
       "    }\n",
       "</style>\n",
       "<table border=\"1\" class=\"dataframe\">\n",
       "  <thead>\n",
       "    <tr style=\"text-align: right;\">\n",
       "      <th></th>\n",
       "      <th>n_components</th>\n",
       "      <th>covariance_type</th>\n",
       "      <th>bic_score</th>\n",
       "      <th>std_bic_score</th>\n",
       "      <th>mean_fit_time</th>\n",
       "      <th>std_fit_time</th>\n",
       "      <th>mean_score_time</th>\n",
       "      <th>std_score_time</th>\n",
       "    </tr>\n",
       "  </thead>\n",
       "  <tbody>\n",
       "    <tr>\n",
       "      <th>4</th>\n",
       "      <td>5</td>\n",
       "      <td>full</td>\n",
       "      <td>28658.046041</td>\n",
       "      <td>212.460458</td>\n",
       "      <td>0.311266</td>\n",
       "      <td>0.079631</td>\n",
       "      <td>0.003943</td>\n",
       "      <td>0.005915</td>\n",
       "    </tr>\n",
       "  </tbody>\n",
       "</table>\n",
       "</div>"
      ],
      "text/plain": [
       "  n_components covariance_type     bic_score  std_bic_score  mean_fit_time  \\\n",
       "4            5            full  28658.046041     212.460458       0.311266   \n",
       "\n",
       "   std_fit_time  mean_score_time  std_score_time  \n",
       "4      0.079631         0.003943        0.005915  "
      ]
     },
     "execution_count": 164,
     "metadata": {},
     "output_type": "execute_result"
    }
   ],
   "source": [
    "mask = df_em['bic_score'] == df_em['bic_score'].min()\n",
    "df_em[mask]"
   ]
  },
  {
   "cell_type": "code",
   "execution_count": 162,
   "metadata": {},
   "outputs": [
    {
     "data": {
      "image/png": "[encoded data removed]",
      "text/plain": [
       "<Figure size 640x480 with 1 Axes>"
      ]
     },
     "metadata": {},
     "output_type": "display_data"
    }
   ],
   "source": [
    "plt.scatter(df_em['n_components'],df_em['bic_score'])\n",
    "plt.show()"
   ]
  },
  {
   "cell_type": "code",
   "execution_count": 218,
   "metadata": {},
   "outputs": [
    {
     "name": "stderr",
     "output_type": "stream",
     "text": [
      "c:\\Users\\lboad\\py_venv\\ml\\lib\\site-packages\\sklearn\\decomposition\\_fastica.py:128: ConvergenceWarning: FastICA did not converge. Consider increasing tolerance or the maximum number of iterations.\n",
      "  warnings.warn(\n",
      "c:\\Users\\lboad\\py_venv\\ml\\lib\\site-packages\\sklearn\\decomposition\\_fastica.py:128: ConvergenceWarning: FastICA did not converge. Consider increasing tolerance or the maximum number of iterations.\n",
      "  warnings.warn(\n",
      "c:\\Users\\lboad\\py_venv\\ml\\lib\\site-packages\\sklearn\\decomposition\\_fastica.py:128: ConvergenceWarning: FastICA did not converge. Consider increasing tolerance or the maximum number of iterations.\n",
      "  warnings.warn(\n",
      "c:\\Users\\lboad\\py_venv\\ml\\lib\\site-packages\\sklearn\\decomposition\\_fastica.py:128: ConvergenceWarning: FastICA did not converge. Consider increasing tolerance or the maximum number of iterations.\n",
      "  warnings.warn(\n"
     ]
    },
    {
     "data": {
      "text/html": [
       "<div>\n",
       "<style scoped>\n",
       "    .dataframe tbody tr th:only-of-type {\n",
       "        vertical-align: middle;\n",
       "    }\n",
       "\n",
       "    .dataframe tbody tr th {\n",
       "        vertical-align: top;\n",
       "    }\n",
       "\n",
       "    .dataframe thead th {\n",
       "        text-align: right;\n",
       "    }\n",
       "</style>\n",
       "<table border=\"1\" class=\"dataframe\">\n",
       "  <thead>\n",
       "    <tr style=\"text-align: right;\">\n",
       "      <th></th>\n",
       "      <th>num_components</th>\n",
       "      <th>mean_kurtosis</th>\n",
       "      <th>std_kurtosis</th>\n",
       "    </tr>\n",
       "  </thead>\n",
       "  <tbody>\n",
       "    <tr>\n",
       "      <th>0</th>\n",
       "      <td>2</td>\n",
       "      <td>2.261300</td>\n",
       "      <td>1.054309</td>\n",
       "    </tr>\n",
       "    <tr>\n",
       "      <th>1</th>\n",
       "      <td>7</td>\n",
       "      <td>3.782135</td>\n",
       "      <td>5.808243</td>\n",
       "    </tr>\n",
       "    <tr>\n",
       "      <th>2</th>\n",
       "      <td>12</td>\n",
       "      <td>7.199269</td>\n",
       "      <td>14.774818</td>\n",
       "    </tr>\n",
       "    <tr>\n",
       "      <th>3</th>\n",
       "      <td>17</td>\n",
       "      <td>7.580470</td>\n",
       "      <td>16.334070</td>\n",
       "    </tr>\n",
       "    <tr>\n",
       "      <th>4</th>\n",
       "      <td>22</td>\n",
       "      <td>7.314984</td>\n",
       "      <td>15.775278</td>\n",
       "    </tr>\n",
       "  </tbody>\n",
       "</table>\n",
       "</div>"
      ],
      "text/plain": [
       "   num_components  mean_kurtosis  std_kurtosis\n",
       "0               2       2.261300      1.054309\n",
       "1               7       3.782135      5.808243\n",
       "2              12       7.199269     14.774818\n",
       "3              17       7.580470     16.334070\n",
       "4              22       7.314984     15.775278"
      ]
     },
     "execution_count": 218,
     "metadata": {},
     "output_type": "execute_result"
    }
   ],
   "source": [
    "df_ica = perform_ica(x_shroom)\n",
    "df_ica.head()"
   ]
  },
  {
   "cell_type": "code",
   "execution_count": 219,
   "metadata": {},
   "outputs": [
    {
     "data": {
      "text/plain": [
       "<BarContainer object of 26 artists>"
      ]
     },
     "execution_count": 219,
     "metadata": {},
     "output_type": "execute_result"
    },
    {
     "data": {
      "image/png": "[encoded data removed]",
      "text/plain": [
       "<Figure size 640x480 with 1 Axes>"
      ]
     },
     "metadata": {},
     "output_type": "display_data"
    }
   ],
   "source": [
    "plt.bar(df_ica['num_components'], df_ica['mean_kurtosis'])"
   ]
  },
  {
   "cell_type": "code",
   "execution_count": 220,
   "metadata": {},
   "outputs": [
    {
     "data": {
      "text/html": [
       "<div>\n",
       "<style scoped>\n",
       "    .dataframe tbody tr th:only-of-type {\n",
       "        vertical-align: middle;\n",
       "    }\n",
       "\n",
       "    .dataframe tbody tr th {\n",
       "        vertical-align: top;\n",
       "    }\n",
       "\n",
       "    .dataframe thead th {\n",
       "        text-align: right;\n",
       "    }\n",
       "</style>\n",
       "<table border=\"1\" class=\"dataframe\">\n",
       "  <thead>\n",
       "    <tr style=\"text-align: right;\">\n",
       "      <th></th>\n",
       "      <th>num_components</th>\n",
       "      <th>mean_recon_error</th>\n",
       "      <th>std_recon_error</th>\n",
       "    </tr>\n",
       "  </thead>\n",
       "  <tbody>\n",
       "    <tr>\n",
       "      <th>0</th>\n",
       "      <td>2</td>\n",
       "      <td>-5.856416e-15</td>\n",
       "      <td>8.819733e-31</td>\n",
       "    </tr>\n",
       "    <tr>\n",
       "      <th>1</th>\n",
       "      <td>7</td>\n",
       "      <td>-2.049746e-14</td>\n",
       "      <td>0.000000e+00</td>\n",
       "    </tr>\n",
       "    <tr>\n",
       "      <th>2</th>\n",
       "      <td>12</td>\n",
       "      <td>-3.513850e-14</td>\n",
       "      <td>0.000000e+00</td>\n",
       "    </tr>\n",
       "  </tbody>\n",
       "</table>\n",
       "</div>"
      ],
      "text/plain": [
       "   num_components  mean_recon_error  std_recon_error\n",
       "0               2     -5.856416e-15     8.819733e-31\n",
       "1               7     -2.049746e-14     0.000000e+00\n",
       "2              12     -3.513850e-14     0.000000e+00"
      ]
     },
     "execution_count": 220,
     "metadata": {},
     "output_type": "execute_result"
    }
   ],
   "source": [
    "df_man = perform_manifold(x_shroom, num_runs=5)\n",
    "df_man.head(3)"
   ]
  },
  {
   "cell_type": "code",
   "execution_count": 221,
   "metadata": {},
   "outputs": [
    {
     "data": {
      "image/png": "[encoded data removed]",
      "text/plain": [
       "<Figure size 640x480 with 1 Axes>"
      ]
     },
     "metadata": {},
     "output_type": "display_data"
    }
   ],
   "source": [
    "plt.bar(df_man['num_components'],df_man['mean_recon_error'])\n",
    "plt.show()"
   ]
  },
  {
   "cell_type": "code",
   "execution_count": 222,
   "metadata": {},
   "outputs": [
    {
     "data": {
      "text/html": [
       "<div>\n",
       "<style scoped>\n",
       "    .dataframe tbody tr th:only-of-type {\n",
       "        vertical-align: middle;\n",
       "    }\n",
       "\n",
       "    .dataframe tbody tr th {\n",
       "        vertical-align: top;\n",
       "    }\n",
       "\n",
       "    .dataframe thead th {\n",
       "        text-align: right;\n",
       "    }\n",
       "</style>\n",
       "<table border=\"1\" class=\"dataframe\">\n",
       "  <thead>\n",
       "    <tr style=\"text-align: right;\">\n",
       "      <th></th>\n",
       "      <th>num_components</th>\n",
       "      <th>mean_recon_error</th>\n",
       "      <th>std_recon_error</th>\n",
       "    </tr>\n",
       "  </thead>\n",
       "  <tbody>\n",
       "    <tr>\n",
       "      <th>0</th>\n",
       "      <td>2</td>\n",
       "      <td>-5.856416e-15</td>\n",
       "      <td>8.819733e-31</td>\n",
       "    </tr>\n",
       "  </tbody>\n",
       "</table>\n",
       "</div>"
      ],
      "text/plain": [
       "   num_components  mean_recon_error  std_recon_error\n",
       "0               2     -5.856416e-15     8.819733e-31"
      ]
     },
     "execution_count": 222,
     "metadata": {},
     "output_type": "execute_result"
    }
   ],
   "source": [
    "mask = df_man['mean_recon_error'].abs() == df_man['mean_recon_error'].abs().min()\n",
    "df_man[mask]"
   ]
  },
  {
   "cell_type": "code",
   "execution_count": 223,
   "metadata": {},
   "outputs": [],
   "source": [
    "df_km_shroom = perform_kmeans(x_shroom, y_shroom)"
   ]
  },
  {
   "cell_type": "code",
   "execution_count": 224,
   "metadata": {},
   "outputs": [],
   "source": [
    "df_km_wine = perform_kmeans(x_wine, y_wine)"
   ]
  },
  {
   "cell_type": "code",
   "execution_count": 226,
   "metadata": {},
   "outputs": [
    {
     "data": {
      "text/plain": [
       "Index(['num_clusters', 'mean_fit_time', 'std_fit_time', 'mean_s_score',\n",
       "       'std_s_score', 'mean_v_score', 'std_v_score', 'mean_ch_score',\n",
       "       'std_ch_score', 'mean_ar_score', 'std_ar_score'],\n",
       "      dtype='object')"
      ]
     },
     "execution_count": 226,
     "metadata": {},
     "output_type": "execute_result"
    }
   ],
   "source": [
    "df_km_shroom.columns"
   ]
  },
  {
   "cell_type": "code",
   "execution_count": 244,
   "metadata": {},
   "outputs": [
    {
     "data": {
      "image/png": "[encoded data removed]",
      "text/plain": [
       "<Figure size 640x480 with 4 Axes>"
      ]
     },
     "metadata": {},
     "output_type": "display_data"
    }
   ],
   "source": [
    "x = df_km_shroom['num_clusters']\n",
    "fig, axs = plt.subplots(2,2, sharex=True)\n",
    "axs = axs.flatten()\n",
    "\n",
    "# Score's do not require ground truth\n",
    "# The score is bounded between -1 for incorrect clustering\n",
    "#  and +1 for highly dense clustering.\n",
    "#  Scores around zero indicate overlapping clusters.\n",
    "# Sil score -> Higher is Better\n",
    "axs[0].bar(x,df_km_shroom['mean_s_score'])\n",
    "\n",
    "# The score is higher when clusters are dense and well separated,\n",
    "# which relates to a standard concept of a cluster.\n",
    "# CH SCORE -> Higher is Better\n",
    "axs[1].bar(x,df_km_shroom['mean_ch_score'])\n",
    "\n",
    "# Scores require ground truth labels\n",
    "# The higher the better\n",
    "axs[2].bar(x,df_km_shroom['mean_ar_score'])\n",
    "\n",
    "# The higher the better\n",
    "axs[3].bar(x,df_km_shroom['mean_v_score'])\n",
    "\n",
    "plt.show()"
   ]
  },
  {
   "cell_type": "code",
   "execution_count": 245,
   "metadata": {},
   "outputs": [
    {
     "data": {
      "image/png": "[encoded data removed]",
      "text/plain": [
       "<Figure size 640x480 with 4 Axes>"
      ]
     },
     "metadata": {},
     "output_type": "display_data"
    }
   ],
   "source": [
    "x = df_km_wine['num_clusters']\n",
    "fig, axs = plt.subplots(2,2, sharex=True)\n",
    "axs = axs.flatten()\n",
    "\n",
    "# Score's do not require ground truth\n",
    "# The score is bounded between -1 for incorrect clustering\n",
    "#  and +1 for highly dense clustering.\n",
    "#  Scores around zero indicate overlapping clusters.\n",
    "# Sil score -> Higher is Better\n",
    "axs[0].bar(x,df_km_wine['mean_s_score'])\n",
    "\n",
    "# The score is higher when clusters are dense and well separated,\n",
    "# which relates to a standard concept of a cluster.\n",
    "# CH SCORE -> Higher is Better\n",
    "axs[1].bar(x,df_km_wine['mean_ch_score'])\n",
    "\n",
    "# Scores require ground truth labels\n",
    "# The higher the better\n",
    "axs[2].bar(x,df_km_wine['mean_ar_score'])\n",
    "\n",
    "# The higher the better\n",
    "axs[3].bar(x,df_km_wine['mean_v_score'])\n",
    "\n",
    "plt.show()"
   ]
  },
  {
   "cell_type": "code",
   "execution_count": null,
   "metadata": {},
   "outputs": [],
   "source": [
    "from sklearn.linear_model import LogisticRegression\n",
    "from sklearn.model_selection import GridSearchCV\n",
    "from sklearn.pipeline import Pipeline\n",
    "from sklearn.preprocessing import StandardScaler\n",
    "from sklearn import datasets\n",
    "\n",
    "# Define a pipeline to search for the best combination of PCA truncation\n",
    "# and classifier regularization.\n",
    "pca = PCA()\n",
    "# Define a Standard Scaler to normalize inputs\n",
    "scaler = StandardScaler()\n",
    "\n",
    "# set the tolerance to a large value to make the example faster\n",
    "logistic = LogisticRegression(max_iter=10000, tol=0.1)\n",
    "pipe = Pipeline(steps=[(\"pca\", pca), (\"logistic\", logistic)])\n",
    "\n",
    "param_grid = {\n",
    "    \"pca__n_components\": np.arange(1, (x_shroom.shape[1]+1)),\n",
    "    \"logistic__C\": np.logspace(-4, 4, 4),\n",
    "}\n",
    "search = GridSearchCV(pipe, param_grid, n_jobs=2)\n",
    "search.fit(x_shroom, y_shroom)\n",
    "print(\"Best parameter (CV score=%0.3f):\" % search.best_score_)\n",
    "print(search.best_params_)"
   ]
  },
  {
   "cell_type": "code",
   "execution_count": null,
   "metadata": {},
   "outputs": [],
   "source": [
    "from sklearn.linear_model import LogisticRegression\n",
    "from sklearn.model_selection import GridSearchCV\n",
    "from sklearn.pipeline import Pipeline\n",
    "from sklearn.preprocessing import StandardScaler\n",
    "from sklearn import datasets\n",
    "\n",
    "# Plot the PCA spectrum\n",
    "pca.fit(x_shroom)\n",
    "cumsum = np.cumsum(pca.explained_variance_ratio_)\n",
    "fig, ax0 = plt.subplots()\n",
    "ax0.plot(cumsum, \"+\", linewidth=2)\n",
    "ax0.set_ylabel(\"cumulative explained variance ratio\")\n",
    "\n",
    "ax0.axhline(\n",
    "    0.95,\n",
    "    linestyle=\":\",\n",
    "    label=\"95% Variance\",\n",
    ")\n",
    "ax0.axvline(\n",
    "    60,\n",
    "    linestyle=\":\",\n",
    "    label=\"n-components\",\n",
    ")\n",
    "ax0.legend(prop=dict(size=12))\n",
    "plt.show()"
   ]
  },
  {
   "cell_type": "code",
   "execution_count": null,
   "metadata": {},
   "outputs": [],
   "source": [
    "x_data=x_wine \n",
    "num_runs=2\n",
    "\n",
    "if x_data.shape[1] > 10:\n",
    "    \n",
    "    n_components = np.arange(2,x_data.shape[1]+1)\n",
    "else:\n",
    "    n_components = np.arange(2,x_data.shape[1]+1, 5)\n",
    "    \n",
    "    \n",
    "average_recon_error_dict = {}\n",
    "\n",
    "for num in list(range(num_runs)):\n",
    "    average_recon_error_lst = []\n",
    "\n",
    "    for n in n_components:\n",
    "        rca = RCA(n_components=n)\n",
    "        average_recon_error_lst.\\\n",
    "            append(\n",
    "                pdist_correllation(\n",
    "                    rca.inverse_transform(rca.fit_transform(x_data)), x_data\n",
    "                    )\n",
    "                )\n",
    "        \n",
    "    average_recon_error_dict[f'r_error_{num}'] = average_recon_error_lst\n",
    "\n",
    "df_recon = pd.DataFrame(average_recon_error_dict)\n",
    "df_result = pd.DataFrame({\n",
    "    'num_components': n_components,\n",
    "    'mean_recon_error': df_recon.mean(1),\n",
    "    'std_recon_error': df_recon.std(1)\n",
    "})"
   ]
  },
  {
   "cell_type": "code",
   "execution_count": null,
   "metadata": {},
   "outputs": [],
   "source": [
    "plt.plot(df_result['num_components'],df_result['mean_recon_error'])\n",
    "plt.show()"
   ]
  },
  {
   "cell_type": "code",
   "execution_count": null,
   "metadata": {},
   "outputs": [],
   "source": []
  }
 ],
 "metadata": {
  "kernelspec": {
   "display_name": "ml",
   "language": "python",
   "name": "python3"
  },
  "language_info": {
   "codemirror_mode": {
    "name": "ipython",
    "version": 3
   },
   "file_extension": ".py",
   "mimetype": "text/x-python",
   "name": "python",
   "nbconvert_exporter": "python",
   "pygments_lexer": "ipython3",
   "version": "3.10.11"
  },
  "orig_nbformat": 4
 },
 "nbformat": 4,
 "nbformat_minor": 2
}
