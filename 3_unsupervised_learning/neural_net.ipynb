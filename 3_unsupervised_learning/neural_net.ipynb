{
 "cells": [
  {
   "cell_type": "code",
   "execution_count": 11,
   "metadata": {},
   "outputs": [],
   "source": [
    "import os\n",
    "from os.path import join\n",
    "# From https://stackoverflow.com/questions/51424312/how-to-save-gridsearchcv-object\n",
    "import joblib\n",
    "import pandas as pd\n",
    "\n",
    "from sklearn.metrics import \\\n",
    "    balanced_accuracy_score, f1_score, precision_score, recall_score, roc_auc_score\n",
    "from sklearn.pipeline import make_pipeline, Pipeline\n",
    "\n",
    "# pre-processing\n",
    "from sklearn.preprocessing import OneHotEncoder, StandardScaler\n",
    "from sklearn.compose import make_column_transformer\n",
    "from sklearn.model_selection import \\\n",
    "    LearningCurveDisplay, validation_curve, learning_curve, train_test_split, ShuffleSplit,\\\n",
    "          GridSearchCV, cross_validate"
   ]
  },
  {
   "cell_type": "markdown",
   "metadata": {},
   "source": [
    "# Initials"
   ]
  },
  {
   "cell_type": "markdown",
   "metadata": {},
   "source": [
    "## Raw Data Load"
   ]
  },
  {
   "cell_type": "code",
   "execution_count": 16,
   "metadata": {},
   "outputs": [],
   "source": [
    "red_wine = os.path.join('data','wine', 'winequality-red.csv')\n",
    "white_wine = os.path.join('data','wine', 'winequality-white.csv')\n",
    "turbine = os.path.join('data','turbine','gt_2011.csv')\n",
    "mushrooms = os.path.join('data','mushroom','secondary_data.csv')\n",
    "\n",
    "# encoders to use\n",
    "scale = StandardScaler()\n",
    "ohe = OneHotEncoder(sparse_output=False)"
   ]
  },
  {
   "cell_type": "code",
   "execution_count": 17,
   "metadata": {},
   "outputs": [],
   "source": [
    "transformer = make_column_transformer(\n",
    "    (\n",
    "        ohe, \n",
    "        [\n",
    "        'cap-shape', 'cap-surface', 'cap-color',\n",
    "       'does-bruise-or-bleed', 'gill-attachment','gill-spacing', 'gill-color', \n",
    "       'stem-root', 'stem-surface', 'stem-color','veil-type', 'veil-color',\n",
    "        'has-ring', 'ring-type', 'spore-print-color','habitat', 'season'\n",
    "        ]\n",
    "        ),\n",
    "    remainder='passthrough'\n",
    "    )\n",
    "\n",
    "# pre-process shroom data\n",
    "\n",
    "shroom_df = pd.read_csv(mushrooms,sep=';').sample(frac=1).reset_index(drop=True)\n",
    "x = shroom_df.iloc[:,1:].copy()\n",
    "x_shroom = pd.DataFrame(transformer.fit_transform(x), \n",
    "                columns=transformer.get_feature_names_out())\n",
    "y = shroom_df.iloc[:,0].copy()\n",
    "y_shroom = (y == 'p')\n",
    "\n",
    "\n",
    "# reduce the number of training examples\n",
    "x_shroom = x_shroom[:7000]\n",
    "y_shroom =  y_shroom[:7000]\n",
    "\n",
    "# Scale numerical attributes to be b/w 1 and -1\n",
    "lst_of_num_cols = [\n",
    "    'remainder__cap-diameter', 'remainder__stem-height', 'remainder__stem-width'\n",
    "    ]\n",
    "x_shroom[lst_of_num_cols] = scale.fit_transform(x_shroom[lst_of_num_cols])"
   ]
  },
  {
   "cell_type": "code",
   "execution_count": 18,
   "metadata": {},
   "outputs": [],
   "source": [
    "white_df = pd.read_csv(white_wine, sep=';')\n",
    "red_df = pd.read_csv(red_wine, sep=';')\n",
    "white_df['type'] = 0\n",
    "red_df['type'] = 1\n",
    "wine_df = pd.concat([white_df,red_df])\n",
    "wine_df = wine_df.sample(frac=1).reset_index(drop=True)\n",
    "\n",
    "# set x and y values\n",
    "# remove 'quality' and 'type' column from x array\n",
    "x_wine = wine_df.iloc[:,:-2].copy()\n",
    "# scale x vals\n",
    "x_wine.values[:,:] = scale.fit_transform(x_wine)\n",
    "# set y array equal to 'type' column \n",
    "y_wine = wine_df.iloc[:,-1].copy()"
   ]
  },
  {
   "cell_type": "code",
   "execution_count": 19,
   "metadata": {},
   "outputs": [],
   "source": [
    "DATA_FOLDER = join('algo_data') "
   ]
  },
  {
   "cell_type": "markdown",
   "metadata": {},
   "source": [
    "# Helper Functions"
   ]
  },
  {
   "cell_type": "code",
   "execution_count": 65,
   "metadata": {},
   "outputs": [],
   "source": [
    "def generate_learning_curve(model, x_data, y_data):\n",
    "    \n",
    "      train_sizes, train_scores, test_scores, fit_times, score_times =\\\n",
    "            learning_curve(model, x_data, y_data,cv=ShuffleSplit(), return_times=True, shuffle=True, scoring='f1_weighted')\n",
    "\n",
    "      train_mean = train_scores.mean(1)\n",
    "      train_sd = train_scores.std(1)\n",
    "      test_mean = test_scores.mean(1)\n",
    "      test_sd = test_scores.std(1)\n",
    "      fit_mean = fit_times.mean(1)\n",
    "      fit_sd = fit_times.std(1)\n",
    "      score_mean = score_times.mean(1)\n",
    "      score_sd = score_times.std(1)\n",
    "\n",
    "      train_mean = pd.DataFrame({'train_mean':train_mean})\n",
    "      train_sd = pd.DataFrame({'train_sd':train_sd})\n",
    "      test_mean = pd.DataFrame({'test_mean':test_mean})\n",
    "      test_sd = pd.DataFrame({'test_sd':test_sd})\n",
    "      fit_mean = pd.DataFrame({'fit_mean':fit_mean})\n",
    "      fit_sd = pd.DataFrame({'fit_sd':fit_sd})\n",
    "      score_mean = pd.DataFrame({'score_mean':score_mean})\n",
    "      score_sd = pd.DataFrame({'score_sd':score_sd})\n",
    "      train_sizes = pd.DataFrame({'train_sizes': train_sizes})\n",
    "\n",
    "      return train_sizes, train_mean, train_sd, test_mean, test_sd, fit_mean, fit_sd, score_mean, score_sd"
   ]
  },
  {
   "cell_type": "markdown",
   "metadata": {},
   "source": [
    "## Clustering Results"
   ]
  },
  {
   "cell_type": "code",
   "execution_count": 25,
   "metadata": {},
   "outputs": [],
   "source": [
    "## read wine results\n",
    "df_km_wine = pd.read_csv(join(DATA_FOLDER,'df_km_wine.csv'))\n",
    "s_km_cluster_wine= pd.read_csv(join(DATA_FOLDER,'s_km_cluster_wine.csv'))\n",
    "x_km_wine= pd.read_csv(join(DATA_FOLDER,'x_km_wine.csv'))\n",
    "\n",
    "df_em_wine= pd.read_csv(join(DATA_FOLDER,'df_em_wine.csv'))\n",
    "df_em_score_wine= pd.read_csv(join(DATA_FOLDER,'df_em_score_wine.csv'))\n",
    "s_em_cluster_wine= pd.read_csv(join(DATA_FOLDER,'s_em_cluster_wine.csv'))\n",
    "x_em_wine= pd.read_csv(join(DATA_FOLDER,'x_em_wine.csv'))"
   ]
  },
  {
   "cell_type": "code",
   "execution_count": 26,
   "metadata": {},
   "outputs": [],
   "source": [
    "## read shroom results\n",
    "df_km_shroom = pd.read_csv(join(DATA_FOLDER,'df_km_shroom.csv'))\n",
    "s_km_cluster_shroom= pd.read_csv(join(DATA_FOLDER,'s_km_cluster_shroom.csv'))\n",
    "x_km_shroom= pd.read_csv(join(DATA_FOLDER,'x_km_shroom.csv'))\n",
    "\n",
    "df_em_shroom= pd.read_csv(join(DATA_FOLDER,'df_em_shroom.csv'))\n",
    "df_em_score_shroom= pd.read_csv(join(DATA_FOLDER,'df_em_score_shroom.csv'))\n",
    "s_em_cluster_shroom= pd.read_csv(join(DATA_FOLDER,'s_em_cluster_shroom.csv'))\n",
    "x_em_shroom= pd.read_csv(join(DATA_FOLDER,'x_em_shroom.csv'))"
   ]
  },
  {
   "cell_type": "markdown",
   "metadata": {},
   "source": [
    "## Dimension Reduced Dataset"
   ]
  },
  {
   "cell_type": "code",
   "execution_count": 23,
   "metadata": {},
   "outputs": [],
   "source": [
    "# dimension reduced wine dataset\n",
    "df_pca_wine= pd.read_csv(join(DATA_FOLDER,'df_pca_wine.csv'), index_col=0)\n",
    "s_pca_cluster_wine= pd.read_csv(join(DATA_FOLDER,'s_pca_cluster_wine.csv'), index_col=0)\n",
    "x_pca_wine= pd.read_csv(join(DATA_FOLDER,'x_pca_wine.csv'), index_col=0)\n",
    "\n",
    "df_rca_wine= pd.read_csv(join(DATA_FOLDER,'df_rca_wine.csv'), index_col=0)\n",
    "s_rca_cluster_wine= pd.read_csv(join(DATA_FOLDER,'s_rca_cluster_wine.csv'), index_col=0)\n",
    "x_rca_wine= pd.read_csv(join(DATA_FOLDER,'x_rca_wine.csv'), index_col=0)\n",
    "\n",
    "df_man_wine= pd.read_csv(join(DATA_FOLDER,'df_man_wine.csv'), index_col=0)\n",
    "s_man_cluster_wine= pd.read_csv(join(DATA_FOLDER,'s_man_cluster_wine.csv'), index_col=0)\n",
    "x_man_wine= pd.read_csv(join(DATA_FOLDER,'x_man_wine.csv'), index_col=0)\n",
    "\n",
    "df_ica_wine= pd.read_csv(join(DATA_FOLDER,'df_ica_wine.csv'))\n",
    "s_ica_cluster_wine= pd.read_csv(join(DATA_FOLDER,'s_ica_cluster_wine.csv'))\n",
    "x_ica_wine= pd.read_csv(join(DATA_FOLDER,'x_ica_wine.csv'))"
   ]
  },
  {
   "cell_type": "code",
   "execution_count": 24,
   "metadata": {},
   "outputs": [],
   "source": [
    "# dimension reduced shroom dataset\n",
    "df_pca_shroom= pd.read_csv(join(DATA_FOLDER,'df_pca_shroom.csv'), index_col=0)\n",
    "s_pca_cluster_shroom= pd.read_csv(join(DATA_FOLDER,'s_pca_cluster_shroom.csv'), index_col=0)\n",
    "x_pca_shroom= pd.read_csv(join(DATA_FOLDER,'x_pca_shroom.csv'), index_col=0)\n",
    "\n",
    "df_rca_shroom= pd.read_csv(join(DATA_FOLDER,'df_rca_shroom.csv'), index_col=0)\n",
    "s_rca_cluster_shroom= pd.read_csv(join(DATA_FOLDER,'s_rca_cluster_shroom.csv'), index_col=0)\n",
    "x_rca_shroom= pd.read_csv(join(DATA_FOLDER,'x_rca_shroom.csv'), index_col=0)\n",
    "\n",
    "df_man_shroom= pd.read_csv(join(DATA_FOLDER,'df_man_shroom.csv'), index_col=0)\n",
    "s_man_cluster_shroom= pd.read_csv(join(DATA_FOLDER,'s_man_cluster_shroom.csv'), index_col=0)\n",
    "x_man_shroom= pd.read_csv(join(DATA_FOLDER,'x_man_shroom.csv'), index_col=0)\n",
    "\n",
    "df_ica_shroom= pd.read_csv(join(DATA_FOLDER,'df_ica_shroom.csv'))\n",
    "s_ica_cluster_shroom= pd.read_csv(join(DATA_FOLDER,'s_ica_cluster_shroom.csv'))\n",
    "x_ica_shroom= pd.read_csv(join(DATA_FOLDER,'x_ica_shroom.csv'))"
   ]
  },
  {
   "cell_type": "markdown",
   "metadata": {},
   "source": [
    "# Neural nets"
   ]
  },
  {
   "cell_type": "code",
   "execution_count": 36,
   "metadata": {},
   "outputs": [],
   "source": [
    "# save wine grids\n",
    "grid_km_wine=joblib.load('grid_km_wine.pkl')\n",
    "grid_em_wine=joblib.load('grid_em_wine.pkl')\n",
    "grid_pca_wine=joblib.load('grid_pca_wine.pkl')\n",
    "grid_rca_wine=joblib.load('grid_rca_wine.pkl')\n",
    "grid_man_wine=joblib.load('grid_man_wine.pkl')\n",
    "grid_ica_wine=joblib.load('grid_ica_wine.pkl')\n",
    "\n",
    "# save shroom grids\n",
    "grid_km_shroom=joblib.load('grid_km_shroom.pkl')\n",
    "grid_em_shroom=joblib.load('grid_em_shroom.pkl')\n",
    "grid_pca_shroom=joblib.load('grid_pca_shroom.pkl')\n",
    "grid_rca_shroom=joblib.load('grid_rca_shroom.pkl')\n",
    "grid_man_shroom=joblib.load('grid_man_shroom.pkl')\n",
    "grid_ica_shroom=joblib.load('grid_ica_shroom.pkl')"
   ]
  },
  {
   "cell_type": "code",
   "execution_count": 48,
   "metadata": {},
   "outputs": [
    {
     "name": "stderr",
     "output_type": "stream",
     "text": [
      "c:\\Users\\lboad\\py_venvs\\ml\\lib\\site-packages\\sklearn\\neural_network\\_multilayer_perceptron.py:691: ConvergenceWarning: Stochastic Optimizer: Maximum iterations (200) reached and the optimization hasn't converged yet.\n",
      "  warnings.warn(\n"
     ]
    }
   ],
   "source": [
    "train_sizes,train_mean_km_wine, train_sd_km_wine, test_mean_km_wine, test_sd_km_wine,\\\n",
    "      fit_mean_km_wine, fit_sd_km_wine, score_mean_km_wine, score_sd_km_wine =\\\n",
    "      generate_learning_curve(grid_km_wine.best_estimator_,x_km_wine, y_wine)\n",
    "\n",
    "\n",
    "_,train_mean_em_wine, train_sd_em_wine, test_mean_em_wine, test_sd_em_wine,\\\n",
    "      fit_mean_em_wine, fit_sd_em_wine, score_mean_em_wine, score_sd_em_wine =\\\n",
    "      generate_learning_curve(grid_em_wine.best_estimator_,x_em_wine.iloc[:, :-1], x_em_wine.iloc[:,-1])\n",
    "\n",
    "_,train_mean_pca_wine, train_sd_pca_wine, test_mean_pca_wine, test_sd_pca_wine,\\\n",
    "      fit_mean_pca_wine, fit_sd_pca_wine, score_mean_pca_wine, score_sd_pca_wine =\\\n",
    "      generate_learning_curve(grid_pca_wine.best_estimator_,x_pca_wine, y_wine)\n",
    "\n",
    "\n",
    "_,train_mean_rca_wine, train_sd_rca_wine, test_mean_rca_wine, test_sd_rca_wine,\\\n",
    "      fit_mean_rca_wine, fit_sd_rca_wine, score_mean_rca_wine, score_sd_rca_wine =\\\n",
    "      generate_learning_curve(grid_rca_wine.best_estimator_,x_rca_wine, y_wine)\n",
    "\n",
    "_,train_mean_ica_wine, train_sd_ica_wine, test_mean_ica_wine, test_sd_ica_wine,\\\n",
    "      fit_mean_ica_wine, fit_sd_ica_wine, score_mean_ica_wine, score_sd_ica_wine =\\\n",
    "      generate_learning_curve(grid_ica_wine.best_estimator_,x_ica_wine, y_wine)\n",
    "\n",
    "\n",
    "_,train_mean_man_wine, train_sd_man_wine, test_mean_man_wine, test_sd_man_wine,\\\n",
    "      fit_mean_man_wine, fit_sd_man_wine, score_mean_man_wine, score_sd_man_wine =\\\n",
    "      generate_learning_curve(grid_man_wine.best_estimator_,x_man_wine, y_wine)"
   ]
  },
  {
   "cell_type": "code",
   "execution_count": 49,
   "metadata": {},
   "outputs": [
    {
     "name": "stderr",
     "output_type": "stream",
     "text": [
      "c:\\Users\\lboad\\py_venvs\\ml\\lib\\site-packages\\sklearn\\neural_network\\_multilayer_perceptron.py:691: ConvergenceWarning: Stochastic Optimizer: Maximum iterations (200) reached and the optimization hasn't converged yet.\n",
      "  warnings.warn(\n",
      "c:\\Users\\lboad\\py_venvs\\ml\\lib\\site-packages\\sklearn\\neural_network\\_multilayer_perceptron.py:691: ConvergenceWarning: Stochastic Optimizer: Maximum iterations (200) reached and the optimization hasn't converged yet.\n",
      "  warnings.warn(\n",
      "c:\\Users\\lboad\\py_venvs\\ml\\lib\\site-packages\\sklearn\\neural_network\\_multilayer_perceptron.py:691: ConvergenceWarning: Stochastic Optimizer: Maximum iterations (200) reached and the optimization hasn't converged yet.\n",
      "  warnings.warn(\n",
      "c:\\Users\\lboad\\py_venvs\\ml\\lib\\site-packages\\sklearn\\neural_network\\_multilayer_perceptron.py:691: ConvergenceWarning: Stochastic Optimizer: Maximum iterations (200) reached and the optimization hasn't converged yet.\n",
      "  warnings.warn(\n"
     ]
    }
   ],
   "source": [
    "train_sizes_shroom,train_mean_km_shroom, train_sd_km_shroom, test_mean_km_shroom, test_sd_km_shroom,\\\n",
    "      fit_mean_km_shroom, fit_sd_km_shroom, score_mean_km_shroom, score_sd_km_shroom =\\\n",
    "      generate_learning_curve(grid_km_shroom.best_estimator_,x_km_shroom, y_shroom)\n",
    "\n",
    "_,train_mean_em_shroom, train_sd_em_shroom, test_mean_em_shroom, test_sd_em_shroom,\\\n",
    "      fit_mean_em_shroom, fit_sd_em_shroom, score_mean_em_shroom, score_sd_em_shroom =\\\n",
    "      generate_learning_curve(grid_em_shroom.best_estimator_,x_em_shroom.iloc[:, :-1], x_em_shroom.iloc[:,-1])\n",
    "\n",
    "_,train_mean_pca_shroom, train_sd_pca_shroom, test_mean_pca_shroom, test_sd_pca_shroom,\\\n",
    "      fit_mean_pca_shroom, fit_sd_pca_shroom, score_mean_pca_shroom, score_sd_pca_shroom =\\\n",
    "      generate_learning_curve(grid_pca_shroom.best_estimator_,x_pca_shroom, y_shroom)\n",
    "\n",
    "_,train_mean_rca_shroom, train_sd_rca_shroom, test_mean_rca_shroom, test_sd_rca_shroom,\\\n",
    "      fit_mean_rca_shroom, fit_sd_rca_shroom, score_mean_rca_shroom, score_sd_rca_shroom =\\\n",
    "      generate_learning_curve(grid_rca_shroom.best_estimator_,x_rca_shroom, y_shroom)\n",
    "\n",
    "_,train_mean_ica_shroom, train_sd_ica_shroom, test_mean_ica_shroom, test_sd_ica_shroom,\\\n",
    "      fit_mean_ica_shroom, fit_sd_ica_shroom, score_mean_ica_shroom, score_sd_ica_shroom =\\\n",
    "      generate_learning_curve(grid_ica_shroom.best_estimator_,x_ica_shroom, y_shroom)\n",
    "\n",
    "_,train_mean_man_shroom, train_sd_man_shroom, test_mean_man_shroom, test_sd_man_shroom,\\\n",
    "      fit_mean_man_shroom, fit_sd_man_shroom, score_mean_man_shroom, score_sd_man_shroom =\\\n",
    "      generate_learning_curve(grid_man_shroom.best_estimator_,x_man_shroom, y_shroom)\n"
   ]
  },
  {
   "cell_type": "markdown",
   "metadata": {},
   "source": [
    "## Save Learning Curve Results"
   ]
  },
  {
   "cell_type": "code",
   "execution_count": 53,
   "metadata": {},
   "outputs": [],
   "source": [
    "neural_folder = join('neural_net_curves')"
   ]
  },
  {
   "cell_type": "code",
   "execution_count": 58,
   "metadata": {},
   "outputs": [
    {
     "ename": "AttributeError",
     "evalue": "'numpy.ndarray' object has no attribute 'to_csv'",
     "output_type": "error",
     "traceback": [
      "\u001b[1;31m---------------------------------------------------------------------------\u001b[0m",
      "\u001b[1;31mAttributeError\u001b[0m                            Traceback (most recent call last)",
      "\u001b[1;32mc:\\Users\\lboad\\Documents\\1_omscs\\machine_learning\\3_unsupervised_learning\\neural_net.ipynb Cell 22\u001b[0m line \u001b[0;36m1\n\u001b[1;32m----> <a href='vscode-notebook-cell:/c%3A/Users/lboad/Documents/1_omscs/machine_learning/3_unsupervised_learning/neural_net.ipynb#X26sZmlsZQ%3D%3D?line=0'>1</a>\u001b[0m train_sizes\u001b[39m.\u001b[39;49mto_csv(join(neural_folder,\u001b[39m'\u001b[39m\u001b[39mtrain_sizes_wine.csv\u001b[39m\u001b[39m'\u001b[39m))\n\u001b[0;32m      <a href='vscode-notebook-cell:/c%3A/Users/lboad/Documents/1_omscs/machine_learning/3_unsupervised_learning/neural_net.ipynb#X26sZmlsZQ%3D%3D?line=1'>2</a>\u001b[0m train_mean_km_wine\u001b[39m.\u001b[39mto_csv(join(neural_folder,\u001b[39m'\u001b[39m\u001b[39mtrain_mean_km_wine.csv\u001b[39m\u001b[39m'\u001b[39m))\n\u001b[0;32m      <a href='vscode-notebook-cell:/c%3A/Users/lboad/Documents/1_omscs/machine_learning/3_unsupervised_learning/neural_net.ipynb#X26sZmlsZQ%3D%3D?line=2'>3</a>\u001b[0m train_sd_km_wine\u001b[39m.\u001b[39mto_csv(join(neural_folder,\u001b[39m'\u001b[39m\u001b[39mtrain_sd_km_wine.csv\u001b[39m\u001b[39m'\u001b[39m))\n",
      "\u001b[1;31mAttributeError\u001b[0m: 'numpy.ndarray' object has no attribute 'to_csv'"
     ]
    }
   ],
   "source": [
    "train_sizes.to_csv(join(neural_folder,'train_sizes_wine.csv'))\n",
    "train_mean_km_wine.to_csv(join(neural_folder,'train_mean_km_wine.csv'))\n",
    "train_sd_km_wine.to_csv(join(neural_folder,'train_sd_km_wine.csv'))\n",
    "test_mean_km_wine.to_csv(join(neural_folder,'test_mean_km_wine.csv'))\n",
    "test_sd_km_wine.to_csv(join(neural_folder,'test_sd_km_wine.csv'))\n",
    "fit_mean_km_wine.to_csv(join(neural_folder,'fit_mean_km_wine.csv'))\n",
    "fit_sd_km_wine.to_csv(join(neural_folder,'fit_sd_km_wine.csv'))\n",
    "score_mean_km_wine.to_csv(join(neural_folder,'score_mean_km_wine.csv'))\n",
    "score_sd_km_wine.to_csv(join(neural_folder,'score_sd_km_wine.csv'))\n",
    "\n",
    "\n",
    "train_mean_em_wine.to_csv(join(neural_folder,'train_mean_em_wine.csv'))\n",
    "train_sd_em_wine.to_csv(join(neural_folder,'train_sd_em_wine.csv'))\n",
    "test_mean_em_wine.to_csv(join(neural_folder,'test_mean_em_wine.csv'))\n",
    "test_sd_em_wine.to_csv(join(neural_folder,'test_sd_em_wine.csv'))\n",
    "fit_mean_em_wine.to_csv(join(neural_folder,'fit_mean_em_wine.csv'))\n",
    "fit_sd_em_wine.to_csv(join(neural_folder,'fit_sd_em_wine.csv'))\n",
    "score_mean_em_wine.to_csv(join(neural_folder,'score_mean_em_wine.csv'))\n",
    "score_sd_em_wine.to_csv(join(neural_folder,'score_sd_em_wine.csv'))\n",
    "\n",
    "train_mean_pca_wine.to_csv(join(neural_folder,'train_mean_pca_wine.csv'))\n",
    "train_sd_pca_wine.to_csv(join(neural_folder,'train_sd_pca_wine.csv'))\n",
    "test_mean_pca_wine.to_csv(join(neural_folder,'test_mean_pca_wine.csv'))\n",
    "test_sd_pca_wine.to_csv(join(neural_folder,'test_sd_pca_wine.csv'))\n",
    "fit_mean_pca_wine.to_csv(join(neural_folder,'fit_mean_pca_wine.csv'))\n",
    "fit_sd_pca_wine.to_csv(join(neural_folder,'fit_sd_pca_wine.csv'))\n",
    "score_mean_pca_wine.to_csv(join(neural_folder,'score_mean_pca_wine.csv'))\n",
    "score_sd_pca_wine.to_csv(join(neural_folder,'score_sd_pca_wine.csv'))\n",
    "\n",
    "train_mean_rca_wine.to_csv(join(neural_folder,'train_mean_rca_wine.csv'))\n",
    "train_sd_rca_wine.to_csv(join(neural_folder,'train_sd_rca_wine.csv'))\n",
    "test_mean_rca_wine.to_csv(join(neural_folder,'test_mean_rca_wine.csv'))\n",
    "test_sd_rca_wine.to_csv(join(neural_folder,'test_sd_rca_wine.csv'))\n",
    "fit_mean_rca_wine.to_csv(join(neural_folder,'fit_mean_rca_wine.csv'))\n",
    "fit_sd_rca_wine.to_csv(join(neural_folder,'fit_sd_rca_wine.csv'))\n",
    "score_mean_rca_wine.to_csv(join(neural_folder,'score_mean_rca_wine.csv'))\n",
    "score_sd_rca_wine.to_csv(join(neural_folder,'score_sd_rca_wine.csv'))\n",
    "\n",
    "train_mean_ica_wine.to_csv(join(neural_folder,'train_mean_ica_wine.csv'))\n",
    "train_sd_ica_wine.to_csv(join(neural_folder,'train_sd_ica_wine.csv'))\n",
    "test_mean_ica_wine.to_csv(join(neural_folder,'test_mean_ica_wine.csv'))\n",
    "test_sd_ica_wine.to_csv(join(neural_folder,'test_sd_ica_wine.csv'))\n",
    "fit_mean_ica_wine.to_csv(join(neural_folder,'fit_mean_ica_wine.csv'))\n",
    "fit_sd_ica_wine.to_csv(join(neural_folder,'fit_sd_ica_wine.csv'))\n",
    "score_mean_ica_wine.to_csv(join(neural_folder,'score_mean_ica_wine.csv'))\n",
    "score_sd_ica_wine.to_csv(join(neural_folder,'score_sd_ica_wine.csv'))\n",
    "\n",
    "train_mean_man_wine.to_csv(join(neural_folder,'train_mean_man_wine.csv')) \n",
    "train_sd_man_wine.to_csv(join(neural_folder,'train_sd_man_wine.csv'))\n",
    "test_mean_man_wine.to_csv(join(neural_folder,'test_mean_man_wine.csv')) \n",
    "test_sd_man_wine.to_csv(join(neural_folder,'test_sd_man_wine.csv'))\n",
    "fit_mean_man_wine.to_csv(join(neural_folder,'fit_mean_man_wine.csv'))\n",
    "fit_sd_man_wine.to_csv(join(neural_folder,'fit_sd_man_wine.csv'))\n",
    "score_mean_man_wine.to_csv(join(neural_folder,'score_mean_man_wine.csv'))\n",
    "score_sd_man_wine.to_csv(join(neural_folder,'score_sd_man_wine.csv'))"
   ]
  },
  {
   "cell_type": "code",
   "execution_count": null,
   "metadata": {},
   "outputs": [],
   "source": []
  }
 ],
 "metadata": {
  "kernelspec": {
   "display_name": "ml",
   "language": "python",
   "name": "python3"
  },
  "language_info": {
   "codemirror_mode": {
    "name": "ipython",
    "version": 3
   },
   "file_extension": ".py",
   "mimetype": "text/x-python",
   "name": "python",
   "nbconvert_exporter": "python",
   "pygments_lexer": "ipython3",
   "version": "3.10.11"
  }
 },
 "nbformat": 4,
 "nbformat_minor": 2
}
