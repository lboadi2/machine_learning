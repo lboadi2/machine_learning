{
 "cells": [
  {
   "cell_type": "code",
   "execution_count": 31,
   "metadata": {},
   "outputs": [],
   "source": [
    "import pandas as pd\n",
    "import gymnasium as gym\n",
    "from gymnasium.wrappers import FlattenObservation\n",
    "# import gym\n",
    "import pygame\n",
    "from algorithms.rl import RL\n",
    "from examples.test_env import TestEnv\n",
    "from algorithms.planner import Planner\n",
    "import itertools\n",
    "\n",
    "# grid search\n",
    "from examples.grid_search import GridSearch"
   ]
  },
  {
   "cell_type": "code",
   "execution_count": 32,
   "metadata": {},
   "outputs": [
    {
     "data": {
      "text/plain": [
       "dict_keys(['CartPole-v0', 'CartPole-v1', 'MountainCar-v0', 'MountainCarContinuous-v0', 'Pendulum-v1', 'Acrobot-v1', 'phys2d/CartPole-v0', 'phys2d/CartPole-v1', 'phys2d/Pendulum-v0', 'LunarLander-v2', 'LunarLanderContinuous-v2', 'BipedalWalker-v3', 'BipedalWalkerHardcore-v3', 'CarRacing-v2', 'Blackjack-v1', 'FrozenLake-v1', 'FrozenLake8x8-v1', 'CliffWalking-v0', 'Taxi-v3', 'tabular/Blackjack-v0', 'tabular/CliffWalking-v0', 'Reacher-v2', 'Reacher-v4', 'Pusher-v2', 'Pusher-v4', 'InvertedPendulum-v2', 'InvertedPendulum-v4', 'InvertedDoublePendulum-v2', 'InvertedDoublePendulum-v4', 'HalfCheetah-v2', 'HalfCheetah-v3', 'HalfCheetah-v4', 'Hopper-v2', 'Hopper-v3', 'Hopper-v4', 'Swimmer-v2', 'Swimmer-v3', 'Swimmer-v4', 'Walker2d-v2', 'Walker2d-v3', 'Walker2d-v4', 'Ant-v2', 'Ant-v3', 'Ant-v4', 'Humanoid-v2', 'Humanoid-v3', 'Humanoid-v4', 'HumanoidStandup-v2', 'HumanoidStandup-v4', 'GymV21Environment-v0', 'GymV26Environment-v0'])"
      ]
     },
     "execution_count": 32,
     "metadata": {},
     "output_type": "execute_result"
    }
   ],
   "source": [
    "gym.envs.registry.keys()"
   ]
  },
  {
   "cell_type": "code",
   "execution_count": 33,
   "metadata": {},
   "outputs": [
    {
     "data": {
      "text/plain": [
       "['CartPole-v0',\n",
       " 'CartPole-v1',\n",
       " 'MountainCar-v0',\n",
       " 'MountainCarContinuous-v0',\n",
       " 'Pendulum-v1',\n",
       " 'Acrobot-v1',\n",
       " 'phys2d/CartPole-v0',\n",
       " 'phys2d/CartPole-v1',\n",
       " 'phys2d/Pendulum-v0',\n",
       " 'LunarLander-v2',\n",
       " 'LunarLanderContinuous-v2',\n",
       " 'BipedalWalker-v3',\n",
       " 'BipedalWalkerHardcore-v3',\n",
       " 'CarRacing-v2',\n",
       " 'Blackjack-v1',\n",
       " 'FrozenLake-v1',\n",
       " 'FrozenLake8x8-v1',\n",
       " 'CliffWalking-v0',\n",
       " 'Taxi-v3',\n",
       " 'tabular/Blackjack-v0',\n",
       " 'tabular/CliffWalking-v0',\n",
       " 'Reacher-v2',\n",
       " 'Reacher-v4',\n",
       " 'Pusher-v2',\n",
       " 'Pusher-v4',\n",
       " 'InvertedPendulum-v2',\n",
       " 'InvertedPendulum-v4',\n",
       " 'InvertedDoublePendulum-v2',\n",
       " 'InvertedDoublePendulum-v4',\n",
       " 'HalfCheetah-v2',\n",
       " 'HalfCheetah-v3',\n",
       " 'HalfCheetah-v4',\n",
       " 'Hopper-v2',\n",
       " 'Hopper-v3',\n",
       " 'Hopper-v4',\n",
       " 'Swimmer-v2',\n",
       " 'Swimmer-v3',\n",
       " 'Swimmer-v4',\n",
       " 'Walker2d-v2',\n",
       " 'Walker2d-v3',\n",
       " 'Walker2d-v4',\n",
       " 'Ant-v2',\n",
       " 'Ant-v3',\n",
       " 'Ant-v4',\n",
       " 'Humanoid-v2',\n",
       " 'Humanoid-v3',\n",
       " 'Humanoid-v4',\n",
       " 'HumanoidStandup-v2',\n",
       " 'HumanoidStandup-v4',\n",
       " 'GymV21Environment-v0',\n",
       " 'GymV26Environment-v0']"
      ]
     },
     "execution_count": 33,
     "metadata": {},
     "output_type": "execute_result"
    }
   ],
   "source": [
    "lst_of_envs = list(gym.envs.registry.keys())\n",
    "lst_of_envs"
   ]
  },
  {
   "cell_type": "code",
   "execution_count": 31,
   "metadata": {},
   "outputs": [],
   "source": [
    "# lst_of_envs.remove('phys2d/CartPole-v0')\n",
    "# lst_of_envs.remove('phys2d/CartPole-v1')\n",
    "# lst_of_envs.remove('phys2d/Pendulum-v0')\n",
    "# lst_of_envs.remove('tabular/Blackjack-v0')\n",
    "# lst_of_envs.remove('Reacher-v2')\n",
    "# lst_of_envs.remove('Reacher-v4')"
   ]
  },
  {
   "cell_type": "code",
   "execution_count": 34,
   "metadata": {},
   "outputs": [],
   "source": [
    "lst_env = ['CartPole-v0',\n",
    "'CartPole-v1',\n",
    "'MountainCar-v0',\n",
    "'MountainCarContinuous-v0',\n",
    "'Pendulum-v1',\n",
    "'Acrobot-v1',\n",
    "'LunarLander-v2',\n",
    "'LunarLanderContinuous-v2',\n",
    "'BipedalWalker-v3',\n",
    "'BipedalWalkerHardcore-v3',\n",
    "'CarRacing-v2',\n",
    "'Blackjack-v1',\n",
    "'FrozenLake-v1',\n",
    "'FrozenLake8x8-v1',\n",
    "'CliffWalking-v0',\n",
    "'Taxi-v3',]"
   ]
  },
  {
   "cell_type": "code",
   "execution_count": 3,
   "metadata": {},
   "outputs": [],
   "source": [
    "discrete_env_lst = ['Blackjack-v1',\n",
    " 'FrozenLake-v1',\n",
    " 'FrozenLake8x8-v1',\n",
    " 'CliffWalking-v0',\n",
    " 'Taxi-v3']"
   ]
  },
  {
   "cell_type": "code",
   "execution_count": 35,
   "metadata": {},
   "outputs": [
    {
     "name": "stdout",
     "output_type": "stream",
     "text": [
      "CartPole-v0\n",
      "CartPole-v1\n",
      "MountainCar-v0\n",
      "MountainCarContinuous-v0\n",
      "Pendulum-v1\n",
      "Acrobot-v1\n",
      "LunarLander-v2\n",
      "LunarLanderContinuous-v2\n",
      "BipedalWalker-v3\n",
      "BipedalWalkerHardcore-v3\n",
      "CarRacing-v2\n",
      "Blackjack-v1\n",
      "FrozenLake-v1\n",
      "FrozenLake8x8-v1\n",
      "CliffWalking-v0\n",
      "Taxi-v3\n"
     ]
    },
    {
     "name": "stderr",
     "output_type": "stream",
     "text": [
      "c:\\Users\\lboad\\py_venv\\rl\\lib\\site-packages\\gymnasium\\envs\\registration.py:513: DeprecationWarning: \u001b[33mWARN: The environment CartPole-v0 is out of date. You should consider upgrading to version `v1`.\u001b[0m\n",
      "  logger.deprecation(\n"
     ]
    },
    {
     "data": {
      "text/plain": [
       "{'CartPole-v0': 'Box([-4.8000002e+00 -3.4028235e+38 -4.1887903e-01 -3.4028235e+38], [4.8000002e+00 3.4028235e+38 4.1887903e-01 3.4028235e+38], (4,), float32)',\n",
       " 'CartPole-v1': 'Box([-4.8000002e+00 -3.4028235e+38 -4.1887903e-01 -3.4028235e+38], [4.8000002e+00 3.4028235e+38 4.1887903e-01 3.4028235e+38], (4,), float32)',\n",
       " 'MountainCar-v0': 'Box([-1.2  -0.07], [0.6  0.07], (2,), float32)',\n",
       " 'MountainCarContinuous-v0': 'Box([-1.2  -0.07], [0.6  0.07], (2,), float32)',\n",
       " 'Pendulum-v1': 'Box([-1. -1. -8.], [1. 1. 8.], (3,), float32)',\n",
       " 'Acrobot-v1': 'Box([ -1.        -1.        -1.        -1.       -12.566371 -28.274334], [ 1.        1.        1.        1.       12.566371 28.274334], (6,), float32)',\n",
       " 'LunarLander-v2': 'Box([-1.5       -1.5       -5.        -5.        -3.1415927 -5.\\n -0.        -0.       ], [1.5       1.5       5.        5.        3.1415927 5.        1.\\n 1.       ], (8,), float32)',\n",
       " 'LunarLanderContinuous-v2': 'Box([-1.5       -1.5       -5.        -5.        -3.1415927 -5.\\n -0.        -0.       ], [1.5       1.5       5.        5.        3.1415927 5.        1.\\n 1.       ], (8,), float32)',\n",
       " 'BipedalWalker-v3': 'Box([-3.1415927 -5.        -5.        -5.        -3.1415927 -5.\\n -3.1415927 -5.        -0.        -3.1415927 -5.        -3.1415927\\n -5.        -0.        -1.        -1.        -1.        -1.\\n -1.        -1.        -1.        -1.        -1.        -1.       ], [3.1415927 5.        5.        5.        3.1415927 5.        3.1415927\\n 5.        5.        3.1415927 5.        3.1415927 5.        5.\\n 1.        1.        1.        1.        1.        1.        1.\\n 1.        1.        1.       ], (24,), float32)',\n",
       " 'BipedalWalkerHardcore-v3': 'Box([-3.1415927 -5.        -5.        -5.        -3.1415927 -5.\\n -3.1415927 -5.        -0.        -3.1415927 -5.        -3.1415927\\n -5.        -0.        -1.        -1.        -1.        -1.\\n -1.        -1.        -1.        -1.        -1.        -1.       ], [3.1415927 5.        5.        5.        3.1415927 5.        3.1415927\\n 5.        5.        3.1415927 5.        3.1415927 5.        5.\\n 1.        1.        1.        1.        1.        1.        1.\\n 1.        1.        1.       ], (24,), float32)',\n",
       " 'CarRacing-v2': 'Box(0, 255, (96, 96, 3), uint8)',\n",
       " 'Blackjack-v1': 'Tuple(Discrete(32), Discrete(11), Discrete(2))',\n",
       " 'FrozenLake-v1': 'Discrete(16)',\n",
       " 'FrozenLake8x8-v1': 'Discrete(64)',\n",
       " 'CliffWalking-v0': 'Discrete(48)',\n",
       " 'Taxi-v3': 'Discrete(500)'}"
      ]
     },
     "execution_count": 35,
     "metadata": {},
     "output_type": "execute_result"
    }
   ],
   "source": [
    "dict_of_env = {}\n",
    "for env in lst_env:\n",
    "    print(env)\n",
    "    try:\n",
    "        dict_of_env[env] = f'{gym.make(env).observation_space}'\n",
    "    finally:\n",
    "        pass\n",
    "\n",
    "dict_of_env"
   ]
  },
  {
   "cell_type": "code",
   "execution_count": 41,
   "metadata": {},
   "outputs": [],
   "source": []
  },
  {
   "cell_type": "code",
   "execution_count": 2,
   "metadata": {},
   "outputs": [
    {
     "name": "stderr",
     "output_type": "stream",
     "text": [
      "                                                      "
     ]
    },
    {
     "name": "stdout",
     "output_type": "stream",
     "text": [
      "runtime = 8.81 seconds\n"
     ]
    },
    {
     "name": "stderr",
     "output_type": "stream",
     "text": [
      "\r"
     ]
    },
    {
     "data": {
      "text/plain": [
       "array([10.,  3.,  5.,  6.,  5.,  7., 11.,  8.,  5., 11.])"
      ]
     },
     "execution_count": 2,
     "metadata": {},
     "output_type": "execute_result"
    }
   ],
   "source": [
    "import gym\n",
    "import pygame\n",
    "from algorithms.rl import RL\n",
    "from algorithms.planner import Planner\n",
    "from examples.test_env import TestEnv\n",
    "\n",
    "\n",
    "class Taxi:\n",
    "    def __init__(self):\n",
    "        self.env = gym.make('Taxi-v3', render_mode=None)\n",
    "\n",
    "\n",
    "if __name__ == \"__main__\":\n",
    "\n",
    "    taxi = Taxi()\n",
    "\n",
    "    # VI/PI\n",
    "    # V, V_track, pi = Planner(taxi.env.P).value_iteration()\n",
    "    # V, V_track, pi = Planner(taxi.env.P).policy_iteration()\n",
    "\n",
    "    # Q-learning\n",
    "    Q, V, pi, Q_track, pi_track = RL(taxi.env).q_learning()\n",
    "\n",
    "    test_scores = TestEnv.test_env(env=taxi.env, render=False, user_input=False, pi=pi)\n",
    "\n",
    "test_scores"
   ]
  },
  {
   "cell_type": "code",
   "execution_count": 20,
   "metadata": {},
   "outputs": [
    {
     "name": "stdout",
     "output_type": "stream",
     "text": [
      "runtime = 0.77 seconds\n"
     ]
    },
    {
     "name": "stderr",
     "output_type": "stream",
     "text": [
      "c:\\Users\\lboad\\py_venv\\rl\\lib\\site-packages\\algorithms\\planner.py:76: UserWarning: Max iterations reached before convergence.  Check theta and n_iters.  \n",
      "  warnings.warn(\"Max iterations reached before convergence.  Check theta and n_iters.  \")\n"
     ]
    },
    {
     "data": {
      "text/plain": [
       "array([1., 0., 1., 1., 1., 0., 1., 1., 1., 1.])"
      ]
     },
     "execution_count": 20,
     "metadata": {},
     "output_type": "execute_result"
    }
   ],
   "source": [
    "# -*- coding: utf-8 -*-\n",
    "\n",
    "import gym\n",
    "import pygame\n",
    "from algorithms.rl import RL\n",
    "from algorithms.planner import Planner\n",
    "from examples.test_env import TestEnv\n",
    "\n",
    "\n",
    "class FrozenLake:\n",
    "    def __init__(self):\n",
    "        self.env = gym.make('FrozenLake8x8-v1', render_mode=None)\n",
    "\n",
    "\n",
    "# if __name__ == \"__main__\":\n",
    "\n",
    "frozen_lake = FrozenLake()\n",
    "\n",
    "# VI/PI\n",
    "# V, V_track, pi = Planner(frozen_lake.env.P).value_iteration()\n",
    "# V, V_track, pi = Planner(frozen_lake.env.P).policy_iteration()\n",
    "\n",
    "# Q-learning\n",
    "# Q, V, pi, Q_track, pi_track = RL(frozen_lake.env).q_learning()\n",
    "\n",
    "test_scores = TestEnv.test_env(env=frozen_lake.env, render=False, user_input=False, pi=pi)\n",
    "\n",
    "test_scores"
   ]
  },
  {
   "cell_type": "code",
   "execution_count": 29,
   "metadata": {},
   "outputs": [
    {
     "name": "stdout",
     "output_type": "stream",
     "text": [
      "runtime = 5.09 seconds\n"
     ]
    },
    {
     "data": {
      "image/png": "[encoded data removed]",
      "text/plain": [
       "<Figure size 640x480 with 1 Axes>"
      ]
     },
     "metadata": {},
     "output_type": "display_data"
    }
   ],
   "source": [
    "# -*- coding: utf-8 -*-\n",
    "import math\n",
    "\n",
    "import gym\n",
    "import pygame\n",
    "from algorithms.rl import RL\n",
    "from algorithms.planner import Planner\n",
    "from examples.test_env import TestEnv\n",
    "import numpy as np\n",
    "import pandas as pd\n",
    "import seaborn as sns\n",
    "import matplotlib.pyplot as plt\n",
    "import warnings\n",
    "from matplotlib.colors import LinearSegmentedColormap\n",
    "\n",
    "\n",
    "class Plots:\n",
    "    @staticmethod\n",
    "    def grid_world_policy_plot(data, label):\n",
    "        if not math.modf(math.sqrt(len(data)))[0] == 0.0:\n",
    "            warnings.warn(\"Grid map expected.  Check data length\")\n",
    "        else:\n",
    "            data = np.around(np.array(data).reshape((8, 8)), 2)\n",
    "            df = pd.DataFrame(data=data)\n",
    "            my_colors = ((0.0, 0.0, 0.0, 1.0), (0.8, 0.0, 0.0, 1.0), (0.0, 0.8, 0.0, 1.0), (0.0, 0.0, 0.8, 1.0))\n",
    "            cmap = LinearSegmentedColormap.from_list('Custom', my_colors, len(my_colors))\n",
    "            ax = sns.heatmap(df, cmap=cmap, linewidths=1.0)\n",
    "            colorbar = ax.collections[0].colorbar\n",
    "            colorbar.set_ticks([.4, 1.1, 1.9, 2.6])\n",
    "            colorbar.set_ticklabels(['Left', 'Down', 'Right', 'Up'])\n",
    "            plt.title(label)\n",
    "            plt.show()\n",
    "\n",
    "    @staticmethod\n",
    "    def grid_values_heat_map(data, label):\n",
    "        if not math.modf(math.sqrt(len(data)))[0] == 0.0:\n",
    "            warnings.warn(\"Grid map expected.  Check data length\")\n",
    "        else:\n",
    "            data = np.around(np.array(data).reshape((8, 8)), 2)\n",
    "            df = pd.DataFrame(data=data)\n",
    "            sns.heatmap(df, annot=True).set_title(label)\n",
    "            plt.show()\n",
    "\n",
    "    @staticmethod\n",
    "    def v_iters_plot(data, label):\n",
    "        df = pd.DataFrame(data=data)\n",
    "        df.columns = [label]\n",
    "        sns.set_theme(style=\"whitegrid\")\n",
    "        title = label + \" v Iterations\"\n",
    "        sns.lineplot(x=df.index, y=label, data=df).set_title(title)\n",
    "        plt.show()\n",
    "\n",
    "if __name__ == \"__main__\":\n",
    "    frozen_lake = gym.make('FrozenLake8x8-v1', render_mode=None)\n",
    "\n",
    "    # VI/PI grid_world_policy_plot\n",
    "    # V, V_track, pi = Planner(frozen_lake.env.P).value_iteration()\n",
    "    # n_states = frozen_lake.env.observation_space.n\n",
    "    # new_pi = list(map(lambda x: pi(x), range(n_states)))\n",
    "    # s = int(math.sqrt(n_states))\n",
    "    # Plots.grid_world_policy_plot(np.array(new_pi), \"Grid World Policy\")\n",
    "\n",
    "    # Q-learning grid_world_policy_plot\n",
    "    # Q, V, pi, Q_track, pi_track = RL(frozen_lake.env).q_learning()\n",
    "    # n_states = frozen_lake.env.observation_space.n\n",
    "    # new_pi = list(map(lambda x: pi(x), range(n_states)))\n",
    "    # s = int(math.sqrt(n_states))\n",
    "    # Plots.grid_world_policy_plot(np.array(new_pi), \"Grid World Policy\")\n",
    "\n",
    "    # Q-learning v_iters_plot\n",
    "    # Q, V, pi, Q_track, pi_track = RL(frozen_lake.env).q_learning()\n",
    "    # max_q_value_per_iter = np.amax(np.amax(Q_track, axis=2), axis=1)\n",
    "    # Plots.v_iters_plot(max_q_value_per_iter, \"Max Q-Values\")\n",
    "\n",
    "    # VI/PI v_iters_plot\n",
    "    # V, V_track, pi = Planner(frozen_lake.env.P).value_iteration()\n",
    "    # V, V_track, pi = Planner(frozen_lake.env.P).policy_iteration()\n",
    "    # max_value_per_iter = np.amax(V_track, axis=1)\n",
    "    # Plots.v_iters_plot(max_value_per_iter, \"Max State Values\")\n",
    "\n",
    "    # Q-learning grid_values_heat_map\n",
    "    # Q, V, pi, Q_track, pi_track = RL(frozen_lake.env).q_learning()\n",
    "    # Plots.grid_values_heat_map(V, \"State Values\")\n",
    "\n",
    "    # VI/PI grid_values_heat_map\n",
    "    # V, V_track, pi = Planner(frozen_lake.env.P).value_iteration()\n",
    "    # V, V_track, pi = Planner(frozen_lake.env.P).policy_iteration()\n",
    "    # Plots.grid_values_heat_map(V, \"State Values\")"
   ]
  },
  {
   "cell_type": "code",
   "execution_count": null,
   "metadata": {},
   "outputs": [],
   "source": [
    "def Q_learning_grid_search(env, epsilon_decay, iters):\n",
    "    for i in itertools.product(epsilon_decay, iters):\n",
    "        print(\"running q-learn -- with epsilon decay: \", i[0],  \" iterations: \", i[1])\n",
    "        Q, V, pi, Q_track, pi_track = RL(env).q_learning(epsilon_decay_ratio=i[0], n_episodes=i[1])\n",
    "\n",
    "def sarsa_grid_search(env, epsilon_decay, iters):\n",
    "    for i in itertools.product(epsilon_decay, iters):\n",
    "        print(\"running sarsa -- with epsilon decay: \", i[0],  \" iterations: \", i[1])\n",
    "        Q, V, pi, Q_track, pi_track = RL(env).sarsa(epsilon_decay_ratio=i[0], n_episodes=i[1])"
   ]
  },
  {
   "cell_type": "code",
   "execution_count": null,
   "metadata": {},
   "outputs": [],
   "source": [
    "epsilon_decay = [.4, .7, .9]\n",
    "iters = [500, 5000, 50000]\n",
    "grid_results = GridSearch.Q_learning_grid_search(frozen_lake.env, epsilon_decay, iters)"
   ]
  },
  {
   "cell_type": "code",
   "execution_count": 12,
   "metadata": {},
   "outputs": [
    {
     "name": "stdout",
     "output_type": "stream",
     "text": [
      "runtime = 5.39 seconds\n"
     ]
    },
    {
     "data": {
      "image/png": "[encoded data removed]",
      "text/plain": [
       "<Figure size 640x480 with 2 Axes>"
      ]
     },
     "metadata": {},
     "output_type": "display_data"
    }
   ],
   "source": [
    "#plot state values\n",
    "from examples.plots import Plots\n",
    "frozen_lake = gym.make('FrozenLake8x8-v1', render_mode=None)\n",
    "V, V_track, pi = Planner(frozen_lake.env.P).policy_iteration()\n",
    "Plots.grid_values_heat_map(V, \"State Values\")"
   ]
  },
  {
   "cell_type": "code",
   "execution_count": 37,
   "metadata": {},
   "outputs": [
    {
     "name": "stderr",
     "output_type": "stream",
     "text": [
      "c:\\Users\\lboad\\py_venv\\rl\\lib\\site-packages\\gymnasium\\core.py:311: UserWarning: \u001b[33mWARN: env.P to get variables from other wrappers is deprecated and will be removed in v1.0, to get this variable you can do `env.unwrapped.P` for environment variables or `env.get_wrapper_attr('P')` that will search the reminding wrappers.\u001b[0m\n",
      "  logger.warn(\n"
     ]
    },
    {
     "data": {
      "text/plain": [
       "dict"
      ]
     },
     "execution_count": 37,
     "metadata": {},
     "output_type": "execute_result"
    }
   ],
   "source": [
    "frozen_lake = gym.make('FrozenLake8x8-v1', render_mode=None)\n",
    "type(frozen_lake.env.P)"
   ]
  },
  {
   "cell_type": "code",
   "execution_count": 1,
   "metadata": {},
   "outputs": [
    {
     "ename": "NameError",
     "evalue": "name 'frozen_lake' is not defined",
     "output_type": "error",
     "traceback": [
      "\u001b[1;31m---------------------------------------------------------------------------\u001b[0m",
      "\u001b[1;31mNameError\u001b[0m                                 Traceback (most recent call last)",
      "\u001b[1;32mc:\\Users\\lboad\\Documents\\omscs\\machine_learning\\4_reinforcement_learning\\rl_practice.ipynb Cell 16\u001b[0m line \u001b[0;36m1\n\u001b[1;32m----> <a href='vscode-notebook-cell:/c%3A/Users/lboad/Documents/omscs/machine_learning/4_reinforcement_learning/rl_practice.ipynb#X21sZmlsZQ%3D%3D?line=0'>1</a>\u001b[0m frozen_lake\u001b[39m.\u001b[39menv\n",
      "\u001b[1;31mNameError\u001b[0m: name 'frozen_lake' is not defined"
     ]
    }
   ],
   "source": [
    "frozen_lake.env"
   ]
  },
  {
   "cell_type": "code",
   "execution_count": null,
   "metadata": {},
   "outputs": [],
   "source": []
  }
 ],
 "metadata": {
  "kernelspec": {
   "display_name": "ml",
   "language": "python",
   "name": "python3"
  },
  "language_info": {
   "codemirror_mode": {
    "name": "ipython",
    "version": 3
   },
   "file_extension": ".py",
   "mimetype": "text/x-python",
   "name": "python",
   "nbconvert_exporter": "python",
   "pygments_lexer": "ipython3",
   "version": "3.8.10"
  }
 },
 "nbformat": 4,
 "nbformat_minor": 2
}
