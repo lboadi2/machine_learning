{
 "cells": [
  {
   "cell_type": "code",
   "execution_count": 5,
   "metadata": {},
   "outputs": [],
   "source": [
    "import pandas as pd\n",
    "import numpy as np\n",
    "import gymnasium as gym\n",
    "from gymnasium.wrappers import FlattenObservation\n",
    "import pygame\n",
    "from algorithms.rl import RL\n",
    "from examples.test_env import TestEnv\n",
    "from algorithms.planner import Planner\n",
    "import itertools\n",
    "import os\n",
    "import pickle\n",
    "import matplotlib.pyplot as plt\n",
    "import seaborn as sns\n",
    "\n",
    "# grid search\n",
    "from examples.grid_search import GridSearch"
   ]
  },
  {
   "cell_type": "code",
   "execution_count": 6,
   "metadata": {},
   "outputs": [],
   "source": [
    "# -*- coding: utf-8 -*-\n",
    "\"\"\"\n",
    "Author: John Mansfield\n",
    "\"\"\"\n",
    "class Blackjack:\n",
    "    def __init__(self):\n",
    "        self._env = gym.make('Blackjack-v1', render_mode=None)\n",
    "        # Explanation of convert_state_obs lambda:\n",
    "        # def function(state, done):\n",
    "        # \tif done:\n",
    "\t\t#         return -1\n",
    "        #     else:\n",
    "        #         if state[2]:\n",
    "        #             int(f\"{state[0]+6}{(state[1]-2)%10}\")\n",
    "        #         else:\n",
    "        #             int(f\"{state[0]-4}{(state[1]-2)%10}\")\n",
    "        self._convert_state_obs = lambda state, done: (\n",
    "            -1 if done else int(f\"{state[0] + 6}{(state[1] - 2) % 10}\") if state[2] else int(\n",
    "                f\"{state[0] - 4}{(state[1] - 2) % 10}\"))\n",
    "        \n",
    "        # Transitions and rewards matrix from: https://github.com/rhalbersma/gym-blackjack-v1\n",
    "        # current_dir = os.path.dirname(__file__)\n",
    "        file_name = 'blackjack-envP'\n",
    "        f = os.path.join(file_name)\n",
    "        try:\n",
    "            self._P = pickle.load(open(f, \"rb\"))\n",
    "        except IOError:\n",
    "            print(\"Pickle load failed.  Check path\", f)\n",
    "        self._n_actions = self.env.action_space.n\n",
    "        self._n_states = len(self._P)\n",
    "\n",
    "    @property\n",
    "    def n_actions(self):\n",
    "        return self._n_actions\n",
    "\n",
    "    @n_actions.setter\n",
    "    def n_actions(self, n_actions):\n",
    "        self._n_actions = n_actions\n",
    "\n",
    "    @property\n",
    "    def n_states(self):\n",
    "        return self._n_states\n",
    "\n",
    "    @n_states.setter\n",
    "    def n_states(self, n_states):\n",
    "        self._n_states = n_states\n",
    "\n",
    "    @property\n",
    "    def P(self):\n",
    "        return self._P\n",
    "\n",
    "    @P.setter\n",
    "    def P(self, P):\n",
    "        self._P = P\n",
    "\n",
    "    @property\n",
    "    def env(self):\n",
    "        return self._env\n",
    "\n",
    "    @env.setter\n",
    "    def env(self, env):\n",
    "        self._env = env\n",
    "\n",
    "    @property\n",
    "    def convert_state_obs(self):\n",
    "        return self._convert_state_obs\n",
    "\n",
    "    @convert_state_obs.setter\n",
    "    def convert_state_obs(self, convert_state_obs):\n",
    "        self._convert_state_obs = convert_state_obs\n",
    "\n",
    "\n",
    "if __name__ == \"__main__\":\n",
    "    blackjack = Blackjack()\n",
    "\n",
    "    # VI/PI\n",
    "    # V, V_track, pi = Planner(blackjack.P).value_iteration()\n",
    "    # V, V_track, pi = Planner(blackjack.P).policy_iteration()\n",
    "\n",
    "    # Q-learning\n",
    "    # Q, V, pi, Q_track, pi_track = RL(blackjack.env).q_learning(blackjack.n_states, blackjack.n_actions, blackjack.convert_state_obs)\n",
    "\n",
    "    # test_scores = TestEnv.test_env(env=blackjack.env, render=True, pi=pi, user_input=False,\n",
    "                                #    convert_state_obs=blackjack.convert_state_obs)"
   ]
  },
  {
   "cell_type": "code",
   "execution_count": 8,
   "metadata": {},
   "outputs": [],
   "source": [
    "class Plots:\n",
    "\n",
    "    @staticmethod\n",
    "    def v_iters_plot(data, label):\n",
    "        df = pd.DataFrame(data=data)\n",
    "        df.columns = [label]\n",
    "        sns.set_theme(style=\"whitegrid\")\n",
    "        title = label + \" v Iterations\"\n",
    "        sns.lineplot(x=df.index, y=label, data=df).set_title(title)\n",
    "        plt.show()"
   ]
  },
  {
   "cell_type": "markdown",
   "metadata": {},
   "source": [
    "## Value Iteration"
   ]
  },
  {
   "cell_type": "code",
   "execution_count": 12,
   "metadata": {},
   "outputs": [
    {
     "name": "stdout",
     "output_type": "stream",
     "text": [
      "runtime = 0.03 seconds\n"
     ]
    },
    {
     "data": {
      "image/png": "[encoded data removed]",
      "text/plain": [
       "<Figure size 640x480 with 1 Axes>"
      ]
     },
     "metadata": {},
     "output_type": "display_data"
    }
   ],
   "source": [
    "V, V_track, pi, conv_track = Planner(blackjack.P).value_iteration(gamma=0.05)\n",
    "\n",
    "# test_scores = TestEnv.test_env(env=blackjack.env, render=False, pi=pi, user_input=False,\n",
    "                                # convert_state_obs=blackjack.convert_state_obs)\n",
    "\n",
    "max_value_per_iter = np.mean(V_track, axis=1)\n",
    "\n",
    "Plots.v_iters_plot(max_value_per_iter, \"Mean State Values\")\n",
    "# plt.plot(conv_track)"
   ]
  },
  {
   "cell_type": "code",
   "execution_count": 15,
   "metadata": {},
   "outputs": [],
   "source": [
    "# Q, V, pi, Q_track, pi_track = RL(blackjack.env).q_learning(blackjack.n_states, blackjack.n_actions,\n",
    "                                                            # blackjack.convert_state_obs, gamma=0.5)\n",
    "\n",
    "# test_scores = TestEnv.test_env(env=blackjack.env, render=False, pi=pi, user_input=False,\n",
    "                                # convert_state_obs=blackjack.convert_state_obs)\n",
    "\n",
    "# max_value_per_iter = np.mean(Q_track, axis=1)\n",
    "\n",
    "# Plots.v_iters_plot(max_value_per_iter, \"Mean State Values\")\n",
    "\n",
    "# plt.plot(test_scores)"
   ]
  },
  {
   "cell_type": "code",
   "execution_count": null,
   "metadata": {},
   "outputs": [],
   "source": []
  }
 ],
 "metadata": {
  "kernelspec": {
   "display_name": "rl",
   "language": "python",
   "name": "python3"
  },
  "language_info": {
   "codemirror_mode": {
    "name": "ipython",
    "version": 3
   },
   "file_extension": ".py",
   "mimetype": "text/x-python",
   "name": "python",
   "nbconvert_exporter": "python",
   "pygments_lexer": "ipython3",
   "version": "3.8.10"
  }
 },
 "nbformat": 4,
 "nbformat_minor": 2
}
